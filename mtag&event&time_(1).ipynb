{
  "cells": [
    {
      "cell_type": "code",
      "execution_count": null,
      "metadata": {
        "id": "Wd1GNk2CLbw5"
      },
      "outputs": [],
      "source": [
        "import random\n",
        "import pickle\n",
        "import numpy as np\n",
        "import pandas as pd\n",
        "from datetime import datetime\n",
        "#from sklearn.preprocessing import OneHotEncoder"
      ]
    },
    {
      "cell_type": "markdown",
      "metadata": {
        "id": "HIR0RnV3Lbw7"
      },
      "source": [
        "## Here take mtags file where member id AND IT'S TAGS ARE PRESENT"
      ]
    },
    {
      "cell_type": "code",
      "execution_count": null,
      "metadata": {
        "id": "iGNRvXt9Lbw7",
        "outputId": "00e6d4d0-bbf4-4475-fce9-f2f47e52df62"
      },
      "outputs": [
        {
          "name": "stdout",
          "output_type": "stream",
          "text": [
            "423763\n",
            "(57671682, set([u'Dining Out', u\"Singles 30's-50's\", u'Dating and Relationships', u\"Women's Health and Wellness\", u\"Women's Social\", u\"Women's Self-Defense\"]))\n",
            "(100663302, set([]))\n",
            "(209715208, set([u'Collaboration between Creative Minds', u'Bicycling', u'Travel', u'Cooking', u'Creativity', u'Parents', u'Self-Improvement', u'Pets', u'Single Parent Support', u'Dogs', u'Live Music', u'Shopping', u'Moms', u'Healthy Living', u'Crafts', u'Work at Home Moms', u'Divorced Parents', u'Fun Times', u'Paper Crafts', u'Dining Out', u'Dating and Relationships', u'Small Breed Dogs', u'Steampunk', u'Eating, Drinking, Talking, Laughing, Etc', u'Fashion and Style', u'Musicians', u'Historic Buildings', u'Outdoors', u'Hiking', u'Conversation', u'Playdates', u'Fun and Laughter', u'Safe Skin Care & Cosmetics', u'Whole Food Nutrition', u'Artists', u'Music', u'Meditation', u'Dog Playgroups']))\n",
            "(127926282, set([u'SEO (Search Engine Optimization)', u'WordPress', u'WordPress Small Business Web Sites']))\n",
            "(152043532, set([]))\n",
            "(9262424, set([u'Digital Photography', u'computer graphics', u'Art', u'Camping', u'Web Design', u'Bicycling', u'Chinese Culture', u'Travel', u'Graphic Design', u'Adventure', u'Backpacking', u'Soccer', u'Hiking', u'Chinese Language']))\n",
            "(4194322, set([]))\n"
          ]
        }
      ],
      "source": [
        "ct=0\n",
        "mtags=pickle.load(open('mtags','r'))\n",
        "print(len(mtags))\n",
        "for m in mtags:\n",
        "    print(m,mtags[m])\n",
        "    if ct>5:\n",
        "        break\n",
        "    ct+=1"
      ]
    },
    {
      "cell_type": "markdown",
      "metadata": {
        "id": "EXmmZf2GLbw8"
      },
      "source": [
        "## Here mem_at file take where member id and their attend events and duration given"
      ]
    },
    {
      "cell_type": "code",
      "execution_count": null,
      "metadata": {
        "id": "vSD64H2VLbw8",
        "outputId": "9972791c-cb3a-4f91-b5ec-6df0248f28f4"
      },
      "outputs": [
        {
          "name": "stdout",
          "output_type": "stream",
          "text": [
            "223788\n",
            "('NEW ID  ', 57671682, set([(u'74913292', 1344724200000L)]))\n",
            "('NEW ID  ', 188219397, set([(u'227073685', 1450224000000L)]))\n",
            "('NEW ID  ', 100663302, set([(u'dhzjmgyrnbnc', 1383175800000L), (u'dhzjmgyrlblc', 1377732600000L), (u'dhzjmgyrnbdb', 1380756600000L), (u'dhzjmgyrqbxb', 1387413000000L), (u'dhzjmgyrlbcc', 1377127800000L), (u'dhzjmgyrnbvb', 1381966200000L), (u'dhzjmgyrlbsb', 1376523000000L)]))\n",
            "('NEW ID  ', 90701832, set([(u'166281682', 1400626800000L)]))\n",
            "('NEW ID  ', 200802315, set([(u'ghsfrlyvfbnc', 1459381500000L)]))\n",
            "('NEW ID  ', 152043532, set([(u'xvgznyskbdb', 1404345600000L)]))\n",
            "('NEW ID  ', 180180312, set([(u'211533242', 1414884600000L)]))\n"
          ]
        }
      ],
      "source": [
        "\n",
        "#It gives the set of (event-id, event_time) for all the events attended by each user.\n",
        "ct=0\n",
        "mem_at=pickle.load(open('mem_at','r'))\n",
        "print(len(mem_at))\n",
        "for m in mem_at:\n",
        "    print(\"NEW ID  \",m,mem_at[m])\n",
        "    if ct>5:\n",
        "        break\n",
        "    ct+=1"
      ]
    },
    {
      "cell_type": "code",
      "execution_count": null,
      "metadata": {
        "id": "8vLogNhbLbw8",
        "outputId": "ed2b6ce0-246a-4e76-baf1-16520e532b53"
      },
      "outputs": [
        {
          "name": "stdout",
          "output_type": "stream",
          "text": [
            "57671682\n",
            "True\n",
            "188219397\n",
            "True\n",
            "100663302\n",
            "True\n",
            "90701832\n",
            "True\n",
            "200802315\n",
            "True\n",
            "152043532\n",
            "True\n",
            "180180312\n",
            "True\n"
          ]
        }
      ],
      "source": [
        "##checking mem_at keys are same as mtags keys\n",
        "ct=0\n",
        "keys = list(mtags.keys())\n",
        "#ename_CH=pickle.load(open('ename_bhnoda_155_CH','r'))\n",
        "#print(len(ename_CH))\n",
        "for m in mem_at:\n",
        "    print(m)\n",
        "    if m in keys:\n",
        "        print(\"True\")\n",
        "    else: print(\"false\")\n",
        "    if ct>5:\n",
        "        break\n",
        "    ct+=1"
      ]
    },
    {
      "cell_type": "code",
      "execution_count": null,
      "metadata": {
        "id": "avBqX1mILbw9",
        "outputId": "178b2d95-317f-42fd-ea06-9ed3b230d0fc"
      },
      "outputs": [
        {
          "name": "stdout",
          "output_type": "stream",
          "text": [
            "223788\n",
            "[57671682, 188219397, 100663302, 90701832, 200802315]\n",
            "223788\n"
          ]
        }
      ],
      "source": [
        "##Here I taking the keys of mtags and make a list and set\n",
        "s=[]\n",
        "for m in mem_at:\n",
        "    #print(m,mtags[m])\n",
        "    s.append(m)\n",
        "print(len(s))\n",
        "print(s[0:5])\n",
        "print(len(set(s)))\n",
        "unique_s=set(s)"
      ]
    },
    {
      "cell_type": "code",
      "execution_count": null,
      "metadata": {
        "id": "QUVTU-OKLbw9",
        "outputId": "c76b5fde-844e-4fa6-f43c-d5312c102eb6"
      },
      "outputs": [
        {
          "name": "stdout",
          "output_type": "stream",
          "text": [
            "223788\n",
            "[(u'74913292', 1344724200000L)]\n",
            "1\n",
            "[(u'227073685', 1450224000000L)]\n",
            "1\n",
            "[(u'dhzjmgyrnbnc', 1383175800000L), (u'dhzjmgyrlblc', 1377732600000L), (u'dhzjmgyrnbdb', 1380756600000L), (u'dhzjmgyrqbxb', 1387413000000L), (u'dhzjmgyrlbcc', 1377127800000L), (u'dhzjmgyrnbvb', 1381966200000L), (u'dhzjmgyrlbsb', 1376523000000L)]\n",
            "7\n",
            "[(u'166281682', 1400626800000L)]\n",
            "1\n",
            "[(u'ghsfrlyvfbnc', 1459381500000L)]\n",
            "1\n"
          ]
        }
      ],
      "source": [
        "## Here I taking values of mem_at file.\n",
        "ct=0\n",
        "l=[]\n",
        "for m in mem_at:\n",
        "    #print(m,mtags[m])\n",
        "    l.append(list(mem_at[m]))\n",
        "print(len(l))\n",
        "#print((l[5]))\n",
        "for i in range(5):\n",
        "    print((l[i]))\n",
        "    print(len(l[i]))"
      ]
    },
    {
      "cell_type": "code",
      "execution_count": null,
      "metadata": {
        "id": "XB9KBNSgLbw9",
        "outputId": "a49706b5-6b0a-4c68-86eb-d7c0199dfb68"
      },
      "outputs": [
        {
          "name": "stdout",
          "output_type": "stream",
          "text": [
            "('len of k= ', 2261042)\n"
          ]
        }
      ],
      "source": [
        "#Here I taking all events and their duration in a list\n",
        "k=[]\n",
        "for i in range(len(l)):\n",
        "\n",
        "\n",
        "    for j in range(len(l[i])):\n",
        "        #m.append(s[i])\n",
        "        k.append(l[i][j])\n",
        "print(\"len of k= \",len(k))\n",
        "#print(\"len of m= \",len(m))\n",
        "k[0:8]\n",
        "set_k=set(k)\n",
        "# l1=list(set(k))\n",
        "# print(len(set(k)))"
      ]
    },
    {
      "cell_type": "code",
      "execution_count": null,
      "metadata": {
        "id": "0HQEKZu5Lbw9",
        "outputId": "f0a6dae7-e71c-4b3e-c673-55f93afe19f4"
      },
      "outputs": [
        {
          "data": {
            "text/plain": [
              "2261042"
            ]
          },
          "execution_count": 13,
          "metadata": {},
          "output_type": "execute_result"
        }
      ],
      "source": [
        "len(k)"
      ]
    },
    {
      "cell_type": "markdown",
      "metadata": {
        "id": "41BXUgEhLbw9"
      },
      "source": [
        "## Here I take 'edata' file where has event id and place id"
      ]
    },
    {
      "cell_type": "code",
      "execution_count": null,
      "metadata": {
        "id": "Wgjt1CfALbw-",
        "outputId": "7667d975-2506-4a40-84ed-4412572f3e40"
      },
      "outputs": [
        {
          "name": "stdout",
          "output_type": "stream",
          "text": [
            "581546\n",
            "(u'dlfrldysgbbc', 4410512)\n",
            "(u'222202616', None)\n",
            "(u'hrkzllyvfbjc', 1308946)\n",
            "(u'170374282', 250527)\n",
            "(u'120420672', None)\n",
            "(u'222202619', None)\n",
            "(u'qvhhnyqcblc', None)\n"
          ]
        }
      ],
      "source": [
        "\n",
        "#It gives the set of (event-id, event_place id) for all the events attended by each user.\n",
        "ct=0\n",
        "edata=pickle.load(open('edata','r'))\n",
        "print(len(edata))\n",
        "for m in edata:\n",
        "    print(m,edata[m])\n",
        "    if ct>5:\n",
        "        break\n",
        "    ct+=1"
      ]
    },
    {
      "cell_type": "code",
      "execution_count": null,
      "metadata": {
        "id": "n13M7FW1Lbw-",
        "outputId": "2e77627b-ebc9-4257-c295-720431411b77"
      },
      "outputs": [
        {
          "name": "stdout",
          "output_type": "stream",
          "text": [
            "463897\n",
            "(u'dlfrldysgbbc', 4410512)\n",
            "(u'hrkzllyvfbjc', 1308946)\n",
            "(u'170374282', 250527)\n",
            "(u'228592712', 24296810)\n",
            "(u'njvctlyvlbhc', 839555)\n",
            "(u'dpqbgcyrnbqb', 1316418)\n",
            "(u'dxzpffywjbfc', 250696)\n"
          ]
        }
      ],
      "source": [
        "##clear the none values\n",
        "d={}\n",
        "for i in edata:\n",
        "    if edata[i]!=None:\n",
        "        d[i]=edata[i]\n",
        "print(len(d))\n",
        "ct=0\n",
        "for m in d:\n",
        "    print(m,d[m])\n",
        "    if ct>5:\n",
        "        break\n",
        "    ct+=1"
      ]
    },
    {
      "cell_type": "code",
      "execution_count": null,
      "metadata": {
        "id": "hXmUiUEuLbw-",
        "outputId": "990020cd-bf85-4967-acd4-111d9eca2d41"
      },
      "outputs": [
        {
          "name": "stdout",
          "output_type": "stream",
          "text": [
            "463897\n",
            "[u'dlfrldysgbbc', u'hrkzllyvfbjc', u'170374282', u'228592712', u'njvctlyvlbhc']\n",
            "463897\n"
          ]
        }
      ],
      "source": [
        "##taking keys of event place file\n",
        "s1=[]\n",
        "for m in d:\n",
        "    #print(m,mtags[m])\n",
        "    s1.append(m)\n",
        "print(len(s1))\n",
        "print(s1[0:5])\n",
        "print(len(set(s1)))\n",
        "unique_s1=set(s1)"
      ]
    },
    {
      "cell_type": "markdown",
      "metadata": {
        "id": "Nw9QiEIYLbw-"
      },
      "source": [
        "## New 'et' file of event and time& date file"
      ]
    },
    {
      "cell_type": "code",
      "execution_count": null,
      "metadata": {
        "id": "Hw0HHpceLbw-",
        "outputId": "0a83eb80-029a-48e9-e3fa-9f929eba3b25"
      },
      "outputs": [
        {
          "name": "stdout",
          "output_type": "stream",
          "text": [
            "430406\n",
            "(u'dlfrldysgbbc', 1398015000000L)\n",
            "(u'222202616', 1431475200000L)\n",
            "(u'170374282', 1403366400000L)\n",
            "(u'120420672', 1370098800000L)\n",
            "(u'222202619', 1431561600000L)\n",
            "(u'qvhhnyqcblc', 1327770000000L)\n",
            "(u'dpqbgcyrnbqb', 1381586400000L)\n"
          ]
        }
      ],
      "source": [
        "\"\"\"\n",
        "It is a dictionary which stores the starting times of the events given its id.\n",
        "It is in unix epoch format. To convert to datetime, may use something like\n",
        "- https://stackoverflow.com/questions/21787496/converting-epoch-time-with\n",
        "-milliseconds-to-datetime\n",
        "\"\"\"\n",
        "ct=0\n",
        "et=pickle.load(open('et','r'))\n",
        "print(len(et))\n",
        "for m in et:\n",
        "    print(m,et[m])\n",
        "    if ct>5:\n",
        "        break\n",
        "    ct+=1"
      ]
    },
    {
      "cell_type": "code",
      "execution_count": null,
      "metadata": {
        "id": "UUTqnvjzLbw-",
        "outputId": "75b027c7-bd56-4c42-8a85-5aeaeff88286"
      },
      "outputs": [
        {
          "name": "stdout",
          "output_type": "stream",
          "text": [
            "430406\n"
          ]
        }
      ],
      "source": [
        "##taking common element of e_time and mem_at file event attend by customer file\n",
        "ct=0\n",
        "k1=[]\n",
        "#et=pickle.load(open('et','r'))\n",
        "print(len(et))\n",
        "for m in et:\n",
        "    k1.append((m,et[m]))"
      ]
    },
    {
      "cell_type": "code",
      "execution_count": null,
      "metadata": {
        "id": "uOdE60P1Lbw-"
      },
      "outputs": [],
      "source": [
        "k1[:5]\n",
        "set_k1=set(k1)"
      ]
    },
    {
      "cell_type": "code",
      "execution_count": null,
      "metadata": {
        "id": "JTFDRBnLLbw-",
        "outputId": "62a5991a-924f-4337-c9b0-a3dbf282c4e4"
      },
      "outputs": [
        {
          "name": "stdout",
          "output_type": "stream",
          "text": [
            "(430406, 401007)\n"
          ]
        }
      ],
      "source": [
        "print(len(set_k1),len(set_k))"
      ]
    },
    {
      "cell_type": "code",
      "execution_count": null,
      "metadata": {
        "id": "nfTWwuUxLbw-",
        "outputId": "85efb462-c968-48d7-a2e5-208f864dc275"
      },
      "outputs": [
        {
          "data": {
            "text/plain": [
              "401007"
            ]
          },
          "execution_count": 21,
          "metadata": {},
          "output_type": "execute_result"
        }
      ],
      "source": [
        "## Taking common of 'mem_at' value and \"et\" file data,which has (event id,duration)\n",
        "common1=(list(set_k1.intersection(set_k)))\n",
        "len(common1)\n",
        "#common1[:5]"
      ]
    },
    {
      "cell_type": "code",
      "execution_count": null,
      "metadata": {
        "id": "6CifRJPbLbw-"
      },
      "outputs": [],
      "source": [
        "#taking event id only and left the duration\n",
        "event_id=[]\n",
        "for i in range(len(common1)):\n",
        "    event_id.append(common1[i][0])\n",
        "unique_event_id=set(event_id)"
      ]
    },
    {
      "cell_type": "markdown",
      "metadata": {
        "id": "5leTUgNxLbw_"
      },
      "source": [
        "## Here is e_duration file which has duration"
      ]
    },
    {
      "cell_type": "code",
      "execution_count": null,
      "metadata": {
        "id": "VmsMIhywLbw_",
        "outputId": "40f11686-4fb4-45af-c02e-2b1583a1e8cd"
      },
      "outputs": [
        {
          "name": "stdout",
          "output_type": "stream",
          "text": [
            "156617\n",
            "(u'178787772', 5400000)\n",
            "(u'233043815', 28800000)\n",
            "(u'225522343', 21600000)\n",
            "(u'219997281', 1800000)\n",
            "(u'179620872', 7200000)\n",
            "(u'170374282', 21600000)\n",
            "(u'wgsfllytqbwb', 7200000)\n"
          ]
        }
      ],
      "source": [
        "#It is a dictionary giving the duration of each event given its id.\n",
        "\n",
        "ct=0\n",
        "e_duration=pickle.load(open('e_duration','r'))\n",
        "print(len(e_duration))\n",
        "for m in e_duration:\n",
        "    print(m,e_duration[m])\n",
        "    if ct>5:\n",
        "        break\n",
        "    ct+=1"
      ]
    },
    {
      "cell_type": "code",
      "execution_count": null,
      "metadata": {
        "id": "CWBjAm2sLbw_"
      },
      "outputs": [],
      "source": [
        "#Here we make duration in hour\n",
        "from __future__ import division\n",
        "for m in e_duration:\n",
        "    e_duration[m]=round(e_duration[m]/3600000)"
      ]
    },
    {
      "cell_type": "code",
      "execution_count": null,
      "metadata": {
        "id": "-5zjjJJQLbw_"
      },
      "outputs": [],
      "source": [
        "#making subset of et\n",
        "set_keysOfDuration=set(e_duration.keys())"
      ]
    },
    {
      "cell_type": "code",
      "execution_count": null,
      "metadata": {
        "id": "pWgVRGDjLbw_"
      },
      "outputs": [],
      "source": []
    },
    {
      "cell_type": "markdown",
      "metadata": {
        "id": "ghK1j3HNLbw_"
      },
      "source": [
        "## New file of event description"
      ]
    },
    {
      "cell_type": "code",
      "execution_count": null,
      "metadata": {
        "id": "UnxkrKeuLbw_",
        "outputId": "cb64cbc5-c5e7-4c08-e5a6-a0be39796f6a"
      },
      "outputs": [
        {
          "name": "stdout",
          "output_type": "stream",
          "text": [
            "844249\n",
            "('NEW ID  ', u'222202616', u'<p><a href=\"https://vimeo.com/113828701\" class=\"embedded\">https://vimeo.com/113828701</a></p> <p><b>Learn how to make a professional website with Wordpress</b></p> <p><br/>~~~</p> <p>Important Note: This is an online class that you take at your own time, at your own pace and from anywhere in the World.\\xa0</p> <p>Purchase Class:\\xa0<a href=\"http://online-classes.startupsaturdays.net/product/learn-to-make-your-own-business-or-personal-website/\"><a href=\"http://online-classes.startupsaturdays.net/product/learn-to-make-your-own-business-or-personal-website/\" class=\"linkified\">http://online-classes.startupsaturdays.net/product/learn-to-make-your-own-business-or-personal-website/</a></a></p> <p>~~~</p> <p>There are no words to explain how important this class is. If you are ever going to only take 1 class in web development then this is the class you want to take. WordPress is revolutionary, its a trend setter, its the future, its the stuff that all those developers are using that you are paying to work for you. This is your opportunity to understand this phenomenal technology. You will never see the internet the same way.</p> <p>Take advantage of this opportunity to change your perspective for life. The internet is the gift of this generation; take advantage of it and don\\u2019t let this opportunity go to waste. Knowing WordPress will give you access to one of the strongest tools of our times. Don\\u2019t let this opportunity go to waste. What you learn in this class will change your perspective of the internet for ever.</p> <p>Don\\u2019t you want to have better control over your internet experience? Don\\u2019t you want to be the master of your own internet destiny? Have you ever found yourself wanting to make a website but didn\\u2019t know what to do?</p> <p>In 100 years from now WordPress will be remembered as one of the most significant achievements of mankind right next to the Moon Landing. WordPress has empowered the individual to have a real presence and a voice on the internet.</p> <p>With WordPress you make your own website.</p> <p>WordPress is currently used by The New York Times, CNN, Forbes, Reuters, GM, UPS, Ebay, Sony, Best Buy, The Rolling Stones, Jay-Z, Katy Perry, MP3.com, IZOD, Kineda, StyleWatch, Mashable and Time Magazine just to name a few notable users.</p> <p>If you have ever felt the slightest bit of impairment as a result of not knowing how to make a website then this right here is your opportunity to shine on and get the skinny on how to make your own website. Take this class and stop paying other programmers to make your websites for you.</p> <p><a href=\"http://www.appcelerator.com/\">&lt;/a&gt;</p> <p>~~~</p> <p>Important Note: This is an online class that you take at your own time, at your own pace and from anywhere in the World.\\xa0</p> <p>Purchase Class:\\xa0&lt;a href=\"http://online-classes.startupsaturdays.net/product/learn-to-make-your-own-business-or-personal-website/\"&gt;<a href=\"http://online-classes.startupsaturdays.net/product/learn-to-make-your-own-business-or-personal-website/\" class=\"linkified\">http://online-classes.startupsaturdays.net/product/learn-to-make-your-own-business-or-personal-website/</a></a></p> <p>~~~</p>')\n",
            "\n",
            "\n",
            "('NEW ID  ', u'kbqgvpyxjbvb', u\"<p>Is your business listed on google?<br/>We'd be glad to help you listed, we can either do this in person or we can collect the info and listed for you. Please note google require a physical address for the listing (a P.O.BOX is not accepted).</p> <p>Cost for the listing is $50 one time payment, credit card, cash or feel free to suggest other FOP. There are agencies that are<br/>charging for the same service up to $500.</p> <p>You do not have to attend a meetup event, we can either schedule an appointment during the week or over the weekend, some temps are available late hours as well.<br/>We might be able to come to your location (office, coffee shop etc) as long as the commute is reasonable for our temps, some of them only take public transportation.<br/>If you don't have the time to meet, no worries we can accommodate you as well.<br/>Feel free to call, email us, we can collect all necessary info as well the payment and go from there. We will not ask you for a copy of your legal documents or your ID just basic business &amp; owner info, name etc. Feel free to reach out to us with any questions.<br/>980 N Michigan Ave, Chicago, IL 60611<br/>[masked]<br/>[masked]</p>\")\n",
            "\n",
            "\n",
            "('NEW ID  ', u'jpstnmywdbqb', u'<p>Join us for a 4-week session of progressive Bachata classes! Learn the foundations of this very popular, sexy Dominican dance the right way.</p> <p><b>The 4-week session begins on February 5, 2017, and will go until\\xa0February\\xa026. Enrollment is open for the first two weeks, after those dates we ask that you sign up for the next session.</b></p> <p>No partner is necessary, we rotate partners throughout the lessons.</p> <p>As this is a progressive series of classes, we ask that you sign up for the 4 week session, and we recommend that you attend each class, as they build on. If you cannot make it to the first week, you can still join in the second week, as we go through the material, but if you would miss more classes, we recommend that you wait until the next session.</p> <p>(We run beginner classes every month, starting on the first weekend of the month)</p> <p>Cost: $60/person for 4-week session if you pre-register at<a href=\"http://www.studioviva.com/classes.html,\">www.studioviva.com/classes.html,</a>\\xa0or $65 if you register at the studio in person.</p> <p>Dora Baroti\\xa0<br/>Director\\xa0<br/>Studio Viva\\xa0<br/>[masked]</p>')\n",
            "\n",
            "\n",
            "('NEW ID  ', u'wvbbqqyzcbwb', u'<p>You\\'ll play nearly the entire time in this 1-hour time slot. For players who just want to keep playing, this is the perfect pickup to get a solid game in with minimal breaks. Space is limited to 2 teams (up to 1 sub per team).</p> <p>Pricing - When this event is confirmed with enough players for a game, we will turn on the online and pre-pay function. The host will post a comment with instructions on how to pre-pay when it is available.<br/>$15 - RSVP online and pay in advance (speedy check-in!)<br/>$15 - Pay cash at the event - Only if spots are available</p> <p>As of March 2018, each Grab A Game Participant must fill out our online waiver. It only needs to be completed once for all Grab A Game groups and games. If you have not yet filled out this waiver, please complete it before attending this event:<br/><a href=\"https://waiver.fr/p-sht8E\" class=\"linkified\">https://waiver.fr/p-sht8E</a></p> <p>What to Wear<br/>We are playing indoors on a rubberized all-sport surface. Most players wear basketball shoes, but gym shoes are also allowed. Please bring your shoes and change into them at the facility. This will help keep the floor clean of dirt and water.</p> <p>What to Expect<br/>Show up early! The games will begin at the time posted for this event. Players may start checking in with the event host as early as 15 minutes before the scheduled start time. If a court is available, you may begin warming up before the event begins.</p> <p>Level of Play<br/>This event is open to all levels of play. We do our best to create even teams so that games are well-matched. There are no referees, so players need to play with sportsmanship and make their own calls. We aim to make everyone feel welcome at these events.</p> <p>Facility Information<br/>Windy City Fieldhouse is located at Logan and Western. It has several courts for different sports. Make sure you check which court we are playing on listed in the \"how to find us\" section above or in the comments section below.</p> <p>Transportation<br/>There is free parking in the parking lot along the side of Windy City Fieldhouse and in the Target parking garage. Please do not park in the Target parking lot. Parking along the fence near the Target parking lot are metered spots.</p> <p>If you\\'re taking public transit, it\\'s within walking distance from these stops:<br/>Blue line - Western stop (1 mile)<br/>49 Western Bus - Western and Logan/Jones stop<br/>76 Diversey Bus - Diversey and Logan stop<br/>74 Fullerton Bus - Fullerton and Oakley Stop</p> <p>Nearest Divvy Station: About a block away at Logan and Elston</p> <p>Minimum number of players and playing formats.<br/>This event needs a minimum of 10 people (not including the host) signed up before the start of the event in order to run. An email notification will be sent if we cancel. Refunds or credits will be issued if we cancel the event. Sign up early to encourage more people to sign up!</p> <p>Do Your Part! Help us keep an accurate guest count!<br/>If you RSVP, we\\'re counting on you to be there. If you change your mind about playing or your guest count changes, please update your RSVP. No-Shows will be marked on your account.</p> <p>Requirement to play<br/>This is an adult basketball group. You must be 19 older. Males and females of all skill levels are welcome to play. There is no required gender ratio.</p> <p>What\\'s included in the price?<br/>Your payment helps to cover the rental costs, the hourly pay for your event host, and ensures a well-organized event.</p> <p>Questions?<br/>Post your question in the comments section of this meetup and the event host or one of our organizers will reply. You can also message the organizers directly through meetup. Or, give us a call M-F 9:00am-5:00pm:[masked].</p> <p>Love these events?<br/>Tell your friends! Please help us get the word out on this fun pick-up program. Let other people know by giving it a 5-star rating or leaving a review for the group. Share these events on Facebook to let others know where you are playing.</p>')\n",
            "\n",
            "\n",
            "('NEW ID  ', u'120420672', u'<p>Time and place can be determined by whomever wants to meet up!</p>')\n",
            "\n",
            "\n",
            "('NEW ID  ', u'222202619', u'<p><a href=\"https://vimeo.com/113828701\" class=\"embedded\">https://vimeo.com/113828701</a></p> <p><b>Learn how to make a professional website with Wordpress</b></p> <p><br/>~~~</p> <p>Important Note: This is an online class that you take at your own time, at your own pace and from anywhere in the World.\\xa0</p> <p>Purchase Class:\\xa0<a href=\"http://online-classes.startupsaturdays.net/product/learn-to-make-your-own-business-or-personal-website/\"><a href=\"http://online-classes.startupsaturdays.net/product/learn-to-make-your-own-business-or-personal-website/\" class=\"linkified\">http://online-classes.startupsaturdays.net/product/learn-to-make-your-own-business-or-personal-website/</a></a></p> <p>~~~</p> <p>There are no words to explain how important this class is. If you are ever going to only take 1 class in web development then this is the class you want to take. WordPress is revolutionary, its a trend setter, its the future, its the stuff that all those developers are using that you are paying to work for you. This is your opportunity to understand this phenomenal technology. You will never see the internet the same way.</p> <p>Take advantage of this opportunity to change your perspective for life. The internet is the gift of this generation; take advantage of it and don\\u2019t let this opportunity go to waste. Knowing WordPress will give you access to one of the strongest tools of our times. Don\\u2019t let this opportunity go to waste. What you learn in this class will change your perspective of the internet for ever.</p> <p>Don\\u2019t you want to have better control over your internet experience? Don\\u2019t you want to be the master of your own internet destiny? Have you ever found yourself wanting to make a website but didn\\u2019t know what to do?</p> <p>In 100 years from now WordPress will be remembered as one of the most significant achievements of mankind right next to the Moon Landing. WordPress has empowered the individual to have a real presence and a voice on the internet.</p> <p>With WordPress you make your own website.</p> <p>WordPress is currently used by The New York Times, CNN, Forbes, Reuters, GM, UPS, Ebay, Sony, Best Buy, The Rolling Stones, Jay-Z, Katy Perry, MP3.com, IZOD, Kineda, StyleWatch, Mashable and Time Magazine just to name a few notable users.</p> <p>If you have ever felt the slightest bit of impairment as a result of not knowing how to make a website then this right here is your opportunity to shine on and get the skinny on how to make your own website. Take this class and stop paying other programmers to make your websites for you.</p> <p><a href=\"http://www.appcelerator.com/\">&lt;/a&gt;</p> <p>~~~</p> <p>Important Note: This is an online class that you take at your own time, at your own pace and from anywhere in the World.\\xa0</p> <p>Purchase Class:\\xa0&lt;a href=\"http://online-classes.startupsaturdays.net/product/learn-to-make-your-own-business-or-personal-website/\"&gt;<a href=\"http://online-classes.startupsaturdays.net/product/learn-to-make-your-own-business-or-personal-website/\" class=\"linkified\">http://online-classes.startupsaturdays.net/product/learn-to-make-your-own-business-or-personal-website/</a></a></p> <p>~~~</p>')\n",
            "\n",
            "\n",
            "('NEW ID  ', u'qvhhnyqcblc', u'<p>Hello My Friends!</p> <p>Saturdays dance bootcamp (All levels &amp; All ages welcome)<br/>Aquarius Mexican Restaurant<br/>2459 N Pulaski, Chicago</p> <p>Salsa 11am (Beg/Int)<br/>Salsa 12pm (Int/Adv)<br/>Bachata 11am (All Levels)<br/>1 hour=$10, 2 hours=$15, 3 hours=$20 (all this applies to classes in one day)</p> <p>As Always:<br/>-Ladies Styling<br/>-Thorough Lead Instruction<br/>-Dance Combinations<br/>-A Comprehensive breakdown<br/>-All ages and levels welcome! Class limited to 30 people.</p> <p>Private lessons available</p> <p>************************************************************************** Classes by Milly \"La Salsera Sensual\"<br/>Spread The Great Word!<br/>Milly <a href=\"http://www.facebook.com/milly.lasalsera\"><a href=\"http://www.facebook.com/milly.lasalsera\" class=\"linkified\">http://www.facebook.com/milly.lasalsera</a></a><br/><a href=\"http://www.millylasalserasensual.com/\"><a href=\"http://www.MillyLaSalseraSensual.com\" class=\"linkified\">http://www.MillyLaSalseraSensual.com</a></a></p>')\n",
            "\n",
            "\n"
          ]
        }
      ],
      "source": [
        "# It gives the description of the events\n",
        "ct=0\n",
        "edesc=pickle.load(open('edesc_bhnoda_155','r'))\n",
        "print(len(edesc))\n",
        "for m in edesc:\n",
        "    print(\"NEW ID  \",m,edesc[m])\n",
        "    print(\"\\n\")\n",
        "    if ct>5:\n",
        "        break\n",
        "    ct+=1"
      ]
    },
    {
      "cell_type": "code",
      "execution_count": null,
      "metadata": {
        "id": "38qJdRZMLbw_",
        "outputId": "95c74c79-bbcc-414a-8e68-af3faa892591"
      },
      "outputs": [
        {
          "name": "stdout",
          "output_type": "stream",
          "text": [
            "844249\n",
            "[u'222202616', u'kbqgvpyxjbvb', u'jpstnmywdbqb', u'wvbbqqyzcbwb', u'120420672']\n",
            "844249\n"
          ]
        }
      ],
      "source": [
        "##taking event id and make a list and set\n",
        "keys_edesc=[]\n",
        "for m in edesc:\n",
        "    #print(m,mtags[m])\n",
        "    keys_edesc.append(m)\n",
        "print(len(keys_edesc))\n",
        "print(keys_edesc[0:5])\n",
        "print(len(set(keys_edesc)))\n",
        "unique_keys_edesc=set(keys_edesc)"
      ]
    },
    {
      "cell_type": "markdown",
      "metadata": {
        "id": "HAejUvE3Lbw_"
      },
      "source": [
        "## Here I take \"ename_bhnoda_155_CH\" which has event names"
      ]
    },
    {
      "cell_type": "code",
      "execution_count": null,
      "metadata": {
        "id": "6YIUe5-PLbw_",
        "outputId": "a1fdf8bd-09a3-47ef-bf87-4f44b7f0a252"
      },
      "outputs": [
        {
          "name": "stdout",
          "output_type": "stream",
          "text": [
            "872831\n",
            "(u'222202616', u'Learn to make a professional website - Training with Certificate - Online')\n",
            "(u'kbqgvpyxjbvb', u'Google Business Listing')\n",
            "(u'jpstnmywdbqb', u'Bachata I (Session starts 02/05/2017)')\n",
            "(u'wvbbqqyzcbwb', u'Thursday Basketball Pickup at WCF - 9:30')\n",
            "(u'120420672', u'Saturday morning run!')\n",
            "(u'222202619', u'Learn to make a professional website - Training with Certificate - Online')\n",
            "(u'qvhhnyqcblc', u'Dance Bootcamp: Salsa & Bachata, Emphasis on Ladies Styling & Great Combos')\n"
          ]
        }
      ],
      "source": [
        "ct=0\n",
        "ename_CH=pickle.load(open('ename_bhnoda_155_CH','r'))\n",
        "print(len(ename_CH))\n",
        "for m in ename_CH:\n",
        "    print(m,ename_CH[m])\n",
        "    if ct>5:\n",
        "        break\n",
        "    ct+=1"
      ]
    },
    {
      "cell_type": "code",
      "execution_count": null,
      "metadata": {
        "id": "pTdto77nLbw_",
        "outputId": "3221b0a6-f565-4b10-d71e-da1b76eb860e"
      },
      "outputs": [
        {
          "name": "stdout",
          "output_type": "stream",
          "text": [
            "872831\n",
            "[u'222202616', u'kbqgvpyxjbvb', u'jpstnmywdbqb', u'wvbbqqyzcbwb', u'120420672']\n",
            "872831\n"
          ]
        }
      ],
      "source": [
        "##taking event id from \"ename\" file and make a list and set\n",
        "keys_ename=[]\n",
        "for m in ename_CH:\n",
        "    #print(m,mtags[m])\n",
        "    keys_ename.append(m)\n",
        "print(len(keys_ename))\n",
        "print(keys_ename[0:5])\n",
        "print(len(set(keys_ename)))\n",
        "unique_keys_ename=set(keys_ename)"
      ]
    },
    {
      "cell_type": "markdown",
      "metadata": {
        "id": "-Ge6vbxeLbw_"
      },
      "source": [
        "## Making common list of events"
      ]
    },
    {
      "cell_type": "code",
      "execution_count": null,
      "metadata": {
        "id": "yKio931aLbw_",
        "outputId": "ee623715-5d72-4cfc-84e5-4ae71d237496"
      },
      "outputs": [
        {
          "data": {
            "text/plain": [
              "115571"
            ]
          },
          "execution_count": 31,
          "metadata": {},
          "output_type": "execute_result"
        }
      ],
      "source": [
        "#intersection of mem_at,e_description and e_duration and e_place and et file also\n",
        "## event id is in common\n",
        "common=(list(unique_event_id.intersection(unique_s1,unique_keys_edesc,unique_keys_ename,set_keysOfDuration)))\n",
        "len(common)\n",
        "#common[:5]"
      ]
    },
    {
      "cell_type": "code",
      "execution_count": null,
      "metadata": {
        "id": "OdMyR8ytLbw_"
      },
      "outputs": [],
      "source": [
        "## Here I create a dict of common event and event place id\n",
        "common_event={}\n",
        "for i in common:\n",
        "    common_event[i]=d[i]"
      ]
    },
    {
      "cell_type": "code",
      "execution_count": null,
      "metadata": {
        "id": "krfGaysTLbw_",
        "outputId": "06450a9e-bbad-42a8-c1f9-e0cc47ab1aed"
      },
      "outputs": [
        {
          "data": {
            "text/plain": [
              "115571"
            ]
          },
          "execution_count": 33,
          "metadata": {},
          "output_type": "execute_result"
        }
      ],
      "source": [
        "len(common_event)"
      ]
    },
    {
      "cell_type": "code",
      "execution_count": null,
      "metadata": {
        "id": "fixexRrQLbxA",
        "outputId": "65bc41af-1b4f-4a3d-b7b6-6611f1d4aed3"
      },
      "outputs": [
        {
          "name": "stdout",
          "output_type": "stream",
          "text": [
            "115571\n"
          ]
        },
        {
          "data": {
            "text/plain": [
              "[5961062, 23651107, 250527, 876837, 23399902]"
            ]
          },
          "execution_count": 34,
          "metadata": {},
          "output_type": "execute_result"
        }
      ],
      "source": [
        "#initilizing the **values** of the dict\n",
        "place_key=[]\n",
        "for m in common_event:\n",
        "    #print(m,mtags[m])\n",
        "    place_key.append(common_event[m])\n",
        "print(len(place_key))\n",
        "#print((l[5]))\n",
        "# for i in range(5):\n",
        "#     print((l[i]))\n",
        "#     print(len(l[i]))\n",
        "(place_key[0:5])"
      ]
    },
    {
      "cell_type": "code",
      "execution_count": null,
      "metadata": {
        "id": "n1svyYt8LbxA",
        "outputId": "e28d8c85-accd-4e23-c707-2f8f108caac7"
      },
      "outputs": [
        {
          "data": {
            "text/plain": [
              "[(5274352, 1281),\n",
              " (15776612, 1195),\n",
              " (24187484, 1029),\n",
              " (5961062, 965),\n",
              " (21056022, 861),\n",
              " (7049402, 756),\n",
              " (23868614, 649),\n",
              " (1151745, 518),\n",
              " (1544507, 473),\n",
              " (4777102, 446)]"
            ]
          },
          "execution_count": 35,
          "metadata": {},
          "output_type": "execute_result"
        }
      ],
      "source": [
        "##Taking counter of most common place key\n",
        "from collections import Counter\n",
        "hset=Counter(place_key);\n",
        "most_place_key=hset.most_common(1000)\n",
        "(most_place_key[0:10])"
      ]
    },
    {
      "cell_type": "code",
      "execution_count": null,
      "metadata": {
        "id": "Dt1U-89jLbxA"
      },
      "outputs": [],
      "source": [
        "#making list from dictionary of most common place id\n",
        "most_place_key_list=[]\n",
        "for i in range(len(most_place_key)):\n",
        "    most_place_key_list.append(most_place_key[i][0])"
      ]
    },
    {
      "cell_type": "code",
      "execution_count": null,
      "metadata": {
        "id": "D8YnCjccLbxD"
      },
      "outputs": [],
      "source": [
        "import copy\n",
        "#new_list = copy.copy(old_list)\n",
        "copy_most_place_key=copy.copy(most_place_key_list)\n",
        "#copy_unique_place_key"
      ]
    },
    {
      "cell_type": "code",
      "execution_count": null,
      "metadata": {
        "id": "YElLtsMMLbxD",
        "outputId": "e5108934-11f7-471c-ca76-350b682c55fd"
      },
      "outputs": [
        {
          "ename": "KeyboardInterrupt",
          "evalue": "",
          "output_type": "error",
          "traceback": [
            "\u001b[1;31m---------------------------------------------------------------------------\u001b[0m",
            "\u001b[1;31mKeyboardInterrupt\u001b[0m                         Traceback (most recent call last)",
            "\u001b[1;32m<ipython-input-38-57fbdc5b07e6>\u001b[0m in \u001b[0;36m<module>\u001b[1;34m()\u001b[0m\n\u001b[0;32m      5\u001b[0m     \u001b[0mcopy_most_place_key\u001b[0m\u001b[1;33m=\u001b[0m\u001b[0mcopy\u001b[0m\u001b[1;33m.\u001b[0m\u001b[0mcopy\u001b[0m\u001b[1;33m(\u001b[0m\u001b[0mmost_place_key_list\u001b[0m\u001b[1;33m)\u001b[0m\u001b[1;33m\u001b[0m\u001b[0m\n\u001b[0;32m      6\u001b[0m     \u001b[1;32mfor\u001b[0m \u001b[0mi\u001b[0m \u001b[1;32min\u001b[0m \u001b[0mrange\u001b[0m\u001b[1;33m(\u001b[0m\u001b[0mlen\u001b[0m\u001b[1;33m(\u001b[0m\u001b[0mmost_place_key_list\u001b[0m\u001b[1;33m)\u001b[0m\u001b[1;33m)\u001b[0m\u001b[1;33m:\u001b[0m\u001b[1;33m\u001b[0m\u001b[0m\n\u001b[1;32m----> 7\u001b[1;33m         \u001b[1;32mif\u001b[0m \u001b[0mmost_place_key_list\u001b[0m\u001b[1;33m[\u001b[0m\u001b[0mi\u001b[0m\u001b[1;33m]\u001b[0m\u001b[1;33m==\u001b[0m\u001b[0mcommon_event\u001b[0m\u001b[1;33m[\u001b[0m\u001b[0mm\u001b[0m\u001b[1;33m]\u001b[0m\u001b[1;33m:\u001b[0m\u001b[1;33m\u001b[0m\u001b[0m\n\u001b[0m\u001b[0;32m      8\u001b[0m             \u001b[0mcopy_most_place_key\u001b[0m\u001b[1;33m[\u001b[0m\u001b[0mi\u001b[0m\u001b[1;33m]\u001b[0m\u001b[1;33m=\u001b[0m\u001b[1;36m1\u001b[0m\u001b[1;33m\u001b[0m\u001b[0m\n\u001b[0;32m      9\u001b[0m         \u001b[1;32melse\u001b[0m\u001b[1;33m:\u001b[0m\u001b[1;33m\u001b[0m\u001b[0m\n",
            "\u001b[1;31mKeyboardInterrupt\u001b[0m: "
          ]
        }
      ],
      "source": [
        "##Creating event id and place id dictionary\n",
        "import copy\n",
        "common1_event={}\n",
        "for m in common_event:\n",
        "    copy_most_place_key=copy.copy(most_place_key_list)\n",
        "    for i in range(len(most_place_key_list)):\n",
        "        if most_place_key_list[i]==common_event[m]:\n",
        "            copy_most_place_key[i]=1\n",
        "        else:\n",
        "            copy_most_place_key[i]=0\n",
        "    common1_event[m]=copy_most_place_key\n",
        "#     ct+=1\n",
        "#     if ct>5:\n",
        "#         break"
      ]
    },
    {
      "cell_type": "markdown",
      "metadata": {
        "id": "_HeGp7NkLbxE"
      },
      "source": [
        "## Here is the location vectors"
      ]
    },
    {
      "cell_type": "code",
      "execution_count": null,
      "metadata": {
        "id": "VtF_5X7jLbxE",
        "outputId": "4e016519-ba1b-48fc-aa6b-5cff96edfc10"
      },
      "outputs": [
        {
          "name": "stdout",
          "output_type": "stream",
          "text": [
            "(u'225522343', [0, 0, 0, 0, 0, 0, 0, 0, 0, 0, 0, 0, 0, 0, 0, 0, 0, 0, 0, 0, 0, 0, 0, 0, 0, 0, 0, 0, 0, 0, 0, 0, 0, 0, 0, 0, 0, 0, 0, 0, 0, 0, 0, 0, 0, 0, 0, 0, 0, 0, 0, 0, 0, 0, 0, 0, 0, 0, 0, 0, 0, 0, 0, 0, 0, 0, 0, 0, 0, 0, 0, 0, 0, 0, 0, 0, 0, 0, 0, 0, 0, 0, 0, 0, 0, 0, 0, 0, 0, 0, 0, 0, 0, 0, 0, 0, 0, 0, 0, 0, 0, 0, 0, 0, 0, 0, 0, 0, 0, 0, 0, 0, 0, 0, 0, 0, 0, 0, 0, 0, 0, 0, 0, 0, 0, 0, 0, 0, 0, 0, 0, 0, 0, 0, 0, 0, 0, 0, 0, 0, 0, 0, 0, 0, 0, 0, 0, 0, 0, 0, 0, 0, 0, 0, 0, 0, 0, 0, 0, 0, 0, 0, 0, 0, 0, 0, 0, 0, 0, 0, 0, 0, 0, 0, 0, 0, 0, 0, 0, 0, 0, 0, 0, 0, 0, 0, 0, 0, 0, 0, 0, 0, 0, 0, 0, 0, 0, 0, 0, 0, 0, 0, 0, 0, 0, 0, 0, 0, 0, 0, 0, 0, 0, 0, 0, 0, 0, 0, 0, 0, 0, 0, 0, 0, 0, 0, 0, 0, 0, 0, 0, 0, 0, 0, 0, 0, 0, 0, 0, 0, 0, 0, 0, 0, 0, 0, 0, 0, 0, 0, 0, 0, 0, 0, 0, 0, 0, 0, 0, 0, 0, 0, 0, 0, 0, 0, 0, 0, 0, 0, 0, 0, 0, 0, 0, 0, 0, 0, 0, 0, 0, 0, 0, 0, 0, 0, 0, 0, 0, 0, 0, 0, 0, 0, 0, 0, 0, 0, 0, 0, 0, 0, 0, 0, 0, 0, 0, 0, 0, 0, 0, 0, 0, 0, 0, 0, 0, 0, 0, 0, 0, 0, 0, 0, 0, 0, 0, 0, 0, 0, 0, 0, 0, 0, 0, 0, 0, 0, 1, 0, 0, 0, 0, 0, 0, 0, 0, 0, 0, 0, 0, 0, 0, 0, 0, 0, 0, 0, 0, 0, 0, 0, 0, 0, 0, 0, 0, 0, 0, 0, 0, 0, 0, 0, 0, 0, 0, 0, 0, 0, 0, 0, 0, 0, 0, 0, 0, 0, 0, 0, 0, 0, 0, 0, 0, 0, 0, 0, 0, 0, 0, 0, 0, 0, 0, 0, 0, 0, 0, 0, 0, 0, 0, 0, 0, 0, 0, 0, 0, 0, 0, 0, 0, 0, 0, 0, 0, 0, 0, 0, 0, 0, 0, 0, 0, 0, 0, 0, 0, 0, 0, 0, 0, 0, 0, 0, 0, 0, 0, 0, 0, 0, 0, 0, 0, 0, 0, 0, 0, 0, 0, 0, 0, 0, 0, 0, 0, 0, 0, 0, 0, 0, 0, 0, 0, 0, 0, 0, 0, 0, 0, 0, 0, 0, 0, 0, 0, 0, 0, 0, 0, 0, 0, 0, 0, 0, 0, 0, 0, 0, 0, 0, 0, 0, 0, 0, 0, 0, 0, 0, 0, 0, 0, 0, 0, 0, 0, 0, 0, 0, 0, 0, 0, 0, 0, 0, 0, 0, 0, 0, 0, 0, 0, 0, 0, 0, 0, 0, 0, 0, 0, 0, 0, 0, 0, 0, 0, 0, 0, 0, 0, 0, 0, 0, 0, 0, 0, 0, 0, 0, 0, 0, 0, 0, 0, 0, 0, 0, 0, 0, 0, 0, 0, 0, 0, 0, 0, 0, 0, 0, 0, 0, 0, 0, 0, 0, 0, 0, 0, 0, 0, 0, 0, 0, 0, 0, 0, 0, 0, 0, 0, 0, 0, 0, 0, 0, 0, 0, 0, 0, 0, 0, 0, 0, 0, 0, 0, 0, 0, 0, 0, 0, 0, 0, 0, 0, 0, 0, 0, 0, 0, 0, 0, 0, 0, 0, 0, 0, 0, 0, 0, 0, 0, 0, 0, 0, 0, 0, 0, 0, 0, 0, 0, 0, 0, 0, 0, 0, 0, 0, 0, 0, 0, 0, 0, 0, 0, 0, 0, 0, 0, 0, 0, 0, 0, 0, 0, 0, 0, 0, 0, 0, 0, 0, 0, 0, 0, 0, 0, 0, 0, 0, 0, 0, 0, 0, 0, 0, 0, 0, 0, 0, 0, 0, 0, 0, 0, 0, 0, 0, 0, 0, 0, 0, 0, 0, 0, 0, 0, 0, 0, 0, 0, 0, 0, 0, 0, 0, 0, 0, 0, 0, 0, 0, 0, 0, 0, 0, 0, 0, 0, 0, 0, 0, 0, 0, 0, 0, 0, 0, 0, 0, 0, 0, 0, 0, 0, 0, 0, 0, 0, 0, 0, 0, 0, 0, 0, 0, 0, 0, 0, 0, 0, 0, 0, 0, 0, 0, 0, 0, 0, 0, 0, 0, 0, 0, 0, 0, 0, 0, 0, 0, 0, 0, 0, 0, 0, 0, 0, 0, 0, 0, 0, 0, 0, 0, 0, 0, 0, 0, 0, 0, 0, 0, 0, 0, 0, 0, 0, 0, 0, 0, 0, 0, 0, 0, 0, 0, 0, 0, 0, 0, 0, 0, 0, 0, 0, 0, 0, 0, 0, 0, 0, 0, 0, 0, 0, 0, 0, 0, 0, 0, 0, 0, 0, 0, 0, 0, 0, 0, 0, 0, 0, 0, 0, 0, 0, 0, 0, 0, 0, 0, 0, 0, 0, 0, 0, 0, 0, 0, 0, 0, 0, 0, 0, 0, 0, 0, 0, 0, 0, 0, 0, 0, 0, 0, 0, 0, 0, 0, 0, 0, 0, 0, 0, 0, 0, 0, 0, 0, 0, 0, 0, 0, 0, 0, 0, 0, 0, 0, 0, 0, 0, 0, 0, 0, 0, 0, 0, 0, 0, 0, 0, 0, 0, 0, 0, 0, 0, 0, 0, 0, 0, 0, 0, 0, 0, 0, 0, 0, 0, 0, 0, 0, 0, 0, 0, 0, 0, 0, 0, 0, 0, 0, 0, 0, 0, 0, 0, 0, 0, 0, 0, 0, 0, 0, 0, 0, 0, 0, 0, 0, 0, 0, 0, 0, 0, 0, 0, 0, 0, 0, 0, 0, 0, 0, 0, 0, 0, 0])\n",
            "(u'170374282', [0, 0, 0, 0, 0, 0, 0, 0, 0, 0, 0, 0, 0, 0, 0, 0, 0, 0, 0, 0, 0, 0, 0, 0, 0, 0, 0, 0, 0, 0, 0, 0, 0, 0, 0, 0, 0, 0, 0, 0, 0, 0, 0, 0, 0, 0, 0, 0, 0, 0, 0, 0, 0, 0, 0, 0, 0, 0, 0, 0, 0, 0, 0, 0, 0, 0, 0, 0, 0, 0, 0, 0, 0, 0, 0, 0, 0, 0, 0, 0, 0, 0, 0, 0, 0, 0, 0, 0, 0, 0, 0, 0, 0, 0, 0, 0, 0, 0, 0, 0, 0, 0, 0, 0, 0, 0, 0, 0, 0, 0, 0, 0, 0, 0, 0, 0, 0, 0, 0, 0, 0, 0, 0, 0, 0, 0, 0, 0, 0, 0, 0, 0, 0, 0, 0, 0, 0, 0, 0, 0, 0, 0, 0, 0, 0, 0, 0, 0, 0, 0, 0, 0, 0, 0, 0, 0, 0, 0, 0, 0, 0, 0, 0, 0, 0, 0, 0, 0, 0, 0, 0, 0, 0, 0, 0, 0, 0, 0, 0, 0, 0, 0, 0, 0, 1, 0, 0, 0, 0, 0, 0, 0, 0, 0, 0, 0, 0, 0, 0, 0, 0, 0, 0, 0, 0, 0, 0, 0, 0, 0, 0, 0, 0, 0, 0, 0, 0, 0, 0, 0, 0, 0, 0, 0, 0, 0, 0, 0, 0, 0, 0, 0, 0, 0, 0, 0, 0, 0, 0, 0, 0, 0, 0, 0, 0, 0, 0, 0, 0, 0, 0, 0, 0, 0, 0, 0, 0, 0, 0, 0, 0, 0, 0, 0, 0, 0, 0, 0, 0, 0, 0, 0, 0, 0, 0, 0, 0, 0, 0, 0, 0, 0, 0, 0, 0, 0, 0, 0, 0, 0, 0, 0, 0, 0, 0, 0, 0, 0, 0, 0, 0, 0, 0, 0, 0, 0, 0, 0, 0, 0, 0, 0, 0, 0, 0, 0, 0, 0, 0, 0, 0, 0, 0, 0, 0, 0, 0, 0, 0, 0, 0, 0, 0, 0, 0, 0, 0, 0, 0, 0, 0, 0, 0, 0, 0, 0, 0, 0, 0, 0, 0, 0, 0, 0, 0, 0, 0, 0, 0, 0, 0, 0, 0, 0, 0, 0, 0, 0, 0, 0, 0, 0, 0, 0, 0, 0, 0, 0, 0, 0, 0, 0, 0, 0, 0, 0, 0, 0, 0, 0, 0, 0, 0, 0, 0, 0, 0, 0, 0, 0, 0, 0, 0, 0, 0, 0, 0, 0, 0, 0, 0, 0, 0, 0, 0, 0, 0, 0, 0, 0, 0, 0, 0, 0, 0, 0, 0, 0, 0, 0, 0, 0, 0, 0, 0, 0, 0, 0, 0, 0, 0, 0, 0, 0, 0, 0, 0, 0, 0, 0, 0, 0, 0, 0, 0, 0, 0, 0, 0, 0, 0, 0, 0, 0, 0, 0, 0, 0, 0, 0, 0, 0, 0, 0, 0, 0, 0, 0, 0, 0, 0, 0, 0, 0, 0, 0, 0, 0, 0, 0, 0, 0, 0, 0, 0, 0, 0, 0, 0, 0, 0, 0, 0, 0, 0, 0, 0, 0, 0, 0, 0, 0, 0, 0, 0, 0, 0, 0, 0, 0, 0, 0, 0, 0, 0, 0, 0, 0, 0, 0, 0, 0, 0, 0, 0, 0, 0, 0, 0, 0, 0, 0, 0, 0, 0, 0, 0, 0, 0, 0, 0, 0, 0, 0, 0, 0, 0, 0, 0, 0, 0, 0, 0, 0, 0, 0, 0, 0, 0, 0, 0, 0, 0, 0, 0, 0, 0, 0, 0, 0, 0, 0, 0, 0, 0, 0, 0, 0, 0, 0, 0, 0, 0, 0, 0, 0, 0, 0, 0, 0, 0, 0, 0, 0, 0, 0, 0, 0, 0, 0, 0, 0, 0, 0, 0, 0, 0, 0, 0, 0, 0, 0, 0, 0, 0, 0, 0, 0, 0, 0, 0, 0, 0, 0, 0, 0, 0, 0, 0, 0, 0, 0, 0, 0, 0, 0, 0, 0, 0, 0, 0, 0, 0, 0, 0, 0, 0, 0, 0, 0, 0, 0, 0, 0, 0, 0, 0, 0, 0, 0, 0, 0, 0, 0, 0, 0, 0, 0, 0, 0, 0, 0, 0, 0, 0, 0, 0, 0, 0, 0, 0, 0, 0, 0, 0, 0, 0, 0, 0, 0, 0, 0, 0, 0, 0, 0, 0, 0, 0, 0, 0, 0, 0, 0, 0, 0, 0, 0, 0, 0, 0, 0, 0, 0, 0, 0, 0, 0, 0, 0, 0, 0, 0, 0, 0, 0, 0, 0, 0, 0, 0, 0, 0, 0, 0, 0, 0, 0, 0, 0, 0, 0, 0, 0, 0, 0, 0, 0, 0, 0, 0, 0, 0, 0, 0, 0, 0, 0, 0, 0, 0, 0, 0, 0, 0, 0, 0, 0, 0, 0, 0, 0, 0, 0, 0, 0, 0, 0, 0, 0, 0, 0, 0, 0, 0, 0, 0, 0, 0, 0, 0, 0, 0, 0, 0, 0, 0, 0, 0, 0, 0, 0, 0, 0, 0, 0, 0, 0, 0, 0, 0, 0, 0, 0, 0, 0, 0, 0, 0, 0, 0, 0, 0, 0, 0, 0, 0, 0, 0, 0, 0, 0, 0, 0, 0, 0, 0, 0, 0, 0, 0, 0, 0, 0, 0, 0, 0, 0, 0, 0, 0, 0, 0, 0, 0, 0, 0, 0, 0, 0, 0, 0, 0, 0, 0, 0, 0, 0, 0, 0, 0, 0, 0, 0, 0, 0, 0, 0, 0, 0, 0, 0, 0, 0, 0, 0, 0, 0, 0, 0, 0, 0, 0, 0, 0, 0, 0, 0, 0, 0, 0, 0, 0, 0, 0, 0, 0, 0, 0, 0, 0, 0, 0, 0, 0, 0, 0, 0, 0, 0, 0, 0, 0, 0, 0, 0, 0, 0, 0, 0, 0, 0, 0, 0, 0, 0, 0, 0, 0, 0, 0, 0, 0, 0, 0, 0, 0, 0, 0, 0, 0, 0, 0, 0, 0, 0, 0, 0, 0, 0, 0, 0, 0, 0, 0, 0, 0, 0, 0, 0, 0, 0, 0, 0, 0, 0, 0, 0, 0, 0, 0, 0, 0, 0, 0, 0, 0, 0, 0, 0])\n",
            "(u'dvcrlgyrnbqb', [0, 0, 0, 0, 0, 0, 0, 0, 0, 0, 0, 0, 0, 0, 0, 0, 0, 0, 0, 0, 1, 0, 0, 0, 0, 0, 0, 0, 0, 0, 0, 0, 0, 0, 0, 0, 0, 0, 0, 0, 0, 0, 0, 0, 0, 0, 0, 0, 0, 0, 0, 0, 0, 0, 0, 0, 0, 0, 0, 0, 0, 0, 0, 0, 0, 0, 0, 0, 0, 0, 0, 0, 0, 0, 0, 0, 0, 0, 0, 0, 0, 0, 0, 0, 0, 0, 0, 0, 0, 0, 0, 0, 0, 0, 0, 0, 0, 0, 0, 0, 0, 0, 0, 0, 0, 0, 0, 0, 0, 0, 0, 0, 0, 0, 0, 0, 0, 0, 0, 0, 0, 0, 0, 0, 0, 0, 0, 0, 0, 0, 0, 0, 0, 0, 0, 0, 0, 0, 0, 0, 0, 0, 0, 0, 0, 0, 0, 0, 0, 0, 0, 0, 0, 0, 0, 0, 0, 0, 0, 0, 0, 0, 0, 0, 0, 0, 0, 0, 0, 0, 0, 0, 0, 0, 0, 0, 0, 0, 0, 0, 0, 0, 0, 0, 0, 0, 0, 0, 0, 0, 0, 0, 0, 0, 0, 0, 0, 0, 0, 0, 0, 0, 0, 0, 0, 0, 0, 0, 0, 0, 0, 0, 0, 0, 0, 0, 0, 0, 0, 0, 0, 0, 0, 0, 0, 0, 0, 0, 0, 0, 0, 0, 0, 0, 0, 0, 0, 0, 0, 0, 0, 0, 0, 0, 0, 0, 0, 0, 0, 0, 0, 0, 0, 0, 0, 0, 0, 0, 0, 0, 0, 0, 0, 0, 0, 0, 0, 0, 0, 0, 0, 0, 0, 0, 0, 0, 0, 0, 0, 0, 0, 0, 0, 0, 0, 0, 0, 0, 0, 0, 0, 0, 0, 0, 0, 0, 0, 0, 0, 0, 0, 0, 0, 0, 0, 0, 0, 0, 0, 0, 0, 0, 0, 0, 0, 0, 0, 0, 0, 0, 0, 0, 0, 0, 0, 0, 0, 0, 0, 0, 0, 0, 0, 0, 0, 0, 0, 0, 0, 0, 0, 0, 0, 0, 0, 0, 0, 0, 0, 0, 0, 0, 0, 0, 0, 0, 0, 0, 0, 0, 0, 0, 0, 0, 0, 0, 0, 0, 0, 0, 0, 0, 0, 0, 0, 0, 0, 0, 0, 0, 0, 0, 0, 0, 0, 0, 0, 0, 0, 0, 0, 0, 0, 0, 0, 0, 0, 0, 0, 0, 0, 0, 0, 0, 0, 0, 0, 0, 0, 0, 0, 0, 0, 0, 0, 0, 0, 0, 0, 0, 0, 0, 0, 0, 0, 0, 0, 0, 0, 0, 0, 0, 0, 0, 0, 0, 0, 0, 0, 0, 0, 0, 0, 0, 0, 0, 0, 0, 0, 0, 0, 0, 0, 0, 0, 0, 0, 0, 0, 0, 0, 0, 0, 0, 0, 0, 0, 0, 0, 0, 0, 0, 0, 0, 0, 0, 0, 0, 0, 0, 0, 0, 0, 0, 0, 0, 0, 0, 0, 0, 0, 0, 0, 0, 0, 0, 0, 0, 0, 0, 0, 0, 0, 0, 0, 0, 0, 0, 0, 0, 0, 0, 0, 0, 0, 0, 0, 0, 0, 0, 0, 0, 0, 0, 0, 0, 0, 0, 0, 0, 0, 0, 0, 0, 0, 0, 0, 0, 0, 0, 0, 0, 0, 0, 0, 0, 0, 0, 0, 0, 0, 0, 0, 0, 0, 0, 0, 0, 0, 0, 0, 0, 0, 0, 0, 0, 0, 0, 0, 0, 0, 0, 0, 0, 0, 0, 0, 0, 0, 0, 0, 0, 0, 0, 0, 0, 0, 0, 0, 0, 0, 0, 0, 0, 0, 0, 0, 0, 0, 0, 0, 0, 0, 0, 0, 0, 0, 0, 0, 0, 0, 0, 0, 0, 0, 0, 0, 0, 0, 0, 0, 0, 0, 0, 0, 0, 0, 0, 0, 0, 0, 0, 0, 0, 0, 0, 0, 0, 0, 0, 0, 0, 0, 0, 0, 0, 0, 0, 0, 0, 0, 0, 0, 0, 0, 0, 0, 0, 0, 0, 0, 0, 0, 0, 0, 0, 0, 0, 0, 0, 0, 0, 0, 0, 0, 0, 0, 0, 0, 0, 0, 0, 0, 0, 0, 0, 0, 0, 0, 0, 0, 0, 0, 0, 0, 0, 0, 0, 0, 0, 0, 0, 0, 0, 0, 0, 0, 0, 0, 0, 0, 0, 0, 0, 0, 0, 0, 0, 0, 0, 0, 0, 0, 0, 0, 0, 0, 0, 0, 0, 0, 0, 0, 0, 0, 0, 0, 0, 0, 0, 0, 0, 0, 0, 0, 0, 0, 0, 0, 0, 0, 0, 0, 0, 0, 0, 0, 0, 0, 0, 0, 0, 0, 0, 0, 0, 0, 0, 0, 0, 0, 0, 0, 0, 0, 0, 0, 0, 0, 0, 0, 0, 0, 0, 0, 0, 0, 0, 0, 0, 0, 0, 0, 0, 0, 0, 0, 0, 0, 0, 0, 0, 0, 0, 0, 0, 0, 0, 0, 0, 0, 0, 0, 0, 0, 0, 0, 0, 0, 0, 0, 0, 0, 0, 0, 0, 0, 0, 0, 0, 0, 0, 0, 0, 0, 0, 0, 0, 0, 0, 0, 0, 0, 0, 0, 0, 0, 0, 0, 0, 0, 0, 0, 0, 0, 0, 0, 0, 0, 0, 0, 0, 0, 0, 0, 0, 0, 0, 0, 0, 0, 0, 0, 0, 0, 0, 0, 0, 0, 0, 0, 0, 0, 0, 0, 0, 0, 0, 0, 0, 0, 0, 0, 0, 0, 0, 0, 0, 0, 0, 0, 0, 0, 0, 0, 0, 0, 0, 0, 0, 0, 0, 0, 0, 0, 0, 0, 0, 0, 0, 0, 0, 0, 0, 0, 0, 0, 0, 0, 0, 0, 0, 0, 0, 0, 0, 0, 0, 0, 0, 0, 0, 0, 0, 0, 0, 0, 0, 0, 0, 0, 0, 0, 0, 0, 0, 0, 0, 0, 0, 0, 0, 0, 0, 0, 0, 0, 0, 0, 0, 0, 0, 0, 0, 0, 0, 0, 0, 0, 0, 0, 0, 0, 0, 0, 0, 0, 0, 0, 0, 0, 0, 0, 0, 0, 0, 0, 0, 0, 0])\n",
            "(u'thqsclysqbvb', [0, 0, 0, 0, 0, 0, 0, 0, 0, 0, 0, 0, 0, 0, 0, 0, 0, 0, 0, 0, 0, 0, 0, 0, 0, 0, 0, 0, 0, 0, 0, 0, 0, 0, 0, 0, 0, 0, 0, 0, 0, 0, 0, 0, 0, 0, 0, 0, 0, 0, 0, 0, 0, 0, 0, 0, 0, 0, 0, 0, 0, 0, 0, 0, 0, 0, 0, 0, 0, 0, 0, 0, 0, 0, 0, 0, 0, 0, 0, 0, 0, 0, 0, 0, 0, 0, 0, 0, 0, 0, 0, 0, 0, 0, 0, 0, 0, 0, 0, 0, 0, 0, 0, 0, 0, 0, 0, 0, 0, 0, 0, 0, 0, 0, 0, 0, 0, 0, 0, 0, 0, 0, 0, 0, 0, 0, 0, 0, 0, 0, 0, 0, 0, 0, 0, 0, 0, 0, 0, 0, 0, 0, 0, 0, 0, 0, 0, 0, 0, 0, 0, 0, 0, 0, 0, 0, 0, 0, 0, 0, 0, 0, 0, 0, 0, 0, 0, 0, 0, 0, 0, 0, 0, 0, 0, 0, 0, 0, 0, 0, 0, 0, 0, 0, 0, 0, 0, 0, 0, 0, 0, 0, 0, 0, 0, 0, 0, 0, 0, 0, 0, 0, 0, 0, 0, 0, 0, 0, 0, 0, 0, 0, 0, 0, 0, 0, 0, 0, 0, 0, 0, 0, 0, 0, 0, 0, 0, 0, 0, 0, 0, 0, 0, 0, 0, 0, 0, 0, 0, 0, 0, 0, 0, 0, 0, 0, 0, 0, 0, 0, 0, 0, 0, 0, 0, 0, 0, 0, 0, 0, 0, 0, 0, 0, 0, 0, 0, 0, 0, 0, 0, 0, 0, 0, 0, 0, 0, 0, 0, 0, 0, 0, 0, 0, 0, 0, 0, 0, 0, 0, 0, 0, 0, 0, 0, 0, 0, 0, 0, 0, 0, 0, 0, 0, 0, 0, 0, 0, 0, 0, 0, 0, 0, 0, 0, 0, 0, 0, 0, 0, 0, 0, 0, 0, 0, 0, 0, 0, 0, 0, 0, 0, 0, 0, 0, 0, 0, 0, 0, 0, 0, 0, 0, 0, 0, 0, 0, 0, 0, 0, 0, 0, 0, 0, 0, 0, 0, 0, 0, 0, 0, 0, 0, 0, 0, 0, 0, 0, 0, 0, 0, 0, 0, 0, 0, 0, 0, 0, 0, 0, 0, 0, 0, 0, 0, 0, 0, 0, 0, 0, 0, 0, 0, 0, 0, 0, 0, 0, 0, 0, 0, 0, 0, 0, 0, 0, 0, 0, 0, 0, 0, 0, 0, 0, 0, 0, 0, 0, 0, 0, 0, 0, 0, 0, 0, 0, 0, 0, 0, 0, 0, 0, 0, 0, 0, 0, 0, 0, 0, 0, 0, 0, 0, 0, 0, 0, 0, 0, 0, 0, 0, 0, 0, 0, 0, 0, 0, 0, 0, 0, 0, 0, 0, 0, 0, 0, 0, 0, 0, 0, 0, 0, 0, 0, 0, 0, 0, 0, 0, 0, 0, 0, 0, 0, 0, 0, 0, 0, 0, 0, 0, 0, 0, 0, 0, 0, 0, 0, 0, 0, 0, 0, 0, 0, 0, 0, 0, 0, 0, 0, 0, 0, 0, 0, 0, 0, 0, 0, 0, 0, 0, 0, 0, 0, 0, 0, 0, 0, 0, 0, 0, 0, 0, 0, 0, 0, 0, 0, 0, 0, 0, 0, 0, 0, 0, 0, 0, 0, 0, 0, 0, 0, 0, 0, 0, 0, 0, 0, 0, 0, 0, 0, 0, 0, 0, 0, 0, 0, 0, 0, 0, 0, 0, 0, 0, 0, 0, 0, 0, 0, 0, 0, 0, 0, 0, 0, 0, 0, 0, 0, 0, 0, 0, 0, 0, 0, 0, 0, 0, 0, 0, 0, 0, 0, 0, 0, 0, 0, 0, 0, 0, 0, 0, 0, 0, 0, 0, 0, 0, 0, 0, 0, 0, 0, 0, 0, 0, 0, 0, 0, 0, 0, 0, 0, 0, 0, 0, 0, 0, 0, 0, 0, 0, 0, 0, 0, 0, 0, 0, 0, 0, 0, 0, 0, 0, 0, 0, 0, 0, 0, 0, 0, 0, 0, 0, 0, 0, 0, 0, 0, 0, 0, 0, 0, 0, 0, 0, 0, 0, 0, 0, 0, 0, 0, 0, 0, 0, 0, 0, 0, 0, 0, 0, 0, 0, 0, 0, 0, 0, 0, 0, 0, 0, 0, 0, 0, 0, 0, 0, 0, 0, 0, 0, 0, 0, 0, 0, 0, 0, 0, 0, 0, 0, 0, 0, 0, 0, 0, 0, 0, 0, 0, 0, 0, 0, 0, 0, 0, 0, 0, 0, 0, 0, 0, 0, 0, 0, 0, 0, 0, 0, 0, 0, 0, 0, 0, 0, 0, 0, 0, 0, 0, 0, 0, 0, 0, 0, 0, 0, 0, 0, 0, 0, 0, 0, 0, 0, 0, 0, 0, 0, 0, 0, 0, 0, 0, 0, 0, 0, 0, 0, 0, 0, 0, 0, 0, 0, 0, 0, 0, 0, 0, 0, 0, 0, 0, 0, 0, 0, 0, 0, 0, 0, 0, 0, 0, 0, 0, 0, 0, 0, 0, 0, 0, 0, 0, 0, 0, 0, 0, 0, 0, 0, 0, 0, 0, 0, 0, 0, 0, 0, 0, 0, 0, 0, 0, 0, 0, 0, 0, 0, 0, 0, 0, 0, 0, 0, 0, 0, 0, 0, 0, 0, 0, 0, 0, 0, 0, 0, 0, 0, 0, 0, 0, 0, 0, 0, 0, 0, 0, 0, 0, 0, 0, 0, 0, 0, 0, 0, 0, 0, 0, 0, 0, 0, 0, 0, 0, 0, 0, 0, 0, 0, 0, 0, 0, 0, 0, 0, 0, 0, 0, 0, 0, 0, 0, 0, 0, 0, 0, 0, 0, 0, 0, 0, 0, 0, 0, 0, 0, 0, 0, 0, 0, 0, 0, 0, 0, 0, 0, 0, 0, 0, 0, 0, 0, 0, 0, 0, 0, 0, 0, 0, 0, 0, 0, 0, 0, 0, 0, 0, 0, 0, 0, 0, 0, 0, 0, 0, 0, 0, 0, 0, 0, 0, 0, 0, 0, 0, 0, 0, 0, 0, 0, 0, 0, 0, 0, 0, 0, 0, 0, 0, 0, 0, 0, 0, 0, 0, 0])\n",
            "(u'dwldlgysfbzb', [0, 0, 0, 0, 0, 0, 0, 0, 0, 0, 0, 0, 0, 0, 0, 0, 0, 0, 0, 0, 0, 0, 0, 0, 0, 0, 0, 0, 0, 0, 0, 0, 0, 0, 0, 0, 0, 0, 0, 0, 0, 0, 0, 0, 0, 1, 0, 0, 0, 0, 0, 0, 0, 0, 0, 0, 0, 0, 0, 0, 0, 0, 0, 0, 0, 0, 0, 0, 0, 0, 0, 0, 0, 0, 0, 0, 0, 0, 0, 0, 0, 0, 0, 0, 0, 0, 0, 0, 0, 0, 0, 0, 0, 0, 0, 0, 0, 0, 0, 0, 0, 0, 0, 0, 0, 0, 0, 0, 0, 0, 0, 0, 0, 0, 0, 0, 0, 0, 0, 0, 0, 0, 0, 0, 0, 0, 0, 0, 0, 0, 0, 0, 0, 0, 0, 0, 0, 0, 0, 0, 0, 0, 0, 0, 0, 0, 0, 0, 0, 0, 0, 0, 0, 0, 0, 0, 0, 0, 0, 0, 0, 0, 0, 0, 0, 0, 0, 0, 0, 0, 0, 0, 0, 0, 0, 0, 0, 0, 0, 0, 0, 0, 0, 0, 0, 0, 0, 0, 0, 0, 0, 0, 0, 0, 0, 0, 0, 0, 0, 0, 0, 0, 0, 0, 0, 0, 0, 0, 0, 0, 0, 0, 0, 0, 0, 0, 0, 0, 0, 0, 0, 0, 0, 0, 0, 0, 0, 0, 0, 0, 0, 0, 0, 0, 0, 0, 0, 0, 0, 0, 0, 0, 0, 0, 0, 0, 0, 0, 0, 0, 0, 0, 0, 0, 0, 0, 0, 0, 0, 0, 0, 0, 0, 0, 0, 0, 0, 0, 0, 0, 0, 0, 0, 0, 0, 0, 0, 0, 0, 0, 0, 0, 0, 0, 0, 0, 0, 0, 0, 0, 0, 0, 0, 0, 0, 0, 0, 0, 0, 0, 0, 0, 0, 0, 0, 0, 0, 0, 0, 0, 0, 0, 0, 0, 0, 0, 0, 0, 0, 0, 0, 0, 0, 0, 0, 0, 0, 0, 0, 0, 0, 0, 0, 0, 0, 0, 0, 0, 0, 0, 0, 0, 0, 0, 0, 0, 0, 0, 0, 0, 0, 0, 0, 0, 0, 0, 0, 0, 0, 0, 0, 0, 0, 0, 0, 0, 0, 0, 0, 0, 0, 0, 0, 0, 0, 0, 0, 0, 0, 0, 0, 0, 0, 0, 0, 0, 0, 0, 0, 0, 0, 0, 0, 0, 0, 0, 0, 0, 0, 0, 0, 0, 0, 0, 0, 0, 0, 0, 0, 0, 0, 0, 0, 0, 0, 0, 0, 0, 0, 0, 0, 0, 0, 0, 0, 0, 0, 0, 0, 0, 0, 0, 0, 0, 0, 0, 0, 0, 0, 0, 0, 0, 0, 0, 0, 0, 0, 0, 0, 0, 0, 0, 0, 0, 0, 0, 0, 0, 0, 0, 0, 0, 0, 0, 0, 0, 0, 0, 0, 0, 0, 0, 0, 0, 0, 0, 0, 0, 0, 0, 0, 0, 0, 0, 0, 0, 0, 0, 0, 0, 0, 0, 0, 0, 0, 0, 0, 0, 0, 0, 0, 0, 0, 0, 0, 0, 0, 0, 0, 0, 0, 0, 0, 0, 0, 0, 0, 0, 0, 0, 0, 0, 0, 0, 0, 0, 0, 0, 0, 0, 0, 0, 0, 0, 0, 0, 0, 0, 0, 0, 0, 0, 0, 0, 0, 0, 0, 0, 0, 0, 0, 0, 0, 0, 0, 0, 0, 0, 0, 0, 0, 0, 0, 0, 0, 0, 0, 0, 0, 0, 0, 0, 0, 0, 0, 0, 0, 0, 0, 0, 0, 0, 0, 0, 0, 0, 0, 0, 0, 0, 0, 0, 0, 0, 0, 0, 0, 0, 0, 0, 0, 0, 0, 0, 0, 0, 0, 0, 0, 0, 0, 0, 0, 0, 0, 0, 0, 0, 0, 0, 0, 0, 0, 0, 0, 0, 0, 0, 0, 0, 0, 0, 0, 0, 0, 0, 0, 0, 0, 0, 0, 0, 0, 0, 0, 0, 0, 0, 0, 0, 0, 0, 0, 0, 0, 0, 0, 0, 0, 0, 0, 0, 0, 0, 0, 0, 0, 0, 0, 0, 0, 0, 0, 0, 0, 0, 0, 0, 0, 0, 0, 0, 0, 0, 0, 0, 0, 0, 0, 0, 0, 0, 0, 0, 0, 0, 0, 0, 0, 0, 0, 0, 0, 0, 0, 0, 0, 0, 0, 0, 0, 0, 0, 0, 0, 0, 0, 0, 0, 0, 0, 0, 0, 0, 0, 0, 0, 0, 0, 0, 0, 0, 0, 0, 0, 0, 0, 0, 0, 0, 0, 0, 0, 0, 0, 0, 0, 0, 0, 0, 0, 0, 0, 0, 0, 0, 0, 0, 0, 0, 0, 0, 0, 0, 0, 0, 0, 0, 0, 0, 0, 0, 0, 0, 0, 0, 0, 0, 0, 0, 0, 0, 0, 0, 0, 0, 0, 0, 0, 0, 0, 0, 0, 0, 0, 0, 0, 0, 0, 0, 0, 0, 0, 0, 0, 0, 0, 0, 0, 0, 0, 0, 0, 0, 0, 0, 0, 0, 0, 0, 0, 0, 0, 0, 0, 0, 0, 0, 0, 0, 0, 0, 0, 0, 0, 0, 0, 0, 0, 0, 0, 0, 0, 0, 0, 0, 0, 0, 0, 0, 0, 0, 0, 0, 0, 0, 0, 0, 0, 0, 0, 0, 0, 0, 0, 0, 0, 0, 0, 0, 0, 0, 0, 0, 0, 0, 0, 0, 0, 0, 0, 0, 0, 0, 0, 0, 0, 0, 0, 0, 0, 0, 0, 0, 0, 0, 0, 0, 0, 0, 0, 0, 0, 0, 0, 0, 0, 0, 0, 0, 0, 0, 0, 0, 0, 0, 0, 0, 0, 0, 0, 0, 0, 0, 0, 0, 0, 0, 0, 0, 0, 0, 0, 0, 0, 0, 0, 0, 0, 0, 0, 0, 0, 0, 0, 0, 0, 0, 0, 0, 0, 0, 0, 0, 0, 0, 0, 0, 0, 0, 0, 0, 0, 0, 0, 0, 0, 0, 0, 0, 0, 0, 0, 0, 0, 0, 0, 0, 0, 0, 0, 0, 0, 0, 0, 0, 0, 0, 0, 0, 0, 0, 0, 0, 0, 0, 0, 0, 0, 0])\n",
            "(u'dtlcxjytcbfb', [0, 0, 0, 0, 0, 0, 0, 0, 0, 0, 0, 0, 0, 0, 0, 0, 0, 0, 0, 0, 0, 0, 1, 0, 0, 0, 0, 0, 0, 0, 0, 0, 0, 0, 0, 0, 0, 0, 0, 0, 0, 0, 0, 0, 0, 0, 0, 0, 0, 0, 0, 0, 0, 0, 0, 0, 0, 0, 0, 0, 0, 0, 0, 0, 0, 0, 0, 0, 0, 0, 0, 0, 0, 0, 0, 0, 0, 0, 0, 0, 0, 0, 0, 0, 0, 0, 0, 0, 0, 0, 0, 0, 0, 0, 0, 0, 0, 0, 0, 0, 0, 0, 0, 0, 0, 0, 0, 0, 0, 0, 0, 0, 0, 0, 0, 0, 0, 0, 0, 0, 0, 0, 0, 0, 0, 0, 0, 0, 0, 0, 0, 0, 0, 0, 0, 0, 0, 0, 0, 0, 0, 0, 0, 0, 0, 0, 0, 0, 0, 0, 0, 0, 0, 0, 0, 0, 0, 0, 0, 0, 0, 0, 0, 0, 0, 0, 0, 0, 0, 0, 0, 0, 0, 0, 0, 0, 0, 0, 0, 0, 0, 0, 0, 0, 0, 0, 0, 0, 0, 0, 0, 0, 0, 0, 0, 0, 0, 0, 0, 0, 0, 0, 0, 0, 0, 0, 0, 0, 0, 0, 0, 0, 0, 0, 0, 0, 0, 0, 0, 0, 0, 0, 0, 0, 0, 0, 0, 0, 0, 0, 0, 0, 0, 0, 0, 0, 0, 0, 0, 0, 0, 0, 0, 0, 0, 0, 0, 0, 0, 0, 0, 0, 0, 0, 0, 0, 0, 0, 0, 0, 0, 0, 0, 0, 0, 0, 0, 0, 0, 0, 0, 0, 0, 0, 0, 0, 0, 0, 0, 0, 0, 0, 0, 0, 0, 0, 0, 0, 0, 0, 0, 0, 0, 0, 0, 0, 0, 0, 0, 0, 0, 0, 0, 0, 0, 0, 0, 0, 0, 0, 0, 0, 0, 0, 0, 0, 0, 0, 0, 0, 0, 0, 0, 0, 0, 0, 0, 0, 0, 0, 0, 0, 0, 0, 0, 0, 0, 0, 0, 0, 0, 0, 0, 0, 0, 0, 0, 0, 0, 0, 0, 0, 0, 0, 0, 0, 0, 0, 0, 0, 0, 0, 0, 0, 0, 0, 0, 0, 0, 0, 0, 0, 0, 0, 0, 0, 0, 0, 0, 0, 0, 0, 0, 0, 0, 0, 0, 0, 0, 0, 0, 0, 0, 0, 0, 0, 0, 0, 0, 0, 0, 0, 0, 0, 0, 0, 0, 0, 0, 0, 0, 0, 0, 0, 0, 0, 0, 0, 0, 0, 0, 0, 0, 0, 0, 0, 0, 0, 0, 0, 0, 0, 0, 0, 0, 0, 0, 0, 0, 0, 0, 0, 0, 0, 0, 0, 0, 0, 0, 0, 0, 0, 0, 0, 0, 0, 0, 0, 0, 0, 0, 0, 0, 0, 0, 0, 0, 0, 0, 0, 0, 0, 0, 0, 0, 0, 0, 0, 0, 0, 0, 0, 0, 0, 0, 0, 0, 0, 0, 0, 0, 0, 0, 0, 0, 0, 0, 0, 0, 0, 0, 0, 0, 0, 0, 0, 0, 0, 0, 0, 0, 0, 0, 0, 0, 0, 0, 0, 0, 0, 0, 0, 0, 0, 0, 0, 0, 0, 0, 0, 0, 0, 0, 0, 0, 0, 0, 0, 0, 0, 0, 0, 0, 0, 0, 0, 0, 0, 0, 0, 0, 0, 0, 0, 0, 0, 0, 0, 0, 0, 0, 0, 0, 0, 0, 0, 0, 0, 0, 0, 0, 0, 0, 0, 0, 0, 0, 0, 0, 0, 0, 0, 0, 0, 0, 0, 0, 0, 0, 0, 0, 0, 0, 0, 0, 0, 0, 0, 0, 0, 0, 0, 0, 0, 0, 0, 0, 0, 0, 0, 0, 0, 0, 0, 0, 0, 0, 0, 0, 0, 0, 0, 0, 0, 0, 0, 0, 0, 0, 0, 0, 0, 0, 0, 0, 0, 0, 0, 0, 0, 0, 0, 0, 0, 0, 0, 0, 0, 0, 0, 0, 0, 0, 0, 0, 0, 0, 0, 0, 0, 0, 0, 0, 0, 0, 0, 0, 0, 0, 0, 0, 0, 0, 0, 0, 0, 0, 0, 0, 0, 0, 0, 0, 0, 0, 0, 0, 0, 0, 0, 0, 0, 0, 0, 0, 0, 0, 0, 0, 0, 0, 0, 0, 0, 0, 0, 0, 0, 0, 0, 0, 0, 0, 0, 0, 0, 0, 0, 0, 0, 0, 0, 0, 0, 0, 0, 0, 0, 0, 0, 0, 0, 0, 0, 0, 0, 0, 0, 0, 0, 0, 0, 0, 0, 0, 0, 0, 0, 0, 0, 0, 0, 0, 0, 0, 0, 0, 0, 0, 0, 0, 0, 0, 0, 0, 0, 0, 0, 0, 0, 0, 0, 0, 0, 0, 0, 0, 0, 0, 0, 0, 0, 0, 0, 0, 0, 0, 0, 0, 0, 0, 0, 0, 0, 0, 0, 0, 0, 0, 0, 0, 0, 0, 0, 0, 0, 0, 0, 0, 0, 0, 0, 0, 0, 0, 0, 0, 0, 0, 0, 0, 0, 0, 0, 0, 0, 0, 0, 0, 0, 0, 0, 0, 0, 0, 0, 0, 0, 0, 0, 0, 0, 0, 0, 0, 0, 0, 0, 0, 0, 0, 0, 0, 0, 0, 0, 0, 0, 0, 0, 0, 0, 0, 0, 0, 0, 0, 0, 0, 0, 0, 0, 0, 0, 0, 0, 0, 0, 0, 0, 0, 0, 0, 0, 0, 0, 0, 0, 0, 0, 0, 0, 0, 0, 0, 0, 0, 0, 0, 0, 0, 0, 0, 0, 0, 0, 0, 0, 0, 0, 0, 0, 0, 0, 0, 0, 0, 0, 0, 0, 0, 0, 0, 0, 0, 0, 0, 0, 0, 0, 0, 0, 0, 0, 0, 0, 0, 0, 0, 0, 0, 0, 0, 0, 0, 0, 0, 0, 0, 0, 0, 0, 0, 0, 0, 0, 0, 0, 0, 0, 0, 0, 0, 0, 0, 0, 0, 0, 0, 0, 0, 0, 0, 0, 0, 0, 0, 0, 0, 0, 0, 0, 0, 0, 0, 0, 0, 0, 0, 0, 0, 0, 0, 0, 0, 0, 0, 0, 0, 0])\n",
            "(u'qlbbhhysgbcb', [0, 0, 0, 0, 0, 0, 0, 0, 1, 0, 0, 0, 0, 0, 0, 0, 0, 0, 0, 0, 0, 0, 0, 0, 0, 0, 0, 0, 0, 0, 0, 0, 0, 0, 0, 0, 0, 0, 0, 0, 0, 0, 0, 0, 0, 0, 0, 0, 0, 0, 0, 0, 0, 0, 0, 0, 0, 0, 0, 0, 0, 0, 0, 0, 0, 0, 0, 0, 0, 0, 0, 0, 0, 0, 0, 0, 0, 0, 0, 0, 0, 0, 0, 0, 0, 0, 0, 0, 0, 0, 0, 0, 0, 0, 0, 0, 0, 0, 0, 0, 0, 0, 0, 0, 0, 0, 0, 0, 0, 0, 0, 0, 0, 0, 0, 0, 0, 0, 0, 0, 0, 0, 0, 0, 0, 0, 0, 0, 0, 0, 0, 0, 0, 0, 0, 0, 0, 0, 0, 0, 0, 0, 0, 0, 0, 0, 0, 0, 0, 0, 0, 0, 0, 0, 0, 0, 0, 0, 0, 0, 0, 0, 0, 0, 0, 0, 0, 0, 0, 0, 0, 0, 0, 0, 0, 0, 0, 0, 0, 0, 0, 0, 0, 0, 0, 0, 0, 0, 0, 0, 0, 0, 0, 0, 0, 0, 0, 0, 0, 0, 0, 0, 0, 0, 0, 0, 0, 0, 0, 0, 0, 0, 0, 0, 0, 0, 0, 0, 0, 0, 0, 0, 0, 0, 0, 0, 0, 0, 0, 0, 0, 0, 0, 0, 0, 0, 0, 0, 0, 0, 0, 0, 0, 0, 0, 0, 0, 0, 0, 0, 0, 0, 0, 0, 0, 0, 0, 0, 0, 0, 0, 0, 0, 0, 0, 0, 0, 0, 0, 0, 0, 0, 0, 0, 0, 0, 0, 0, 0, 0, 0, 0, 0, 0, 0, 0, 0, 0, 0, 0, 0, 0, 0, 0, 0, 0, 0, 0, 0, 0, 0, 0, 0, 0, 0, 0, 0, 0, 0, 0, 0, 0, 0, 0, 0, 0, 0, 0, 0, 0, 0, 0, 0, 0, 0, 0, 0, 0, 0, 0, 0, 0, 0, 0, 0, 0, 0, 0, 0, 0, 0, 0, 0, 0, 0, 0, 0, 0, 0, 0, 0, 0, 0, 0, 0, 0, 0, 0, 0, 0, 0, 0, 0, 0, 0, 0, 0, 0, 0, 0, 0, 0, 0, 0, 0, 0, 0, 0, 0, 0, 0, 0, 0, 0, 0, 0, 0, 0, 0, 0, 0, 0, 0, 0, 0, 0, 0, 0, 0, 0, 0, 0, 0, 0, 0, 0, 0, 0, 0, 0, 0, 0, 0, 0, 0, 0, 0, 0, 0, 0, 0, 0, 0, 0, 0, 0, 0, 0, 0, 0, 0, 0, 0, 0, 0, 0, 0, 0, 0, 0, 0, 0, 0, 0, 0, 0, 0, 0, 0, 0, 0, 0, 0, 0, 0, 0, 0, 0, 0, 0, 0, 0, 0, 0, 0, 0, 0, 0, 0, 0, 0, 0, 0, 0, 0, 0, 0, 0, 0, 0, 0, 0, 0, 0, 0, 0, 0, 0, 0, 0, 0, 0, 0, 0, 0, 0, 0, 0, 0, 0, 0, 0, 0, 0, 0, 0, 0, 0, 0, 0, 0, 0, 0, 0, 0, 0, 0, 0, 0, 0, 0, 0, 0, 0, 0, 0, 0, 0, 0, 0, 0, 0, 0, 0, 0, 0, 0, 0, 0, 0, 0, 0, 0, 0, 0, 0, 0, 0, 0, 0, 0, 0, 0, 0, 0, 0, 0, 0, 0, 0, 0, 0, 0, 0, 0, 0, 0, 0, 0, 0, 0, 0, 0, 0, 0, 0, 0, 0, 0, 0, 0, 0, 0, 0, 0, 0, 0, 0, 0, 0, 0, 0, 0, 0, 0, 0, 0, 0, 0, 0, 0, 0, 0, 0, 0, 0, 0, 0, 0, 0, 0, 0, 0, 0, 0, 0, 0, 0, 0, 0, 0, 0, 0, 0, 0, 0, 0, 0, 0, 0, 0, 0, 0, 0, 0, 0, 0, 0, 0, 0, 0, 0, 0, 0, 0, 0, 0, 0, 0, 0, 0, 0, 0, 0, 0, 0, 0, 0, 0, 0, 0, 0, 0, 0, 0, 0, 0, 0, 0, 0, 0, 0, 0, 0, 0, 0, 0, 0, 0, 0, 0, 0, 0, 0, 0, 0, 0, 0, 0, 0, 0, 0, 0, 0, 0, 0, 0, 0, 0, 0, 0, 0, 0, 0, 0, 0, 0, 0, 0, 0, 0, 0, 0, 0, 0, 0, 0, 0, 0, 0, 0, 0, 0, 0, 0, 0, 0, 0, 0, 0, 0, 0, 0, 0, 0, 0, 0, 0, 0, 0, 0, 0, 0, 0, 0, 0, 0, 0, 0, 0, 0, 0, 0, 0, 0, 0, 0, 0, 0, 0, 0, 0, 0, 0, 0, 0, 0, 0, 0, 0, 0, 0, 0, 0, 0, 0, 0, 0, 0, 0, 0, 0, 0, 0, 0, 0, 0, 0, 0, 0, 0, 0, 0, 0, 0, 0, 0, 0, 0, 0, 0, 0, 0, 0, 0, 0, 0, 0, 0, 0, 0, 0, 0, 0, 0, 0, 0, 0, 0, 0, 0, 0, 0, 0, 0, 0, 0, 0, 0, 0, 0, 0, 0, 0, 0, 0, 0, 0, 0, 0, 0, 0, 0, 0, 0, 0, 0, 0, 0, 0, 0, 0, 0, 0, 0, 0, 0, 0, 0, 0, 0, 0, 0, 0, 0, 0, 0, 0, 0, 0, 0, 0, 0, 0, 0, 0, 0, 0, 0, 0, 0, 0, 0, 0, 0, 0, 0, 0, 0, 0, 0, 0, 0, 0, 0, 0, 0, 0, 0, 0, 0, 0, 0, 0, 0, 0, 0, 0, 0, 0, 0, 0, 0, 0, 0, 0, 0, 0, 0, 0, 0, 0, 0, 0, 0, 0, 0, 0, 0, 0, 0, 0, 0, 0, 0, 0, 0, 0, 0, 0, 0, 0, 0, 0, 0, 0, 0, 0, 0, 0, 0, 0, 0, 0, 0, 0, 0, 0, 0, 0, 0, 0, 0, 0, 0, 0, 0, 0, 0, 0, 0, 0, 0, 0, 0, 0, 0, 0, 0, 0, 0, 0, 0, 0, 0, 0, 0, 0, 0, 0, 0, 0, 0, 0, 0, 0, 0, 0, 0, 0])\n"
          ]
        }
      ],
      "source": [
        "ct=0\n",
        "for m in common1_event:\n",
        "    print(m,common1_event[m])\n",
        "    if ct>5:\n",
        "        break\n",
        "    ct+=1"
      ]
    },
    {
      "cell_type": "code",
      "execution_count": null,
      "metadata": {
        "id": "Io09Uz2PLbxE",
        "outputId": "ae8ea457-b66f-4419-9387-e8a50519d2dc"
      },
      "outputs": [
        {
          "name": "stdout",
          "output_type": "stream",
          "text": [
            "pcnlrlyvlbmc\n"
          ]
        }
      ],
      "source": [
        "for m in common_event:\n",
        "    if common_event[m]==15776612:\n",
        "        print(m)\n",
        "        break"
      ]
    },
    {
      "cell_type": "code",
      "execution_count": null,
      "metadata": {
        "id": "5DxJdinULbxE",
        "outputId": "99046e15-75ac-49bd-c6ca-c58fa948d060"
      },
      "outputs": [
        {
          "data": {
            "text/plain": [
              "115571"
            ]
          },
          "execution_count": 35,
          "metadata": {},
          "output_type": "execute_result"
        }
      ],
      "source": [
        "len(common1_event)"
      ]
    },
    {
      "cell_type": "code",
      "execution_count": null,
      "metadata": {
        "id": "Y3hQ5ZinLbxE",
        "outputId": "9c9b5e00-28a9-4f9a-d7fa-720da2b97fa8"
      },
      "outputs": [
        {
          "name": "stdout",
          "output_type": "stream",
          "text": [
            "1\n"
          ]
        }
      ],
      "source": [
        "if 1 in common1_event[u'wljghlytmbzb']:\n",
        "    print(1)\n",
        "else: print(0)"
      ]
    },
    {
      "cell_type": "markdown",
      "metadata": {
        "id": "UZQRhZ_rLbxE"
      },
      "source": [
        "## Taking mem_at file and making set for search member files"
      ]
    },
    {
      "cell_type": "code",
      "execution_count": null,
      "metadata": {
        "id": "f3oyjCmLLbxE",
        "outputId": "74a93f0f-f544-46e6-b4df-2aa6a8ed4e22"
      },
      "outputs": [
        {
          "name": "stdout",
          "output_type": "stream",
          "text": [
            "223788\n",
            "('NEW ID  ', 57671682, set([(u'74913292', 1344724200000L)]))\n",
            "('NEW ID  ', 188219397, set([(u'227073685', 1450224000000L)]))\n",
            "('NEW ID  ', 100663302, set([(u'dhzjmgyrnbnc', 1383175800000L), (u'dhzjmgyrlblc', 1377732600000L), (u'dhzjmgyrnbdb', 1380756600000L), (u'dhzjmgyrqbxb', 1387413000000L), (u'dhzjmgyrlbcc', 1377127800000L), (u'dhzjmgyrnbvb', 1381966200000L), (u'dhzjmgyrlbsb', 1376523000000L)]))\n",
            "('NEW ID  ', 90701832, set([(u'166281682', 1400626800000L)]))\n",
            "('NEW ID  ', 200802315, set([(u'ghsfrlyvfbnc', 1459381500000L)]))\n",
            "('NEW ID  ', 152043532, set([(u'xvgznyskbdb', 1404345600000L)]))\n",
            "('NEW ID  ', 180180312, set([(u'211533242', 1414884600000L)]))\n"
          ]
        }
      ],
      "source": [
        "\n",
        "#It gives the set of (event-id, event_time) for all the events attended by each user.\n",
        "ct=0\n",
        "mem_at=pickle.load(open('mem_at','r'))\n",
        "print(len(mem_at))\n",
        "for m in mem_at:\n",
        "    print(\"NEW ID  \",m,mem_at[m])\n",
        "    if ct>5:\n",
        "        break\n",
        "    ct+=1"
      ]
    },
    {
      "cell_type": "code",
      "execution_count": null,
      "metadata": {
        "id": "CyRTlfgLLbxE"
      },
      "outputs": [],
      "source": [
        "mem_at_listValue={}\n",
        "for m in mem_at:\n",
        "    mem_at_listValue[m]=list(mem_at[m])"
      ]
    },
    {
      "cell_type": "code",
      "execution_count": null,
      "metadata": {
        "id": "DBevBg-DLbxE",
        "outputId": "8ea9e16a-b93d-40d5-bcae-0deab40561de"
      },
      "outputs": [
        {
          "name": "stdout",
          "output_type": "stream",
          "text": [
            "(57671682, [(u'74913292', 1344724200000L)])\n",
            "(188219397, [(u'227073685', 1450224000000L)])\n",
            "(100663302, [(u'dhzjmgyrnbnc', 1383175800000L), (u'dhzjmgyrlblc', 1377732600000L), (u'dhzjmgyrnbdb', 1380756600000L), (u'dhzjmgyrqbxb', 1387413000000L), (u'dhzjmgyrlbcc', 1377127800000L), (u'dhzjmgyrnbvb', 1381966200000L), (u'dhzjmgyrlbsb', 1376523000000L)])\n",
            "(90701832, [(u'166281682', 1400626800000L)])\n",
            "(89874202, [(u'115185542', 1368486000000L), (u'116748212', 1370698200000L), (u'133377602', 1377451800000L), (u'231940879', 1467154800000L), (u'232615751', 1470265200000L), (u'233040422', 1471993200000L), (u'135661172', 1377729000000L), (u'232895599', 1470351600000L), (u'123906392', 1373497200000L), (u'232454866', 1469142000000L), (u'233092241', 1470783600000L), (u'232475656', 1469055600000L), (u'232224892', 1469138400000L), (u'232281431', 1469658600000L), (u'115794812', 1370473200000L), (u'232876160', 1470178800000L)])\n",
            "(200802315, [(u'ghsfrlyvfbnc', 1459381500000L)])\n",
            "(152043532, [(u'xvgznyskbdb', 1404345600000L)])\n"
          ]
        }
      ],
      "source": [
        "ct=0\n",
        "for m in mem_at_listValue:\n",
        "    print(m,mem_at_listValue[m])\n",
        "    if ct>5:\n",
        "        break\n",
        "    ct+=1"
      ]
    },
    {
      "cell_type": "code",
      "execution_count": null,
      "metadata": {
        "id": "RnhACGx1LbxE",
        "outputId": "f3f53d81-d700-41e1-beab-dc6b28caaa0b"
      },
      "outputs": [
        {
          "data": {
            "text/plain": [
              "u'74913292'"
            ]
          },
          "execution_count": 42,
          "metadata": {},
          "output_type": "execute_result"
        }
      ],
      "source": [
        "mem_at_listValue[57671682][0][0]"
      ]
    },
    {
      "cell_type": "code",
      "execution_count": null,
      "metadata": {
        "id": "LA8Iwf6lLbxE",
        "outputId": "e8700cd3-3a5b-46b4-a9e0-d6e5ba9edbbf"
      },
      "outputs": [
        {
          "name": "stdout",
          "output_type": "stream",
          "text": [
            "423763\n",
            "[57671682, 100663302, 209715208, 127926282, 152043532]\n"
          ]
        }
      ],
      "source": [
        "#making list and set of keys of mtags file\n",
        "mtags_keys=[]\n",
        "for m in mtags:\n",
        "    #print(m,mtags[m])\n",
        "    mtags_keys.append(m)\n",
        "print(len(mtags_keys))\n",
        "print(mtags_keys[0:5])\n",
        "set_mtags_keys=set(mtags_keys)"
      ]
    },
    {
      "cell_type": "code",
      "execution_count": null,
      "metadata": {
        "id": "jXRQnmJlLbxE",
        "outputId": "173e23d3-ca61-4c6e-e4b4-3e25ead07b6c"
      },
      "outputs": [
        {
          "name": "stdout",
          "output_type": "stream",
          "text": [
            "223788\n",
            "[57671682, 188219397, 100663302, 90701832, 200802315]\n"
          ]
        }
      ],
      "source": [
        "##making list and set of keys of mem_at file\n",
        "mem_at_keys=[]\n",
        "for m in mem_at:\n",
        "    #print(m,mtags[m])\n",
        "    mem_at_keys.append(m)\n",
        "print(len(mem_at_keys))\n",
        "print(mem_at_keys[0:5])\n",
        "set_mem_at_keys=set(mem_at_keys)"
      ]
    },
    {
      "cell_type": "code",
      "execution_count": null,
      "metadata": {
        "id": "JOwLPiwhLbxF",
        "outputId": "eb34b704-978a-48d9-b9ca-4f449fd8e2da"
      },
      "outputs": [
        {
          "data": {
            "text/plain": [
              "223393"
            ]
          },
          "execution_count": 45,
          "metadata": {},
          "output_type": "execute_result"
        }
      ],
      "source": [
        "#taking common of two sets\n",
        "intersection=(list(set_mtags_keys.intersection(set_mem_at_keys)))\n",
        "len(intersection)"
      ]
    },
    {
      "cell_type": "code",
      "execution_count": null,
      "metadata": {
        "id": "hmNXVJAhLbxF",
        "outputId": "2f1d84a2-32ba-40e0-edc0-ab8adb562527"
      },
      "outputs": [
        {
          "ename": "KeyboardInterrupt",
          "evalue": "",
          "output_type": "error",
          "traceback": [
            "\u001b[1;31m---------------------------------------------------------------------------\u001b[0m",
            "\u001b[1;31mKeyboardInterrupt\u001b[0m                         Traceback (most recent call last)",
            "\u001b[1;32m<ipython-input-46-f4fe7883984d>\u001b[0m in \u001b[0;36m<module>\u001b[1;34m()\u001b[0m\n\u001b[0;32m      3\u001b[0m \u001b[1;32mfor\u001b[0m \u001b[0mm\u001b[0m \u001b[1;32min\u001b[0m \u001b[0mmem_at_listValue\u001b[0m\u001b[1;33m:\u001b[0m\u001b[1;33m\u001b[0m\u001b[0m\n\u001b[0;32m      4\u001b[0m     \u001b[1;32mif\u001b[0m \u001b[0mm\u001b[0m \u001b[1;32min\u001b[0m \u001b[0mintersection\u001b[0m\u001b[1;33m:\u001b[0m\u001b[1;33m\u001b[0m\u001b[0m\n\u001b[1;32m----> 5\u001b[1;33m         \u001b[0mnew_mem_at\u001b[0m\u001b[1;33m[\u001b[0m\u001b[0mm\u001b[0m\u001b[1;33m]\u001b[0m\u001b[1;33m=\u001b[0m\u001b[0mmem_at_listValue\u001b[0m\u001b[1;33m[\u001b[0m\u001b[0mm\u001b[0m\u001b[1;33m]\u001b[0m\u001b[1;33m\u001b[0m\u001b[0m\n\u001b[0m",
            "\u001b[1;31mKeyboardInterrupt\u001b[0m: "
          ]
        }
      ],
      "source": [
        "##creating new mem+at file for common mtags and mem_at files\n",
        "new_mem_at={}\n",
        "for m in mem_at_listValue:\n",
        "    if m in intersection:\n",
        "        new_mem_at[m]=mem_at_listValue[m]"
      ]
    },
    {
      "cell_type": "code",
      "execution_count": null,
      "metadata": {
        "id": "CTZyKy9HLbxF"
      },
      "outputs": [],
      "source": [
        "ct=0\n",
        "for m in new_mem_at:\n",
        "    print(m,new_mem_at[m])\n",
        "    if ct>5:\n",
        "        break\n",
        "    ct+=1\n",
        "len(new_mem_at)"
      ]
    },
    {
      "cell_type": "code",
      "execution_count": null,
      "metadata": {
        "id": "T9GjBW6ALbxF"
      },
      "outputs": [],
      "source": [
        "##Here I create list of member id's whose events are in common\n",
        "listOfEvent=[]\n",
        "for i in new_mem_at:\n",
        "    for j in range(len(new_mem_at[i])):\n",
        "        if new_mem_at[i][j][0] in common:\n",
        "            listOfEvent.append(i)\n",
        "            break"
      ]
    },
    {
      "cell_type": "code",
      "execution_count": null,
      "metadata": {
        "id": "tF4n5KheLbxF",
        "outputId": "38617f94-a741-42ff-9794-73f273fe8e36"
      },
      "outputs": [
        {
          "name": "stdout",
          "output_type": "stream",
          "text": [
            "[100663302, 90701832, 89874202, 115343382, 160432162]\n"
          ]
        },
        {
          "data": {
            "text/plain": [
              "125927"
            ]
          },
          "execution_count": 49,
          "metadata": {},
          "output_type": "execute_result"
        }
      ],
      "source": [
        "print(listOfEvent[:5])\n",
        "len(listOfEvent)"
      ]
    },
    {
      "cell_type": "code",
      "execution_count": null,
      "metadata": {
        "id": "QINMFV_rLbxF"
      },
      "outputs": [],
      "source": [
        "##Here i make a dictionary of mtags i.e., member id and mtags\n",
        "mtagsCommon={}\n",
        "for i in listOfEvent:\n",
        "    mtagsCommon[i]=list(mtags[i])"
      ]
    },
    {
      "cell_type": "code",
      "execution_count": null,
      "metadata": {
        "id": "bz2ctQIVLbxF"
      },
      "outputs": [],
      "source": [
        "##Here i make a dictionary of mtags i.e., member id and events from mem at file\n",
        "mem_atCommon={}\n",
        "for i in listOfEvent:\n",
        "    mem_atCommon[i]=new_mem_at[i]"
      ]
    },
    {
      "cell_type": "code",
      "execution_count": null,
      "metadata": {
        "id": "Jg4TZWyLLbxF",
        "outputId": "17506719-d17b-442f-c360-b7897fdee152"
      },
      "outputs": [
        {
          "name": "stdout",
          "output_type": "stream",
          "text": [
            "125927\n",
            "(100663302, [(u'dhzjmgyrnbnc', 1383175800000L), (u'dhzjmgyrlblc', 1377732600000L), (u'dhzjmgyrnbdb', 1380756600000L), (u'dhzjmgyrqbxb', 1387413000000L), (u'dhzjmgyrlbcc', 1377127800000L), (u'dhzjmgyrnbvb', 1381966200000L), (u'dhzjmgyrlbsb', 1376523000000L)])\n",
            "(90701832, [(u'166281682', 1400626800000L)])\n",
            "(12320779, [(u'230288760', 1461709800000L), (u'drmwwhysqbvb', 1418778000000L), (u'pdbfdlyvjblc', 1467154800000L), (u'227888680', 1462919400000L), (u'234195139', 1476138600000L), (u'230275055', 1462125600000L), (u'230783910', 1462645800000L), (u'234531526', 1477749600000L)])\n",
            "(8650765, [(u'226374145', 1449435600000L), (u'15092527', 1288468800000L), (u'85501952', 1350849600000L), (u'9589377', 1234040400000L), (u'85212832', 1350244800000L), (u'37813182', 1319410800000L), (u'37636542', 1319407200000L)])\n"
          ]
        }
      ],
      "source": [
        "ct=0\n",
        "print(len(mem_atCommon))\n",
        "for m in mem_atCommon:\n",
        "    print(m,mem_atCommon[m])\n",
        "    if ct>2:\n",
        "        break\n",
        "    ct+=1"
      ]
    },
    {
      "cell_type": "markdown",
      "metadata": {
        "id": "4wBCdaVaLbxF"
      },
      "source": [
        "## Here I create the acjacency list"
      ]
    },
    {
      "cell_type": "code",
      "execution_count": null,
      "metadata": {
        "id": "H6qauKNBLbxG"
      },
      "outputs": [],
      "source": [
        "##Here I take only member ID and events and drop the time format\n",
        "mem_event_final={}\n",
        "for i in mem_atCommon:\n",
        "    mem_event_final[i]=[x[0] for x in mem_atCommon[i]]"
      ]
    },
    {
      "cell_type": "code",
      "execution_count": null,
      "metadata": {
        "id": "Nwl8VjNxLbxG",
        "outputId": "82e83d26-167d-4710-949e-49ae35c98374"
      },
      "outputs": [
        {
          "name": "stdout",
          "output_type": "stream",
          "text": [
            "125927\n",
            "(100663302, [u'dhzjmgyrnbnc', u'dhzjmgyrlblc', u'dhzjmgyrnbdb', u'dhzjmgyrqbxb', u'dhzjmgyrlbcc', u'dhzjmgyrnbvb', u'dhzjmgyrlbsb'])\n",
            "(90701832, [u'166281682'])\n",
            "(12320779, [u'230288760', u'drmwwhysqbvb', u'pdbfdlyvjblc', u'227888680', u'234195139', u'230275055', u'230783910', u'234531526'])\n",
            "(8650765, [u'226374145', u'15092527', u'85501952', u'9589377', u'85212832', u'37813182', u'37636542'])\n"
          ]
        }
      ],
      "source": [
        "ct=0\n",
        "print(len(mem_event_final))\n",
        "for m in mem_atCommon:\n",
        "    print(m,mem_event_final[m])\n",
        "    if ct>2:\n",
        "        break\n",
        "    ct+=1"
      ]
    },
    {
      "cell_type": "code",
      "execution_count": null,
      "metadata": {
        "id": "gjP4lh4pLbxG",
        "outputId": "bde923b1-3a70-4073-ce96-91bda3e17f96"
      },
      "outputs": [
        {
          "name": "stdout",
          "output_type": "stream",
          "text": [
            "125927\n",
            "(100663302, [])\n",
            "(90701832, [u'Business Intelligence', u'Technology', u'Big Data'])\n",
            "(12320779, [u'Dining Out', u'Expat', u'Foodie', u'Hiking', u'Travel', u'Cooking', u'International Travel', u'Taiwan International Meetup', u'Cooking Dinner Parties', u'Culture Exchange', u'New In Town', u'Language Exchange', u'Adventure', u'Social', u'Recipes', u'Mandarin Learning'])\n",
            "(8650765, [])\n",
            "(12845070, [])\n",
            "(115343382, [])\n",
            "(17563671, [])\n"
          ]
        }
      ],
      "source": [
        "ct=0\n",
        "print(len(mtagsCommon))\n",
        "for m in mtagsCommon:\n",
        "    print(m,mtagsCommon[m])\n",
        "    if ct>5:\n",
        "        break\n",
        "    ct+=1"
      ]
    },
    {
      "cell_type": "code",
      "execution_count": null,
      "metadata": {
        "id": "t9cqdAxYLbxG",
        "outputId": "afa27001-0a6b-4dd7-b67b-e965f803828e"
      },
      "outputs": [
        {
          "name": "stdout",
          "output_type": "stream",
          "text": [
            "125927\n",
            "[]\n"
          ]
        }
      ],
      "source": [
        "#Here take the values of above dictionary\n",
        "mtagValues=[]\n",
        "for m in mtagsCommon:\n",
        "    mtagValues.append(list(mtagsCommon[m]))\n",
        "print(len(mtagValues))\n",
        "print((mtagValues[0]))\n",
        "# for i in range(5):\n",
        "#     print((mtagValues[i]))\n",
        "#     print(len(mtagValues[i]))"
      ]
    },
    {
      "cell_type": "code",
      "execution_count": null,
      "metadata": {
        "id": "t6b8xRWuLbxG",
        "outputId": "26faadc3-db38-484c-aaf2-8ddecdaa71a0"
      },
      "outputs": [
        {
          "name": "stdout",
          "output_type": "stream",
          "text": [
            "[]\n",
            "0\n",
            "[u'Business Intelligence', u'Technology', u'Big Data']\n",
            "3\n",
            "[u'Dining Out', u'Expat', u'Foodie', u'Hiking', u'Travel', u'Cooking', u'International Travel', u'Taiwan International Meetup', u'Cooking Dinner Parties', u'Culture Exchange', u'New In Town', u'Language Exchange', u'Adventure', u'Social', u'Recipes', u'Mandarin Learning']\n",
            "16\n",
            "[]\n",
            "0\n",
            "[]\n",
            "0\n"
          ]
        }
      ],
      "source": [
        "#print((mtagValues[1]))\n",
        "for i in range(5):\n",
        "    print((mtagValues[i]))\n",
        "    print(len(mtagValues[i]))"
      ]
    },
    {
      "cell_type": "code",
      "execution_count": null,
      "metadata": {
        "id": "tNJlOe3WLbxG",
        "outputId": "ab021015-a27f-44b3-dea2-fbc3e5a8a812"
      },
      "outputs": [
        {
          "name": "stdout",
          "output_type": "stream",
          "text": [
            "('len of listOfmtags= ', 1705500)\n",
            "24072\n"
          ]
        }
      ],
      "source": [
        "listOfmtags=[]\n",
        "#m=[]\n",
        "for i in range(len(mtagValues)):\n",
        "    #m.append(intersection[i])\n",
        "\n",
        "    for j in range(len(mtagValues[i])):\n",
        "\n",
        "        listOfmtags.append(mtagValues[i][j])\n",
        "print(\"len of listOfmtags= \",len(listOfmtags))\n",
        "#print(\"len of m= \",len(m))\n",
        "listOfmtags[0:8]\n",
        "l1=list(set(listOfmtags))\n",
        "print(len(set(listOfmtags)))\n",
        "#m[0:5]"
      ]
    },
    {
      "cell_type": "code",
      "execution_count": null,
      "metadata": {
        "id": "G62ZDYTbLbxG",
        "outputId": "3e9cccdb-f111-463b-cdfa-b73bb8b98068"
      },
      "outputs": [
        {
          "data": {
            "text/plain": [
              "[(u'Dining Out', 26475),\n",
              " (u'Fitness', 25318),\n",
              " (u'Live Music', 24399),\n",
              " (u'Outdoors', 23717),\n",
              " (u'Travel', 21631),\n",
              " (u'Art', 17871),\n",
              " (u'Hiking', 16488),\n",
              " (u'Watching Movies', 15591),\n",
              " (u'Chicago', 15030),\n",
              " (u'Startup Businesses', 14691)]"
            ]
          },
          "execution_count": 91,
          "metadata": {},
          "output_type": "execute_result"
        }
      ],
      "source": [
        "from collections import Counter\n",
        "hset=Counter(listOfmtags);\n",
        "mostOccure=hset.most_common(1000)\n",
        "(mostOccure[0:10])"
      ]
    },
    {
      "cell_type": "code",
      "execution_count": null,
      "metadata": {
        "id": "S9-OuNKSLbxG",
        "outputId": "993a17be-22d7-45f7-fa53-b0bef90535b5"
      },
      "outputs": [
        {
          "data": {
            "text/plain": [
              "[u'Dining Out', u'Fitness', u'Live Music', u'Outdoors', u'Travel']"
            ]
          },
          "execution_count": 92,
          "metadata": {},
          "output_type": "execute_result"
        }
      ],
      "source": [
        "#Taking the most common mtags in list\n",
        "mostOccuremtags=[]\n",
        "for i in range(1000):\n",
        "    for j in range(1):\n",
        "        mostOccuremtags.append(mostOccure[i][j])\n",
        "mostOccuremtags[0:5]"
      ]
    },
    {
      "cell_type": "code",
      "execution_count": null,
      "metadata": {
        "id": "E5Kl_rYfLbxG",
        "outputId": "c8444403-1a31-422e-dbfb-fe8ea1b214ff"
      },
      "outputs": [
        {
          "data": {
            "text/plain": [
              "1000"
            ]
          },
          "execution_count": 93,
          "metadata": {},
          "output_type": "execute_result"
        }
      ],
      "source": [
        "len(mostOccuremtags)"
      ]
    },
    {
      "cell_type": "code",
      "execution_count": null,
      "metadata": {
        "id": "uK_iVyvtLbxG"
      },
      "outputs": [],
      "source": [
        "##creating dictionary of intersection elements as key and value is zeroes\n",
        "valueZero={}\n",
        "for i in mtagsCommon:\n",
        "    valueZero[i]=np.zeros((1, len(mostOccuremtags)+1))"
      ]
    },
    {
      "cell_type": "code",
      "execution_count": null,
      "metadata": {
        "id": "OSnFlXjXLbxG",
        "outputId": "0f84eabd-fe02-4e97-8331-f13db9bbfa20"
      },
      "outputs": [
        {
          "data": {
            "text/plain": [
              "1001"
            ]
          },
          "execution_count": 183,
          "metadata": {},
          "output_type": "execute_result"
        }
      ],
      "source": [
        "len(valueZero[100663302][0])"
      ]
    },
    {
      "cell_type": "markdown",
      "metadata": {
        "id": "pj8jnaNpLbxG"
      },
      "source": [
        "## Here I get the mtags dicts final of 125927*1001 matrix type"
      ]
    },
    {
      "cell_type": "code",
      "execution_count": null,
      "metadata": {
        "id": "wrVr6KtALbxH"
      },
      "outputs": [],
      "source": [
        "for i in valueZero:\n",
        "    if (len(mtagsCommon[i]))==0:\n",
        "        valueZero[i][0][1000]=1\n",
        "    else:\n",
        "        for j in range(len(mtagsCommon[i])):\n",
        "            for k in range(1000):\n",
        "                if mtagsCommon[i][j]==mostOccuremtags[k]:\n",
        "                    valueZero[i][0][k]=1\n",
        "\n",
        "\n",
        "#     for j in range(len(mtagsCommon[i])):\n",
        "#         if (len(mtagValues[i]))==0:\n",
        "#             valueZero[i][0][1000]=1"
      ]
    },
    {
      "cell_type": "code",
      "execution_count": null,
      "metadata": {
        "id": "N-TnpLKWLbxH"
      },
      "outputs": [],
      "source": [
        "for i in valueZero:\n",
        "    valueZero[i]=valueZero[i].tolist()"
      ]
    },
    {
      "cell_type": "code",
      "execution_count": null,
      "metadata": {
        "id": "PECYW3pMLbxH"
      },
      "outputs": [],
      "source": [
        "for i in valueZero:\n",
        "    valueZero[i]=valueZero[i][0]"
      ]
    },
    {
      "cell_type": "code",
      "execution_count": null,
      "metadata": {
        "id": "YXvQAKVwLbxH",
        "outputId": "543adc69-8ec8-4f80-a4b5-df8651b6715d"
      },
      "outputs": [
        {
          "name": "stdout",
          "output_type": "stream",
          "text": [
            "(41680902, [0.0, 0.0, 0.0, 0.0, 0.0, 0.0, 0.0, 0.0, 0.0, 0.0, 0.0, 0.0, 0.0, 0.0, 0.0, 0.0, 0.0, 0.0, 0.0, 0.0, 0.0, 0.0, 0.0, 0.0, 0.0, 0.0, 0.0, 0.0, 0.0, 0.0, 0.0, 0.0, 0.0, 0.0, 0.0, 0.0, 0.0, 0.0, 0.0, 0.0, 0.0, 0.0, 0.0, 0.0, 0.0, 0.0, 0.0, 0.0, 0.0, 0.0, 0.0, 0.0, 0.0, 0.0, 0.0, 0.0, 0.0, 0.0, 0.0, 0.0, 0.0, 0.0, 0.0, 0.0, 0.0, 0.0, 0.0, 0.0, 0.0, 0.0, 0.0, 0.0, 0.0, 0.0, 0.0, 0.0, 0.0, 0.0, 0.0, 0.0, 0.0, 0.0, 0.0, 0.0, 0.0, 0.0, 0.0, 0.0, 0.0, 0.0, 0.0, 0.0, 0.0, 0.0, 0.0, 0.0, 0.0, 0.0, 0.0, 0.0, 0.0, 0.0, 0.0, 0.0, 0.0, 0.0, 0.0, 0.0, 0.0, 0.0, 0.0, 0.0, 0.0, 0.0, 0.0, 0.0, 0.0, 0.0, 0.0, 0.0, 0.0, 0.0, 0.0, 0.0, 0.0, 0.0, 0.0, 0.0, 0.0, 0.0, 0.0, 0.0, 0.0, 0.0, 0.0, 0.0, 0.0, 0.0, 0.0, 0.0, 0.0, 0.0, 0.0, 0.0, 0.0, 0.0, 0.0, 0.0, 0.0, 0.0, 0.0, 0.0, 0.0, 0.0, 0.0, 0.0, 0.0, 0.0, 0.0, 0.0, 0.0, 0.0, 0.0, 0.0, 0.0, 0.0, 0.0, 0.0, 0.0, 0.0, 0.0, 0.0, 0.0, 0.0, 0.0, 0.0, 0.0, 0.0, 0.0, 0.0, 0.0, 0.0, 0.0, 0.0, 0.0, 0.0, 0.0, 0.0, 0.0, 0.0, 0.0, 0.0, 0.0, 0.0, 0.0, 0.0, 0.0, 0.0, 0.0, 0.0, 0.0, 0.0, 0.0, 0.0, 0.0, 0.0, 0.0, 0.0, 0.0, 0.0, 0.0, 0.0, 0.0, 0.0, 0.0, 0.0, 0.0, 0.0, 0.0, 0.0, 0.0, 0.0, 0.0, 0.0, 0.0, 0.0, 0.0, 0.0, 0.0, 0.0, 0.0, 0.0, 0.0, 0.0, 0.0, 0.0, 0.0, 0.0, 0.0, 0.0, 0.0, 0.0, 0.0, 0.0, 0.0, 0.0, 0.0, 0.0, 0.0, 0.0, 0.0, 0.0, 0.0, 0.0, 0.0, 0.0, 0.0, 0.0, 0.0, 0.0, 0.0, 0.0, 0.0, 0.0, 0.0, 0.0, 0.0, 0.0, 0.0, 0.0, 0.0, 0.0, 0.0, 0.0, 0.0, 0.0, 0.0, 0.0, 0.0, 0.0, 0.0, 0.0, 0.0, 0.0, 0.0, 0.0, 0.0, 0.0, 0.0, 0.0, 0.0, 0.0, 0.0, 0.0, 0.0, 0.0, 0.0, 0.0, 0.0, 0.0, 0.0, 0.0, 0.0, 0.0, 0.0, 0.0, 0.0, 0.0, 0.0, 0.0, 0.0, 0.0, 0.0, 0.0, 0.0, 0.0, 0.0, 0.0, 0.0, 0.0, 0.0, 0.0, 0.0, 0.0, 0.0, 0.0, 0.0, 0.0, 0.0, 0.0, 0.0, 0.0, 0.0, 0.0, 0.0, 0.0, 0.0, 0.0, 0.0, 0.0, 0.0, 0.0, 0.0, 0.0, 0.0, 0.0, 0.0, 0.0, 0.0, 0.0, 0.0, 0.0, 0.0, 0.0, 0.0, 0.0, 0.0, 0.0, 0.0, 0.0, 0.0, 0.0, 0.0, 0.0, 0.0, 0.0, 0.0, 0.0, 0.0, 0.0, 0.0, 0.0, 0.0, 0.0, 0.0, 0.0, 0.0, 0.0, 0.0, 0.0, 0.0, 0.0, 0.0, 0.0, 0.0, 0.0, 0.0, 0.0, 0.0, 0.0, 0.0, 0.0, 0.0, 0.0, 0.0, 0.0, 0.0, 0.0, 0.0, 0.0, 0.0, 0.0, 0.0, 0.0, 0.0, 0.0, 0.0, 0.0, 0.0, 0.0, 0.0, 0.0, 0.0, 0.0, 0.0, 0.0, 0.0, 0.0, 0.0, 0.0, 0.0, 0.0, 0.0, 0.0, 0.0, 0.0, 0.0, 0.0, 0.0, 0.0, 0.0, 0.0, 0.0, 0.0, 0.0, 0.0, 0.0, 0.0, 0.0, 0.0, 0.0, 0.0, 0.0, 0.0, 0.0, 0.0, 0.0, 0.0, 0.0, 0.0, 0.0, 0.0, 0.0, 0.0, 0.0, 0.0, 0.0, 0.0, 0.0, 0.0, 0.0, 0.0, 0.0, 0.0, 0.0, 0.0, 0.0, 0.0, 0.0, 0.0, 0.0, 0.0, 0.0, 0.0, 0.0, 0.0, 0.0, 0.0, 0.0, 0.0, 0.0, 0.0, 0.0, 0.0, 0.0, 0.0, 1.0, 0.0, 0.0, 0.0, 0.0, 0.0, 0.0, 0.0, 0.0, 0.0, 0.0, 0.0, 0.0, 0.0, 0.0, 0.0, 0.0, 0.0, 0.0, 0.0, 0.0, 0.0, 0.0, 0.0, 0.0, 0.0, 0.0, 0.0, 0.0, 0.0, 0.0, 0.0, 0.0, 0.0, 0.0, 0.0, 0.0, 0.0, 0.0, 0.0, 0.0, 0.0, 0.0, 0.0, 0.0, 0.0, 0.0, 1.0, 0.0, 0.0, 0.0, 0.0, 0.0, 0.0, 0.0, 0.0, 0.0, 0.0, 0.0, 0.0, 0.0, 0.0, 0.0, 0.0, 0.0, 0.0, 0.0, 0.0, 0.0, 0.0, 0.0, 0.0, 0.0, 0.0, 0.0, 0.0, 0.0, 0.0, 0.0, 0.0, 0.0, 0.0, 0.0, 0.0, 0.0, 0.0, 0.0, 0.0, 0.0, 0.0, 0.0, 0.0, 0.0, 0.0, 0.0, 0.0, 0.0, 0.0, 0.0, 0.0, 0.0, 0.0, 0.0, 0.0, 0.0, 0.0, 0.0, 0.0, 0.0, 0.0, 0.0, 0.0, 0.0, 0.0, 0.0, 0.0, 0.0, 0.0, 0.0, 0.0, 0.0, 0.0, 0.0, 0.0, 0.0, 0.0, 0.0, 0.0, 0.0, 0.0, 0.0, 0.0, 0.0, 0.0, 0.0, 0.0, 0.0, 0.0, 0.0, 0.0, 0.0, 0.0, 0.0, 1.0, 0.0, 0.0, 0.0, 0.0, 0.0, 0.0, 0.0, 0.0, 0.0, 0.0, 0.0, 0.0, 0.0, 0.0, 0.0, 0.0, 0.0, 0.0, 0.0, 0.0, 0.0, 0.0, 0.0, 0.0, 0.0, 0.0, 0.0, 0.0, 0.0, 0.0, 0.0, 0.0, 0.0, 0.0, 0.0, 0.0, 0.0, 0.0, 0.0, 0.0, 0.0, 0.0, 0.0, 0.0, 0.0, 0.0, 0.0, 0.0, 0.0, 0.0, 0.0, 0.0, 0.0, 0.0, 0.0, 0.0, 0.0, 0.0, 0.0, 0.0, 0.0, 0.0, 0.0, 0.0, 0.0, 0.0, 0.0, 0.0, 0.0, 0.0, 0.0, 0.0, 0.0, 0.0, 0.0, 0.0, 0.0, 0.0, 0.0, 0.0, 0.0, 0.0, 0.0, 0.0, 0.0, 0.0, 0.0, 0.0, 0.0, 0.0, 0.0, 0.0, 0.0, 0.0, 0.0, 0.0, 0.0, 0.0, 0.0, 0.0, 0.0, 0.0, 0.0, 0.0, 0.0, 0.0, 0.0, 0.0, 0.0, 0.0, 0.0, 0.0, 0.0, 0.0, 0.0, 0.0, 0.0, 0.0, 0.0, 0.0, 0.0, 0.0, 0.0, 0.0, 0.0, 0.0, 0.0, 0.0, 0.0, 0.0, 0.0, 0.0, 0.0, 0.0, 0.0, 0.0, 0.0, 0.0, 0.0, 0.0, 0.0, 0.0, 0.0, 0.0, 0.0, 0.0, 0.0, 0.0, 0.0, 0.0, 0.0, 0.0, 0.0, 0.0, 0.0, 0.0, 0.0, 0.0, 0.0, 0.0, 0.0, 0.0, 0.0, 0.0, 0.0, 0.0, 0.0, 0.0, 0.0, 0.0, 0.0, 0.0, 0.0, 0.0, 0.0, 0.0, 0.0, 0.0, 0.0, 0.0, 0.0, 0.0, 0.0, 0.0, 0.0, 0.0, 0.0, 0.0, 0.0, 0.0, 0.0, 0.0, 0.0, 0.0, 0.0, 0.0, 0.0, 0.0, 0.0, 0.0, 0.0, 0.0, 0.0, 0.0, 0.0, 0.0, 0.0, 0.0, 0.0, 0.0, 0.0, 0.0, 0.0, 0.0, 0.0, 0.0, 0.0, 0.0, 0.0, 0.0, 0.0, 0.0, 0.0, 0.0, 0.0, 0.0, 0.0, 0.0, 0.0, 0.0, 0.0, 0.0, 0.0, 0.0, 0.0, 0.0, 0.0, 0.0, 0.0, 0.0, 0.0, 0.0, 0.0, 0.0, 0.0, 0.0, 0.0, 0.0, 0.0, 0.0, 0.0, 0.0, 0.0, 0.0, 0.0, 0.0, 0.0, 0.0, 0.0, 0.0, 0.0, 0.0, 0.0, 0.0, 0.0, 0.0, 0.0, 0.0, 0.0, 0.0, 0.0, 0.0, 0.0, 0.0, 0.0, 0.0, 0.0, 0.0, 0.0, 0.0, 0.0, 0.0, 0.0, 0.0, 0.0, 0.0, 0.0, 0.0, 0.0, 0.0, 0.0, 0.0, 0.0, 0.0, 0.0, 0.0, 0.0, 0.0, 0.0, 0.0, 0.0, 0.0, 0.0, 0.0, 0.0, 0.0, 0.0, 0.0, 0.0, 0.0, 0.0, 0.0, 0.0, 0.0, 0.0, 0.0, 0.0, 0.0, 0.0, 0.0, 0.0, 0.0, 0.0, 0.0, 0.0, 0.0, 0.0, 0.0, 0.0, 0.0, 0.0, 0.0, 0.0, 0.0, 0.0, 0.0, 0.0, 0.0, 0.0, 0.0, 0.0, 0.0, 0.0, 0.0, 0.0, 0.0, 0.0, 0.0, 0.0, 0.0, 0.0, 0.0, 0.0, 0.0, 0.0, 0.0, 0.0, 0.0, 0.0, 0.0, 0.0, 0.0, 0.0, 0.0, 0.0, 0.0, 0.0, 0.0, 0.0, 0.0, 0.0])\n",
            "(39583752, [0.0, 1.0, 1.0, 0.0, 1.0, 1.0, 1.0, 0.0, 0.0, 0.0, 0.0, 0.0, 0.0, 1.0, 0.0, 0.0, 0.0, 0.0, 0.0, 1.0, 0.0, 1.0, 0.0, 0.0, 1.0, 1.0, 0.0, 1.0, 0.0, 0.0, 0.0, 0.0, 0.0, 0.0, 0.0, 0.0, 0.0, 0.0, 0.0, 0.0, 0.0, 1.0, 1.0, 0.0, 0.0, 0.0, 0.0, 0.0, 0.0, 0.0, 0.0, 0.0, 1.0, 1.0, 0.0, 0.0, 0.0, 0.0, 0.0, 1.0, 0.0, 0.0, 1.0, 0.0, 0.0, 0.0, 0.0, 1.0, 0.0, 0.0, 0.0, 0.0, 0.0, 0.0, 0.0, 0.0, 0.0, 0.0, 0.0, 0.0, 0.0, 0.0, 0.0, 1.0, 0.0, 0.0, 1.0, 0.0, 0.0, 0.0, 0.0, 0.0, 0.0, 0.0, 0.0, 0.0, 1.0, 0.0, 0.0, 0.0, 0.0, 0.0, 0.0, 1.0, 0.0, 1.0, 0.0, 0.0, 0.0, 0.0, 0.0, 0.0, 0.0, 0.0, 0.0, 0.0, 0.0, 0.0, 0.0, 0.0, 1.0, 0.0, 0.0, 0.0, 0.0, 1.0, 0.0, 1.0, 0.0, 0.0, 0.0, 0.0, 0.0, 0.0, 0.0, 0.0, 0.0, 0.0, 0.0, 0.0, 0.0, 0.0, 0.0, 0.0, 0.0, 1.0, 0.0, 0.0, 0.0, 0.0, 0.0, 0.0, 0.0, 0.0, 0.0, 0.0, 0.0, 0.0, 0.0, 0.0, 0.0, 0.0, 0.0, 0.0, 0.0, 0.0, 0.0, 0.0, 0.0, 0.0, 0.0, 0.0, 0.0, 0.0, 0.0, 0.0, 0.0, 0.0, 0.0, 0.0, 0.0, 0.0, 0.0, 0.0, 0.0, 0.0, 0.0, 0.0, 0.0, 1.0, 1.0, 0.0, 0.0, 0.0, 0.0, 0.0, 0.0, 0.0, 0.0, 1.0, 0.0, 0.0, 0.0, 0.0, 0.0, 0.0, 0.0, 0.0, 0.0, 0.0, 0.0, 0.0, 0.0, 0.0, 0.0, 0.0, 0.0, 0.0, 0.0, 0.0, 0.0, 0.0, 0.0, 0.0, 0.0, 0.0, 0.0, 0.0, 1.0, 0.0, 0.0, 0.0, 0.0, 0.0, 0.0, 0.0, 0.0, 0.0, 0.0, 0.0, 0.0, 0.0, 1.0, 0.0, 0.0, 0.0, 0.0, 0.0, 0.0, 0.0, 0.0, 0.0, 0.0, 0.0, 0.0, 0.0, 0.0, 0.0, 0.0, 0.0, 0.0, 0.0, 0.0, 0.0, 0.0, 0.0, 0.0, 0.0, 0.0, 0.0, 0.0, 0.0, 0.0, 0.0, 0.0, 0.0, 0.0, 0.0, 0.0, 0.0, 0.0, 0.0, 0.0, 0.0, 0.0, 0.0, 0.0, 0.0, 0.0, 0.0, 0.0, 0.0, 0.0, 0.0, 0.0, 0.0, 0.0, 0.0, 0.0, 0.0, 0.0, 0.0, 0.0, 0.0, 0.0, 0.0, 0.0, 0.0, 0.0, 0.0, 0.0, 0.0, 0.0, 0.0, 0.0, 0.0, 0.0, 0.0, 0.0, 0.0, 0.0, 0.0, 0.0, 0.0, 0.0, 0.0, 0.0, 0.0, 0.0, 0.0, 0.0, 0.0, 0.0, 0.0, 0.0, 0.0, 0.0, 0.0, 0.0, 0.0, 0.0, 0.0, 0.0, 0.0, 0.0, 0.0, 0.0, 0.0, 0.0, 0.0, 0.0, 0.0, 0.0, 0.0, 0.0, 0.0, 0.0, 0.0, 0.0, 0.0, 0.0, 0.0, 0.0, 0.0, 0.0, 0.0, 0.0, 0.0, 0.0, 0.0, 0.0, 0.0, 0.0, 0.0, 0.0, 0.0, 0.0, 0.0, 0.0, 0.0, 0.0, 0.0, 0.0, 0.0, 0.0, 0.0, 0.0, 0.0, 0.0, 0.0, 0.0, 0.0, 0.0, 0.0, 0.0, 0.0, 0.0, 0.0, 0.0, 0.0, 0.0, 0.0, 0.0, 0.0, 0.0, 0.0, 0.0, 0.0, 0.0, 0.0, 0.0, 0.0, 0.0, 0.0, 0.0, 0.0, 0.0, 1.0, 0.0, 0.0, 0.0, 0.0, 0.0, 0.0, 0.0, 0.0, 0.0, 0.0, 0.0, 0.0, 0.0, 0.0, 0.0, 0.0, 0.0, 0.0, 0.0, 0.0, 0.0, 0.0, 0.0, 0.0, 0.0, 0.0, 0.0, 0.0, 0.0, 0.0, 0.0, 0.0, 0.0, 0.0, 0.0, 0.0, 0.0, 0.0, 0.0, 0.0, 0.0, 0.0, 0.0, 0.0, 0.0, 0.0, 0.0, 0.0, 0.0, 0.0, 0.0, 0.0, 0.0, 0.0, 0.0, 0.0, 0.0, 0.0, 0.0, 0.0, 0.0, 0.0, 0.0, 0.0, 0.0, 0.0, 0.0, 0.0, 0.0, 0.0, 0.0, 0.0, 0.0, 0.0, 0.0, 0.0, 0.0, 0.0, 0.0, 0.0, 0.0, 0.0, 0.0, 0.0, 0.0, 0.0, 0.0, 0.0, 0.0, 0.0, 0.0, 0.0, 0.0, 0.0, 0.0, 0.0, 0.0, 0.0, 0.0, 0.0, 0.0, 0.0, 0.0, 0.0, 0.0, 0.0, 0.0, 0.0, 0.0, 0.0, 0.0, 0.0, 0.0, 0.0, 0.0, 0.0, 0.0, 0.0, 0.0, 0.0, 0.0, 0.0, 0.0, 1.0, 0.0, 0.0, 0.0, 0.0, 0.0, 0.0, 0.0, 0.0, 0.0, 0.0, 0.0, 0.0, 0.0, 0.0, 0.0, 0.0, 0.0, 0.0, 0.0, 0.0, 0.0, 0.0, 0.0, 0.0, 0.0, 0.0, 0.0, 0.0, 0.0, 0.0, 0.0, 0.0, 0.0, 0.0, 0.0, 0.0, 0.0, 0.0, 0.0, 0.0, 0.0, 0.0, 0.0, 0.0, 0.0, 0.0, 0.0, 0.0, 0.0, 0.0, 0.0, 0.0, 0.0, 0.0, 0.0, 0.0, 0.0, 0.0, 0.0, 0.0, 0.0, 0.0, 0.0, 0.0, 0.0, 0.0, 0.0, 0.0, 0.0, 0.0, 0.0, 0.0, 0.0, 0.0, 0.0, 0.0, 0.0, 0.0, 0.0, 0.0, 0.0, 0.0, 0.0, 0.0, 0.0, 0.0, 0.0, 0.0, 0.0, 0.0, 0.0, 0.0, 0.0, 0.0, 0.0, 0.0, 0.0, 0.0, 0.0, 0.0, 0.0, 0.0, 0.0, 0.0, 0.0, 0.0, 0.0, 0.0, 0.0, 0.0, 0.0, 0.0, 0.0, 0.0, 0.0, 0.0, 0.0, 0.0, 0.0, 0.0, 0.0, 0.0, 0.0, 0.0, 0.0, 0.0, 0.0, 0.0, 0.0, 0.0, 0.0, 0.0, 0.0, 0.0, 0.0, 0.0, 0.0, 0.0, 0.0, 0.0, 0.0, 0.0, 0.0, 0.0, 0.0, 0.0, 0.0, 0.0, 0.0, 0.0, 0.0, 0.0, 0.0, 0.0, 0.0, 0.0, 0.0, 0.0, 0.0, 0.0, 0.0, 0.0, 0.0, 0.0, 0.0, 0.0, 0.0, 0.0, 0.0, 0.0, 0.0, 0.0, 0.0, 1.0, 0.0, 0.0, 0.0, 0.0, 0.0, 0.0, 0.0, 0.0, 0.0, 0.0, 0.0, 0.0, 0.0, 0.0, 0.0, 0.0, 0.0, 0.0, 0.0, 0.0, 0.0, 0.0, 0.0, 0.0, 0.0, 0.0, 0.0, 0.0, 0.0, 0.0, 0.0, 0.0, 0.0, 0.0, 0.0, 0.0, 0.0, 0.0, 0.0, 0.0, 0.0, 0.0, 0.0, 0.0, 0.0, 0.0, 0.0, 0.0, 0.0, 0.0, 0.0, 0.0, 0.0, 0.0, 0.0, 0.0, 0.0, 0.0, 0.0, 0.0, 0.0, 0.0, 0.0, 0.0, 0.0, 0.0, 0.0, 0.0, 0.0, 0.0, 0.0, 0.0, 0.0, 0.0, 0.0, 0.0, 0.0, 0.0, 0.0, 0.0, 0.0, 0.0, 0.0, 0.0, 0.0, 0.0, 0.0, 0.0, 0.0, 0.0, 0.0, 0.0, 0.0, 0.0, 0.0, 0.0, 0.0, 0.0, 0.0, 0.0, 0.0, 0.0, 0.0, 0.0, 0.0, 0.0, 0.0, 0.0, 0.0, 0.0, 0.0, 0.0, 0.0, 0.0, 0.0, 0.0, 0.0, 0.0, 0.0, 0.0, 0.0, 0.0, 0.0, 0.0, 0.0, 0.0, 0.0, 0.0, 0.0, 0.0, 0.0, 0.0, 0.0, 0.0, 0.0, 0.0, 0.0, 0.0, 0.0, 0.0, 0.0, 0.0, 0.0, 0.0, 0.0, 0.0, 0.0, 0.0, 0.0, 0.0, 0.0, 0.0, 0.0, 0.0, 0.0, 0.0, 0.0, 0.0, 0.0, 0.0, 0.0, 0.0, 0.0, 0.0, 0.0, 0.0, 0.0, 0.0, 0.0, 0.0, 0.0, 0.0, 0.0, 0.0, 0.0, 0.0, 0.0, 0.0, 0.0, 0.0, 0.0, 0.0, 0.0, 0.0, 0.0, 0.0, 0.0, 0.0, 0.0, 0.0, 0.0, 0.0, 0.0, 0.0, 0.0, 0.0, 0.0, 0.0, 0.0, 0.0, 0.0, 0.0, 0.0, 0.0, 0.0, 0.0, 0.0, 0.0, 0.0, 0.0, 0.0, 0.0, 0.0, 0.0, 0.0, 0.0, 0.0, 0.0, 0.0, 0.0, 0.0, 0.0, 0.0, 0.0, 0.0, 0.0, 0.0, 0.0, 0.0, 0.0, 0.0, 0.0, 0.0, 0.0, 0.0, 0.0, 0.0, 0.0, 0.0, 0.0, 0.0, 0.0, 0.0, 0.0, 0.0, 0.0, 0.0, 0.0, 0.0, 0.0, 0.0, 0.0, 0.0, 0.0, 0.0, 0.0, 0.0, 0.0, 0.0, 0.0, 0.0, 0.0, 0.0, 0.0, 0.0, 0.0, 0.0, 0.0, 0.0, 0.0, 0.0, 0.0, 0.0, 0.0, 0.0, 0.0, 0.0, 0.0, 0.0, 0.0, 0.0, 0.0, 0.0, 0.0, 0.0])\n",
            "(12320779, [1.0, 0.0, 0.0, 0.0, 1.0, 0.0, 1.0, 0.0, 0.0, 0.0, 0.0, 0.0, 0.0, 1.0, 1.0, 0.0, 0.0, 0.0, 0.0, 0.0, 0.0, 0.0, 0.0, 0.0, 0.0, 0.0, 0.0, 0.0, 0.0, 0.0, 0.0, 0.0, 0.0, 0.0, 0.0, 0.0, 0.0, 0.0, 0.0, 0.0, 0.0, 0.0, 0.0, 0.0, 0.0, 0.0, 1.0, 0.0, 0.0, 0.0, 0.0, 0.0, 1.0, 0.0, 0.0, 0.0, 0.0, 0.0, 0.0, 0.0, 0.0, 1.0, 0.0, 0.0, 0.0, 0.0, 0.0, 0.0, 0.0, 0.0, 0.0, 0.0, 0.0, 0.0, 0.0, 1.0, 0.0, 0.0, 0.0, 0.0, 0.0, 0.0, 0.0, 0.0, 0.0, 0.0, 0.0, 0.0, 0.0, 0.0, 0.0, 0.0, 0.0, 0.0, 0.0, 0.0, 0.0, 0.0, 0.0, 0.0, 0.0, 0.0, 0.0, 0.0, 0.0, 0.0, 0.0, 0.0, 0.0, 0.0, 0.0, 0.0, 0.0, 0.0, 0.0, 0.0, 0.0, 0.0, 0.0, 0.0, 0.0, 0.0, 0.0, 0.0, 0.0, 0.0, 0.0, 0.0, 0.0, 0.0, 0.0, 0.0, 0.0, 0.0, 0.0, 0.0, 0.0, 0.0, 0.0, 0.0, 0.0, 0.0, 0.0, 0.0, 0.0, 0.0, 1.0, 0.0, 0.0, 0.0, 0.0, 0.0, 0.0, 0.0, 0.0, 0.0, 0.0, 0.0, 0.0, 0.0, 0.0, 0.0, 0.0, 0.0, 0.0, 0.0, 0.0, 0.0, 0.0, 0.0, 0.0, 0.0, 0.0, 0.0, 0.0, 0.0, 0.0, 0.0, 0.0, 1.0, 0.0, 0.0, 0.0, 0.0, 0.0, 0.0, 0.0, 0.0, 0.0, 0.0, 0.0, 0.0, 0.0, 0.0, 0.0, 0.0, 0.0, 0.0, 0.0, 0.0, 0.0, 0.0, 0.0, 0.0, 0.0, 0.0, 0.0, 0.0, 0.0, 0.0, 0.0, 0.0, 0.0, 0.0, 0.0, 0.0, 0.0, 0.0, 0.0, 0.0, 0.0, 0.0, 0.0, 0.0, 0.0, 0.0, 0.0, 0.0, 0.0, 0.0, 0.0, 0.0, 0.0, 0.0, 0.0, 0.0, 0.0, 0.0, 0.0, 0.0, 0.0, 0.0, 0.0, 0.0, 0.0, 0.0, 0.0, 0.0, 0.0, 0.0, 0.0, 0.0, 0.0, 0.0, 0.0, 0.0, 0.0, 0.0, 0.0, 0.0, 0.0, 0.0, 0.0, 0.0, 0.0, 0.0, 0.0, 0.0, 0.0, 0.0, 0.0, 0.0, 0.0, 0.0, 0.0, 0.0, 0.0, 0.0, 0.0, 0.0, 0.0, 0.0, 0.0, 0.0, 0.0, 0.0, 0.0, 0.0, 0.0, 0.0, 0.0, 0.0, 0.0, 0.0, 0.0, 0.0, 0.0, 0.0, 0.0, 0.0, 0.0, 0.0, 0.0, 0.0, 0.0, 0.0, 0.0, 0.0, 0.0, 0.0, 0.0, 0.0, 0.0, 0.0, 0.0, 0.0, 0.0, 0.0, 0.0, 0.0, 0.0, 0.0, 0.0, 0.0, 0.0, 0.0, 0.0, 0.0, 0.0, 0.0, 0.0, 0.0, 0.0, 0.0, 0.0, 0.0, 0.0, 0.0, 0.0, 0.0, 0.0, 0.0, 0.0, 0.0, 0.0, 0.0, 0.0, 0.0, 0.0, 0.0, 0.0, 0.0, 0.0, 0.0, 0.0, 0.0, 0.0, 0.0, 0.0, 0.0, 0.0, 0.0, 0.0, 0.0, 0.0, 0.0, 0.0, 0.0, 0.0, 0.0, 0.0, 0.0, 0.0, 0.0, 0.0, 0.0, 0.0, 0.0, 0.0, 0.0, 0.0, 0.0, 0.0, 0.0, 0.0, 0.0, 0.0, 0.0, 0.0, 0.0, 0.0, 0.0, 0.0, 0.0, 0.0, 0.0, 0.0, 0.0, 0.0, 0.0, 0.0, 0.0, 0.0, 0.0, 0.0, 0.0, 0.0, 0.0, 0.0, 0.0, 0.0, 0.0, 0.0, 0.0, 0.0, 0.0, 0.0, 0.0, 0.0, 0.0, 0.0, 0.0, 0.0, 0.0, 0.0, 0.0, 0.0, 0.0, 0.0, 0.0, 0.0, 0.0, 0.0, 0.0, 0.0, 0.0, 0.0, 0.0, 0.0, 0.0, 0.0, 0.0, 1.0, 0.0, 0.0, 0.0, 0.0, 0.0, 0.0, 0.0, 0.0, 0.0, 0.0, 0.0, 0.0, 0.0, 0.0, 0.0, 0.0, 0.0, 0.0, 0.0, 0.0, 0.0, 0.0, 0.0, 0.0, 0.0, 0.0, 0.0, 0.0, 0.0, 0.0, 0.0, 0.0, 0.0, 0.0, 0.0, 0.0, 0.0, 0.0, 0.0, 0.0, 0.0, 0.0, 0.0, 0.0, 0.0, 0.0, 0.0, 0.0, 0.0, 0.0, 0.0, 0.0, 0.0, 0.0, 0.0, 0.0, 0.0, 0.0, 0.0, 0.0, 0.0, 0.0, 0.0, 0.0, 0.0, 0.0, 0.0, 0.0, 0.0, 0.0, 0.0, 0.0, 0.0, 0.0, 0.0, 0.0, 0.0, 0.0, 0.0, 0.0, 0.0, 0.0, 0.0, 0.0, 0.0, 0.0, 0.0, 0.0, 0.0, 0.0, 0.0, 0.0, 0.0, 0.0, 0.0, 0.0, 0.0, 0.0, 0.0, 0.0, 1.0, 0.0, 0.0, 0.0, 0.0, 0.0, 0.0, 0.0, 0.0, 0.0, 0.0, 0.0, 0.0, 0.0, 0.0, 0.0, 0.0, 0.0, 0.0, 0.0, 0.0, 0.0, 0.0, 0.0, 0.0, 0.0, 0.0, 0.0, 0.0, 0.0, 0.0, 0.0, 0.0, 0.0, 0.0, 0.0, 0.0, 0.0, 0.0, 0.0, 0.0, 1.0, 0.0, 0.0, 0.0, 0.0, 0.0, 0.0, 0.0, 0.0, 0.0, 0.0, 0.0, 0.0, 0.0, 0.0, 0.0, 0.0, 0.0, 0.0, 0.0, 0.0, 0.0, 0.0, 0.0, 0.0, 0.0, 0.0, 0.0, 0.0, 0.0, 0.0, 0.0, 0.0, 0.0, 0.0, 0.0, 0.0, 0.0, 0.0, 0.0, 0.0, 0.0, 0.0, 0.0, 0.0, 0.0, 0.0, 0.0, 0.0, 0.0, 0.0, 0.0, 0.0, 0.0, 0.0, 0.0, 0.0, 0.0, 0.0, 0.0, 0.0, 0.0, 0.0, 0.0, 0.0, 0.0, 0.0, 0.0, 0.0, 0.0, 0.0, 0.0, 0.0, 0.0, 0.0, 0.0, 0.0, 0.0, 0.0, 0.0, 0.0, 0.0, 0.0, 0.0, 0.0, 0.0, 0.0, 0.0, 0.0, 0.0, 0.0, 0.0, 0.0, 0.0, 0.0, 0.0, 0.0, 0.0, 0.0, 0.0, 0.0, 0.0, 0.0, 0.0, 0.0, 0.0, 0.0, 0.0, 0.0, 0.0, 0.0, 0.0, 0.0, 0.0, 0.0, 0.0, 0.0, 0.0, 0.0, 0.0, 0.0, 0.0, 0.0, 0.0, 0.0, 0.0, 0.0, 0.0, 0.0, 0.0, 0.0, 0.0, 0.0, 0.0, 0.0, 0.0, 0.0, 0.0, 0.0, 0.0, 0.0, 0.0, 0.0, 0.0, 0.0, 0.0, 0.0, 0.0, 0.0, 0.0, 0.0, 0.0, 0.0, 0.0, 0.0, 0.0, 0.0, 0.0, 0.0, 0.0, 0.0, 0.0, 0.0, 0.0, 0.0, 0.0, 0.0, 0.0, 0.0, 0.0, 0.0, 0.0, 0.0, 0.0, 0.0, 0.0, 0.0, 0.0, 0.0, 0.0, 0.0, 0.0, 0.0, 0.0, 0.0, 0.0, 0.0, 0.0, 0.0, 0.0, 0.0, 0.0, 0.0, 0.0, 0.0, 0.0, 0.0, 0.0, 0.0, 0.0, 0.0, 0.0, 0.0, 0.0, 0.0, 0.0, 0.0, 0.0, 0.0, 0.0, 0.0, 0.0, 0.0, 0.0, 0.0, 0.0, 0.0, 0.0, 0.0, 0.0, 0.0, 0.0, 0.0, 0.0, 0.0, 0.0, 0.0, 0.0, 0.0, 0.0, 0.0, 0.0, 0.0, 0.0, 0.0, 0.0, 0.0, 0.0, 0.0, 0.0, 0.0, 0.0, 0.0, 0.0, 0.0, 0.0, 0.0, 0.0, 0.0, 0.0, 0.0, 0.0, 0.0, 0.0, 0.0, 0.0, 0.0, 0.0, 0.0, 0.0, 0.0, 0.0, 0.0, 0.0, 0.0, 0.0, 0.0, 0.0, 0.0, 0.0, 0.0, 0.0, 0.0, 0.0, 0.0, 0.0, 0.0, 0.0, 0.0, 0.0, 0.0, 0.0, 0.0, 0.0, 0.0, 0.0, 0.0, 0.0, 0.0, 0.0, 0.0, 0.0, 0.0, 0.0, 0.0, 0.0, 0.0, 0.0, 0.0, 0.0, 0.0, 0.0, 0.0, 0.0, 0.0, 0.0, 0.0, 0.0, 0.0, 0.0, 0.0, 0.0, 0.0, 0.0, 0.0, 0.0, 0.0, 0.0, 0.0, 0.0, 0.0, 0.0, 0.0, 0.0, 0.0, 0.0, 0.0, 0.0, 0.0, 0.0, 0.0, 0.0, 0.0, 0.0, 0.0, 0.0, 0.0, 0.0, 0.0, 0.0, 0.0, 0.0, 0.0, 0.0, 0.0, 0.0, 0.0, 0.0, 0.0, 0.0, 0.0, 0.0, 0.0, 0.0, 0.0, 0.0, 0.0, 0.0, 0.0, 0.0, 0.0, 0.0, 0.0, 0.0, 0.0, 0.0, 0.0, 0.0, 0.0, 0.0, 0.0, 0.0, 0.0, 0.0, 0.0, 0.0, 0.0, 0.0, 0.0, 0.0, 0.0, 0.0, 0.0, 0.0, 0.0, 0.0, 0.0, 0.0, 0.0, 0.0, 0.0, 0.0, 0.0, 0.0, 0.0, 0.0, 0.0, 0.0, 0.0, 0.0, 0.0, 0.0, 0.0, 0.0, 0.0, 0.0, 0.0, 0.0, 0.0, 0.0, 0.0, 0.0, 0.0, 0.0, 0.0, 0.0, 0.0])\n",
            "(8650765, [0.0, 0.0, 0.0, 0.0, 0.0, 0.0, 0.0, 0.0, 0.0, 0.0, 0.0, 0.0, 0.0, 0.0, 0.0, 0.0, 0.0, 0.0, 0.0, 0.0, 0.0, 0.0, 0.0, 0.0, 0.0, 0.0, 0.0, 0.0, 0.0, 0.0, 0.0, 0.0, 0.0, 0.0, 0.0, 0.0, 0.0, 0.0, 0.0, 0.0, 0.0, 0.0, 0.0, 0.0, 0.0, 0.0, 0.0, 0.0, 0.0, 0.0, 0.0, 0.0, 0.0, 0.0, 0.0, 0.0, 0.0, 0.0, 0.0, 0.0, 0.0, 0.0, 0.0, 0.0, 0.0, 0.0, 0.0, 0.0, 0.0, 0.0, 0.0, 0.0, 0.0, 0.0, 0.0, 0.0, 0.0, 0.0, 0.0, 0.0, 0.0, 0.0, 0.0, 0.0, 0.0, 0.0, 0.0, 0.0, 0.0, 0.0, 0.0, 0.0, 0.0, 0.0, 0.0, 0.0, 0.0, 0.0, 0.0, 0.0, 0.0, 0.0, 0.0, 0.0, 0.0, 0.0, 0.0, 0.0, 0.0, 0.0, 0.0, 0.0, 0.0, 0.0, 0.0, 0.0, 0.0, 0.0, 0.0, 0.0, 0.0, 0.0, 0.0, 0.0, 0.0, 0.0, 0.0, 0.0, 0.0, 0.0, 0.0, 0.0, 0.0, 0.0, 0.0, 0.0, 0.0, 0.0, 0.0, 0.0, 0.0, 0.0, 0.0, 0.0, 0.0, 0.0, 0.0, 0.0, 0.0, 0.0, 0.0, 0.0, 0.0, 0.0, 0.0, 0.0, 0.0, 0.0, 0.0, 0.0, 0.0, 0.0, 0.0, 0.0, 0.0, 0.0, 0.0, 0.0, 0.0, 0.0, 0.0, 0.0, 0.0, 0.0, 0.0, 0.0, 0.0, 0.0, 0.0, 0.0, 0.0, 0.0, 0.0, 0.0, 0.0, 0.0, 0.0, 0.0, 0.0, 0.0, 0.0, 0.0, 0.0, 0.0, 0.0, 0.0, 0.0, 0.0, 0.0, 0.0, 0.0, 0.0, 0.0, 0.0, 0.0, 0.0, 0.0, 0.0, 0.0, 0.0, 0.0, 0.0, 0.0, 0.0, 0.0, 0.0, 0.0, 0.0, 0.0, 0.0, 0.0, 0.0, 0.0, 0.0, 0.0, 0.0, 0.0, 0.0, 0.0, 0.0, 0.0, 0.0, 0.0, 0.0, 0.0, 0.0, 0.0, 0.0, 0.0, 0.0, 0.0, 0.0, 0.0, 0.0, 0.0, 0.0, 0.0, 0.0, 0.0, 0.0, 0.0, 0.0, 0.0, 0.0, 0.0, 0.0, 0.0, 0.0, 0.0, 0.0, 0.0, 0.0, 0.0, 0.0, 0.0, 0.0, 0.0, 0.0, 0.0, 0.0, 0.0, 0.0, 0.0, 0.0, 0.0, 0.0, 0.0, 0.0, 0.0, 0.0, 0.0, 0.0, 0.0, 0.0, 0.0, 0.0, 0.0, 0.0, 0.0, 0.0, 0.0, 0.0, 0.0, 0.0, 0.0, 0.0, 0.0, 0.0, 0.0, 0.0, 0.0, 0.0, 0.0, 0.0, 0.0, 0.0, 0.0, 0.0, 0.0, 0.0, 0.0, 0.0, 0.0, 0.0, 0.0, 0.0, 0.0, 0.0, 0.0, 0.0, 0.0, 0.0, 0.0, 0.0, 0.0, 0.0, 0.0, 0.0, 0.0, 0.0, 0.0, 0.0, 0.0, 0.0, 0.0, 0.0, 0.0, 0.0, 0.0, 0.0, 0.0, 0.0, 0.0, 0.0, 0.0, 0.0, 0.0, 0.0, 0.0, 0.0, 0.0, 0.0, 0.0, 0.0, 0.0, 0.0, 0.0, 0.0, 0.0, 0.0, 0.0, 0.0, 0.0, 0.0, 0.0, 0.0, 0.0, 0.0, 0.0, 0.0, 0.0, 0.0, 0.0, 0.0, 0.0, 0.0, 0.0, 0.0, 0.0, 0.0, 0.0, 0.0, 0.0, 0.0, 0.0, 0.0, 0.0, 0.0, 0.0, 0.0, 0.0, 0.0, 0.0, 0.0, 0.0, 0.0, 0.0, 0.0, 0.0, 0.0, 0.0, 0.0, 0.0, 0.0, 0.0, 0.0, 0.0, 0.0, 0.0, 0.0, 0.0, 0.0, 0.0, 0.0, 0.0, 0.0, 0.0, 0.0, 0.0, 0.0, 0.0, 0.0, 0.0, 0.0, 0.0, 0.0, 0.0, 0.0, 0.0, 0.0, 0.0, 0.0, 0.0, 0.0, 0.0, 0.0, 0.0, 0.0, 0.0, 0.0, 0.0, 0.0, 0.0, 0.0, 0.0, 0.0, 0.0, 0.0, 0.0, 0.0, 0.0, 0.0, 0.0, 0.0, 0.0, 0.0, 0.0, 0.0, 0.0, 0.0, 0.0, 0.0, 0.0, 0.0, 0.0, 0.0, 0.0, 0.0, 0.0, 0.0, 0.0, 0.0, 0.0, 0.0, 0.0, 0.0, 0.0, 0.0, 0.0, 0.0, 0.0, 0.0, 0.0, 0.0, 0.0, 0.0, 0.0, 0.0, 0.0, 0.0, 0.0, 0.0, 0.0, 0.0, 0.0, 0.0, 0.0, 0.0, 0.0, 0.0, 0.0, 0.0, 0.0, 0.0, 0.0, 0.0, 0.0, 0.0, 0.0, 0.0, 0.0, 0.0, 0.0, 0.0, 0.0, 0.0, 0.0, 0.0, 0.0, 0.0, 0.0, 0.0, 0.0, 0.0, 0.0, 0.0, 0.0, 0.0, 0.0, 0.0, 0.0, 0.0, 0.0, 0.0, 0.0, 0.0, 0.0, 0.0, 0.0, 0.0, 0.0, 0.0, 0.0, 0.0, 0.0, 0.0, 0.0, 0.0, 0.0, 0.0, 0.0, 0.0, 0.0, 0.0, 0.0, 0.0, 0.0, 0.0, 0.0, 0.0, 0.0, 0.0, 0.0, 0.0, 0.0, 0.0, 0.0, 0.0, 0.0, 0.0, 0.0, 0.0, 0.0, 0.0, 0.0, 0.0, 0.0, 0.0, 0.0, 0.0, 0.0, 0.0, 0.0, 0.0, 0.0, 0.0, 0.0, 0.0, 0.0, 0.0, 0.0, 0.0, 0.0, 0.0, 0.0, 0.0, 0.0, 0.0, 0.0, 0.0, 0.0, 0.0, 0.0, 0.0, 0.0, 0.0, 0.0, 0.0, 0.0, 0.0, 0.0, 0.0, 0.0, 0.0, 0.0, 0.0, 0.0, 0.0, 0.0, 0.0, 0.0, 0.0, 0.0, 0.0, 0.0, 0.0, 0.0, 0.0, 0.0, 0.0, 0.0, 0.0, 0.0, 0.0, 0.0, 0.0, 0.0, 0.0, 0.0, 0.0, 0.0, 0.0, 0.0, 0.0, 0.0, 0.0, 0.0, 0.0, 0.0, 0.0, 0.0, 0.0, 0.0, 0.0, 0.0, 0.0, 0.0, 0.0, 0.0, 0.0, 0.0, 0.0, 0.0, 0.0, 0.0, 0.0, 0.0, 0.0, 0.0, 0.0, 0.0, 0.0, 0.0, 0.0, 0.0, 0.0, 0.0, 0.0, 0.0, 0.0, 0.0, 0.0, 0.0, 0.0, 0.0, 0.0, 0.0, 0.0, 0.0, 0.0, 0.0, 0.0, 0.0, 0.0, 0.0, 0.0, 0.0, 0.0, 0.0, 0.0, 0.0, 0.0, 0.0, 0.0, 0.0, 0.0, 0.0, 0.0, 0.0, 0.0, 0.0, 0.0, 0.0, 0.0, 0.0, 0.0, 0.0, 0.0, 0.0, 0.0, 0.0, 0.0, 0.0, 0.0, 0.0, 0.0, 0.0, 0.0, 0.0, 0.0, 0.0, 0.0, 0.0, 0.0, 0.0, 0.0, 0.0, 0.0, 0.0, 0.0, 0.0, 0.0, 0.0, 0.0, 0.0, 0.0, 0.0, 0.0, 0.0, 0.0, 0.0, 0.0, 0.0, 0.0, 0.0, 0.0, 0.0, 0.0, 0.0, 0.0, 0.0, 0.0, 0.0, 0.0, 0.0, 0.0, 0.0, 0.0, 0.0, 0.0, 0.0, 0.0, 0.0, 0.0, 0.0, 0.0, 0.0, 0.0, 0.0, 0.0, 0.0, 0.0, 0.0, 0.0, 0.0, 0.0, 0.0, 0.0, 0.0, 0.0, 0.0, 0.0, 0.0, 0.0, 0.0, 0.0, 0.0, 0.0, 0.0, 0.0, 0.0, 0.0, 0.0, 0.0, 0.0, 0.0, 0.0, 0.0, 0.0, 0.0, 0.0, 0.0, 0.0, 0.0, 0.0, 0.0, 0.0, 0.0, 0.0, 0.0, 0.0, 0.0, 0.0, 0.0, 0.0, 0.0, 0.0, 0.0, 0.0, 0.0, 0.0, 0.0, 0.0, 0.0, 0.0, 0.0, 0.0, 0.0, 0.0, 0.0, 0.0, 0.0, 0.0, 0.0, 0.0, 0.0, 0.0, 0.0, 0.0, 0.0, 0.0, 0.0, 0.0, 0.0, 0.0, 0.0, 0.0, 0.0, 0.0, 0.0, 0.0, 0.0, 0.0, 0.0, 0.0, 0.0, 0.0, 0.0, 0.0, 0.0, 0.0, 0.0, 0.0, 0.0, 0.0, 0.0, 0.0, 0.0, 0.0, 0.0, 0.0, 0.0, 0.0, 0.0, 0.0, 0.0, 0.0, 0.0, 0.0, 0.0, 0.0, 0.0, 0.0, 0.0, 0.0, 0.0, 0.0, 0.0, 0.0, 0.0, 0.0, 0.0, 0.0, 0.0, 0.0, 0.0, 0.0, 0.0, 0.0, 0.0, 0.0, 0.0, 0.0, 0.0, 0.0, 0.0, 0.0, 0.0, 0.0, 0.0, 0.0, 0.0, 0.0, 0.0, 0.0, 0.0, 0.0, 0.0, 0.0, 0.0, 0.0, 0.0, 0.0, 0.0, 0.0, 0.0, 0.0, 0.0, 0.0, 0.0, 0.0, 0.0, 0.0, 0.0, 0.0, 0.0, 0.0, 0.0, 0.0, 0.0, 0.0, 0.0, 0.0, 0.0, 0.0, 0.0, 0.0, 0.0, 0.0, 0.0, 0.0, 0.0, 0.0, 0.0, 0.0, 0.0, 0.0, 0.0, 0.0, 0.0, 0.0, 0.0, 0.0, 0.0, 0.0, 0.0, 0.0, 0.0, 0.0, 0.0, 0.0, 0.0, 0.0, 0.0, 0.0, 0.0, 0.0, 0.0, 0.0, 0.0, 0.0, 0.0, 0.0, 0.0, 0.0, 0.0, 0.0, 0.0, 0.0, 0.0, 1.0])\n",
            "(12845070, [0.0, 0.0, 0.0, 0.0, 0.0, 0.0, 0.0, 0.0, 0.0, 0.0, 0.0, 0.0, 0.0, 0.0, 0.0, 0.0, 0.0, 0.0, 0.0, 0.0, 0.0, 0.0, 0.0, 0.0, 0.0, 0.0, 0.0, 0.0, 0.0, 0.0, 0.0, 0.0, 0.0, 0.0, 0.0, 0.0, 0.0, 0.0, 0.0, 0.0, 0.0, 0.0, 0.0, 0.0, 0.0, 0.0, 0.0, 0.0, 0.0, 0.0, 0.0, 0.0, 0.0, 0.0, 0.0, 0.0, 0.0, 0.0, 0.0, 0.0, 0.0, 0.0, 0.0, 0.0, 0.0, 0.0, 0.0, 0.0, 0.0, 0.0, 0.0, 0.0, 0.0, 0.0, 0.0, 0.0, 0.0, 0.0, 0.0, 0.0, 0.0, 0.0, 0.0, 0.0, 0.0, 0.0, 0.0, 0.0, 0.0, 0.0, 0.0, 0.0, 0.0, 0.0, 0.0, 0.0, 0.0, 0.0, 0.0, 0.0, 0.0, 0.0, 0.0, 0.0, 0.0, 0.0, 0.0, 0.0, 0.0, 0.0, 0.0, 0.0, 0.0, 0.0, 0.0, 0.0, 0.0, 0.0, 0.0, 0.0, 0.0, 0.0, 0.0, 0.0, 0.0, 0.0, 0.0, 0.0, 0.0, 0.0, 0.0, 0.0, 0.0, 0.0, 0.0, 0.0, 0.0, 0.0, 0.0, 0.0, 0.0, 0.0, 0.0, 0.0, 0.0, 0.0, 0.0, 0.0, 0.0, 0.0, 0.0, 0.0, 0.0, 0.0, 0.0, 0.0, 0.0, 0.0, 0.0, 0.0, 0.0, 0.0, 0.0, 0.0, 0.0, 0.0, 0.0, 0.0, 0.0, 0.0, 0.0, 0.0, 0.0, 0.0, 0.0, 0.0, 0.0, 0.0, 0.0, 0.0, 0.0, 0.0, 0.0, 0.0, 0.0, 0.0, 0.0, 0.0, 0.0, 0.0, 0.0, 0.0, 0.0, 0.0, 0.0, 0.0, 0.0, 0.0, 0.0, 0.0, 0.0, 0.0, 0.0, 0.0, 0.0, 0.0, 0.0, 0.0, 0.0, 0.0, 0.0, 0.0, 0.0, 0.0, 0.0, 0.0, 0.0, 0.0, 0.0, 0.0, 0.0, 0.0, 0.0, 0.0, 0.0, 0.0, 0.0, 0.0, 0.0, 0.0, 0.0, 0.0, 0.0, 0.0, 0.0, 0.0, 0.0, 0.0, 0.0, 0.0, 0.0, 0.0, 0.0, 0.0, 0.0, 0.0, 0.0, 0.0, 0.0, 0.0, 0.0, 0.0, 0.0, 0.0, 0.0, 0.0, 0.0, 0.0, 0.0, 0.0, 0.0, 0.0, 0.0, 0.0, 0.0, 0.0, 0.0, 0.0, 0.0, 0.0, 0.0, 0.0, 0.0, 0.0, 0.0, 0.0, 0.0, 0.0, 0.0, 0.0, 0.0, 0.0, 0.0, 0.0, 0.0, 0.0, 0.0, 0.0, 0.0, 0.0, 0.0, 0.0, 0.0, 0.0, 0.0, 0.0, 0.0, 0.0, 0.0, 0.0, 0.0, 0.0, 0.0, 0.0, 0.0, 0.0, 0.0, 0.0, 0.0, 0.0, 0.0, 0.0, 0.0, 0.0, 0.0, 0.0, 0.0, 0.0, 0.0, 0.0, 0.0, 0.0, 0.0, 0.0, 0.0, 0.0, 0.0, 0.0, 0.0, 0.0, 0.0, 0.0, 0.0, 0.0, 0.0, 0.0, 0.0, 0.0, 0.0, 0.0, 0.0, 0.0, 0.0, 0.0, 0.0, 0.0, 0.0, 0.0, 0.0, 0.0, 0.0, 0.0, 0.0, 0.0, 0.0, 0.0, 0.0, 0.0, 0.0, 0.0, 0.0, 0.0, 0.0, 0.0, 0.0, 0.0, 0.0, 0.0, 0.0, 0.0, 0.0, 0.0, 0.0, 0.0, 0.0, 0.0, 0.0, 0.0, 0.0, 0.0, 0.0, 0.0, 0.0, 0.0, 0.0, 0.0, 0.0, 0.0, 0.0, 0.0, 0.0, 0.0, 0.0, 0.0, 0.0, 0.0, 0.0, 0.0, 0.0, 0.0, 0.0, 0.0, 0.0, 0.0, 0.0, 0.0, 0.0, 0.0, 0.0, 0.0, 0.0, 0.0, 0.0, 0.0, 0.0, 0.0, 0.0, 0.0, 0.0, 0.0, 0.0, 0.0, 0.0, 0.0, 0.0, 0.0, 0.0, 0.0, 0.0, 0.0, 0.0, 0.0, 0.0, 0.0, 0.0, 0.0, 0.0, 0.0, 0.0, 0.0, 0.0, 0.0, 0.0, 0.0, 0.0, 0.0, 0.0, 0.0, 0.0, 0.0, 0.0, 0.0, 0.0, 0.0, 0.0, 0.0, 0.0, 0.0, 0.0, 0.0, 0.0, 0.0, 0.0, 0.0, 0.0, 0.0, 0.0, 0.0, 0.0, 0.0, 0.0, 0.0, 0.0, 0.0, 0.0, 0.0, 0.0, 0.0, 0.0, 0.0, 0.0, 0.0, 0.0, 0.0, 0.0, 0.0, 0.0, 0.0, 0.0, 0.0, 0.0, 0.0, 0.0, 0.0, 0.0, 0.0, 0.0, 0.0, 0.0, 0.0, 0.0, 0.0, 0.0, 0.0, 0.0, 0.0, 0.0, 0.0, 0.0, 0.0, 0.0, 0.0, 0.0, 0.0, 0.0, 0.0, 0.0, 0.0, 0.0, 0.0, 0.0, 0.0, 0.0, 0.0, 0.0, 0.0, 0.0, 0.0, 0.0, 0.0, 0.0, 0.0, 0.0, 0.0, 0.0, 0.0, 0.0, 0.0, 0.0, 0.0, 0.0, 0.0, 0.0, 0.0, 0.0, 0.0, 0.0, 0.0, 0.0, 0.0, 0.0, 0.0, 0.0, 0.0, 0.0, 0.0, 0.0, 0.0, 0.0, 0.0, 0.0, 0.0, 0.0, 0.0, 0.0, 0.0, 0.0, 0.0, 0.0, 0.0, 0.0, 0.0, 0.0, 0.0, 0.0, 0.0, 0.0, 0.0, 0.0, 0.0, 0.0, 0.0, 0.0, 0.0, 0.0, 0.0, 0.0, 0.0, 0.0, 0.0, 0.0, 0.0, 0.0, 0.0, 0.0, 0.0, 0.0, 0.0, 0.0, 0.0, 0.0, 0.0, 0.0, 0.0, 0.0, 0.0, 0.0, 0.0, 0.0, 0.0, 0.0, 0.0, 0.0, 0.0, 0.0, 0.0, 0.0, 0.0, 0.0, 0.0, 0.0, 0.0, 0.0, 0.0, 0.0, 0.0, 0.0, 0.0, 0.0, 0.0, 0.0, 0.0, 0.0, 0.0, 0.0, 0.0, 0.0, 0.0, 0.0, 0.0, 0.0, 0.0, 0.0, 0.0, 0.0, 0.0, 0.0, 0.0, 0.0, 0.0, 0.0, 0.0, 0.0, 0.0, 0.0, 0.0, 0.0, 0.0, 0.0, 0.0, 0.0, 0.0, 0.0, 0.0, 0.0, 0.0, 0.0, 0.0, 0.0, 0.0, 0.0, 0.0, 0.0, 0.0, 0.0, 0.0, 0.0, 0.0, 0.0, 0.0, 0.0, 0.0, 0.0, 0.0, 0.0, 0.0, 0.0, 0.0, 0.0, 0.0, 0.0, 0.0, 0.0, 0.0, 0.0, 0.0, 0.0, 0.0, 0.0, 0.0, 0.0, 0.0, 0.0, 0.0, 0.0, 0.0, 0.0, 0.0, 0.0, 0.0, 0.0, 0.0, 0.0, 0.0, 0.0, 0.0, 0.0, 0.0, 0.0, 0.0, 0.0, 0.0, 0.0, 0.0, 0.0, 0.0, 0.0, 0.0, 0.0, 0.0, 0.0, 0.0, 0.0, 0.0, 0.0, 0.0, 0.0, 0.0, 0.0, 0.0, 0.0, 0.0, 0.0, 0.0, 0.0, 0.0, 0.0, 0.0, 0.0, 0.0, 0.0, 0.0, 0.0, 0.0, 0.0, 0.0, 0.0, 0.0, 0.0, 0.0, 0.0, 0.0, 0.0, 0.0, 0.0, 0.0, 0.0, 0.0, 0.0, 0.0, 0.0, 0.0, 0.0, 0.0, 0.0, 0.0, 0.0, 0.0, 0.0, 0.0, 0.0, 0.0, 0.0, 0.0, 0.0, 0.0, 0.0, 0.0, 0.0, 0.0, 0.0, 0.0, 0.0, 0.0, 0.0, 0.0, 0.0, 0.0, 0.0, 0.0, 0.0, 0.0, 0.0, 0.0, 0.0, 0.0, 0.0, 0.0, 0.0, 0.0, 0.0, 0.0, 0.0, 0.0, 0.0, 0.0, 0.0, 0.0, 0.0, 0.0, 0.0, 0.0, 0.0, 0.0, 0.0, 0.0, 0.0, 0.0, 0.0, 0.0, 0.0, 0.0, 0.0, 0.0, 0.0, 0.0, 0.0, 0.0, 0.0, 0.0, 0.0, 0.0, 0.0, 0.0, 0.0, 0.0, 0.0, 0.0, 0.0, 0.0, 0.0, 0.0, 0.0, 0.0, 0.0, 0.0, 0.0, 0.0, 0.0, 0.0, 0.0, 0.0, 0.0, 0.0, 0.0, 0.0, 0.0, 0.0, 0.0, 0.0, 0.0, 0.0, 0.0, 0.0, 0.0, 0.0, 0.0, 0.0, 0.0, 0.0, 0.0, 0.0, 0.0, 0.0, 0.0, 0.0, 0.0, 0.0, 0.0, 0.0, 0.0, 0.0, 0.0, 0.0, 0.0, 0.0, 0.0, 0.0, 0.0, 0.0, 0.0, 0.0, 0.0, 0.0, 0.0, 0.0, 0.0, 0.0, 0.0, 0.0, 0.0, 0.0, 0.0, 0.0, 0.0, 0.0, 0.0, 0.0, 0.0, 0.0, 0.0, 0.0, 0.0, 0.0, 0.0, 0.0, 0.0, 0.0, 0.0, 0.0, 0.0, 0.0, 0.0, 0.0, 0.0, 0.0, 0.0, 0.0, 0.0, 0.0, 0.0, 0.0, 0.0, 0.0, 0.0, 0.0, 0.0, 0.0, 0.0, 0.0, 0.0, 0.0, 0.0, 0.0, 0.0, 0.0, 0.0, 0.0, 0.0, 0.0, 0.0, 0.0, 0.0, 0.0, 0.0, 0.0, 0.0, 0.0, 0.0, 0.0, 0.0, 0.0, 0.0, 0.0, 0.0, 0.0, 0.0, 0.0, 0.0, 0.0, 0.0, 0.0, 0.0, 0.0, 0.0, 0.0, 0.0, 0.0, 0.0, 0.0, 0.0, 0.0, 0.0, 0.0, 0.0, 0.0, 0.0, 0.0, 0.0, 0.0, 1.0])\n",
            "(115343382, [0.0, 0.0, 0.0, 0.0, 0.0, 0.0, 0.0, 0.0, 0.0, 0.0, 0.0, 0.0, 0.0, 0.0, 0.0, 0.0, 0.0, 0.0, 0.0, 0.0, 0.0, 0.0, 0.0, 0.0, 0.0, 0.0, 0.0, 0.0, 0.0, 0.0, 0.0, 0.0, 0.0, 0.0, 0.0, 0.0, 0.0, 0.0, 0.0, 0.0, 0.0, 0.0, 0.0, 0.0, 0.0, 0.0, 0.0, 0.0, 0.0, 0.0, 0.0, 0.0, 0.0, 0.0, 0.0, 0.0, 0.0, 0.0, 0.0, 0.0, 0.0, 0.0, 0.0, 0.0, 0.0, 0.0, 0.0, 0.0, 0.0, 0.0, 0.0, 0.0, 0.0, 0.0, 0.0, 0.0, 0.0, 0.0, 0.0, 0.0, 0.0, 0.0, 0.0, 0.0, 0.0, 0.0, 0.0, 0.0, 0.0, 0.0, 0.0, 0.0, 0.0, 0.0, 0.0, 0.0, 0.0, 0.0, 0.0, 0.0, 0.0, 0.0, 0.0, 0.0, 0.0, 0.0, 0.0, 0.0, 0.0, 0.0, 0.0, 0.0, 0.0, 0.0, 0.0, 0.0, 0.0, 0.0, 0.0, 0.0, 0.0, 0.0, 0.0, 0.0, 0.0, 0.0, 0.0, 0.0, 0.0, 0.0, 0.0, 0.0, 0.0, 0.0, 0.0, 0.0, 0.0, 0.0, 0.0, 0.0, 0.0, 0.0, 0.0, 0.0, 0.0, 0.0, 0.0, 0.0, 0.0, 0.0, 0.0, 0.0, 0.0, 0.0, 0.0, 0.0, 0.0, 0.0, 0.0, 0.0, 0.0, 0.0, 0.0, 0.0, 0.0, 0.0, 0.0, 0.0, 0.0, 0.0, 0.0, 0.0, 0.0, 0.0, 0.0, 0.0, 0.0, 0.0, 0.0, 0.0, 0.0, 0.0, 0.0, 0.0, 0.0, 0.0, 0.0, 0.0, 0.0, 0.0, 0.0, 0.0, 0.0, 0.0, 0.0, 0.0, 0.0, 0.0, 0.0, 0.0, 0.0, 0.0, 0.0, 0.0, 0.0, 0.0, 0.0, 0.0, 0.0, 0.0, 0.0, 0.0, 0.0, 0.0, 0.0, 0.0, 0.0, 0.0, 0.0, 0.0, 0.0, 0.0, 0.0, 0.0, 0.0, 0.0, 0.0, 0.0, 0.0, 0.0, 0.0, 0.0, 0.0, 0.0, 0.0, 0.0, 0.0, 0.0, 0.0, 0.0, 0.0, 0.0, 0.0, 0.0, 0.0, 0.0, 0.0, 0.0, 0.0, 0.0, 0.0, 0.0, 0.0, 0.0, 0.0, 0.0, 0.0, 0.0, 0.0, 0.0, 0.0, 0.0, 0.0, 0.0, 0.0, 0.0, 0.0, 0.0, 0.0, 0.0, 0.0, 0.0, 0.0, 0.0, 0.0, 0.0, 0.0, 0.0, 0.0, 0.0, 0.0, 0.0, 0.0, 0.0, 0.0, 0.0, 0.0, 0.0, 0.0, 0.0, 0.0, 0.0, 0.0, 0.0, 0.0, 0.0, 0.0, 0.0, 0.0, 0.0, 0.0, 0.0, 0.0, 0.0, 0.0, 0.0, 0.0, 0.0, 0.0, 0.0, 0.0, 0.0, 0.0, 0.0, 0.0, 0.0, 0.0, 0.0, 0.0, 0.0, 0.0, 0.0, 0.0, 0.0, 0.0, 0.0, 0.0, 0.0, 0.0, 0.0, 0.0, 0.0, 0.0, 0.0, 0.0, 0.0, 0.0, 0.0, 0.0, 0.0, 0.0, 0.0, 0.0, 0.0, 0.0, 0.0, 0.0, 0.0, 0.0, 0.0, 0.0, 0.0, 0.0, 0.0, 0.0, 0.0, 0.0, 0.0, 0.0, 0.0, 0.0, 0.0, 0.0, 0.0, 0.0, 0.0, 0.0, 0.0, 0.0, 0.0, 0.0, 0.0, 0.0, 0.0, 0.0, 0.0, 0.0, 0.0, 0.0, 0.0, 0.0, 0.0, 0.0, 0.0, 0.0, 0.0, 0.0, 0.0, 0.0, 0.0, 0.0, 0.0, 0.0, 0.0, 0.0, 0.0, 0.0, 0.0, 0.0, 0.0, 0.0, 0.0, 0.0, 0.0, 0.0, 0.0, 0.0, 0.0, 0.0, 0.0, 0.0, 0.0, 0.0, 0.0, 0.0, 0.0, 0.0, 0.0, 0.0, 0.0, 0.0, 0.0, 0.0, 0.0, 0.0, 0.0, 0.0, 0.0, 0.0, 0.0, 0.0, 0.0, 0.0, 0.0, 0.0, 0.0, 0.0, 0.0, 0.0, 0.0, 0.0, 0.0, 0.0, 0.0, 0.0, 0.0, 0.0, 0.0, 0.0, 0.0, 0.0, 0.0, 0.0, 0.0, 0.0, 0.0, 0.0, 0.0, 0.0, 0.0, 0.0, 0.0, 0.0, 0.0, 0.0, 0.0, 0.0, 0.0, 0.0, 0.0, 0.0, 0.0, 0.0, 0.0, 0.0, 0.0, 0.0, 0.0, 0.0, 0.0, 0.0, 0.0, 0.0, 0.0, 0.0, 0.0, 0.0, 0.0, 0.0, 0.0, 0.0, 0.0, 0.0, 0.0, 0.0, 0.0, 0.0, 0.0, 0.0, 0.0, 0.0, 0.0, 0.0, 0.0, 0.0, 0.0, 0.0, 0.0, 0.0, 0.0, 0.0, 0.0, 0.0, 0.0, 0.0, 0.0, 0.0, 0.0, 0.0, 0.0, 0.0, 0.0, 0.0, 0.0, 0.0, 0.0, 0.0, 0.0, 0.0, 0.0, 0.0, 0.0, 0.0, 0.0, 0.0, 0.0, 0.0, 0.0, 0.0, 0.0, 0.0, 0.0, 0.0, 0.0, 0.0, 0.0, 0.0, 0.0, 0.0, 0.0, 0.0, 0.0, 0.0, 0.0, 0.0, 0.0, 0.0, 0.0, 0.0, 0.0, 0.0, 0.0, 0.0, 0.0, 0.0, 0.0, 0.0, 0.0, 0.0, 0.0, 0.0, 0.0, 0.0, 0.0, 0.0, 0.0, 0.0, 0.0, 0.0, 0.0, 0.0, 0.0, 0.0, 0.0, 0.0, 0.0, 0.0, 0.0, 0.0, 0.0, 0.0, 0.0, 0.0, 0.0, 0.0, 0.0, 0.0, 0.0, 0.0, 0.0, 0.0, 0.0, 0.0, 0.0, 0.0, 0.0, 0.0, 0.0, 0.0, 0.0, 0.0, 0.0, 0.0, 0.0, 0.0, 0.0, 0.0, 0.0, 0.0, 0.0, 0.0, 0.0, 0.0, 0.0, 0.0, 0.0, 0.0, 0.0, 0.0, 0.0, 0.0, 0.0, 0.0, 0.0, 0.0, 0.0, 0.0, 0.0, 0.0, 0.0, 0.0, 0.0, 0.0, 0.0, 0.0, 0.0, 0.0, 0.0, 0.0, 0.0, 0.0, 0.0, 0.0, 0.0, 0.0, 0.0, 0.0, 0.0, 0.0, 0.0, 0.0, 0.0, 0.0, 0.0, 0.0, 0.0, 0.0, 0.0, 0.0, 0.0, 0.0, 0.0, 0.0, 0.0, 0.0, 0.0, 0.0, 0.0, 0.0, 0.0, 0.0, 0.0, 0.0, 0.0, 0.0, 0.0, 0.0, 0.0, 0.0, 0.0, 0.0, 0.0, 0.0, 0.0, 0.0, 0.0, 0.0, 0.0, 0.0, 0.0, 0.0, 0.0, 0.0, 0.0, 0.0, 0.0, 0.0, 0.0, 0.0, 0.0, 0.0, 0.0, 0.0, 0.0, 0.0, 0.0, 0.0, 0.0, 0.0, 0.0, 0.0, 0.0, 0.0, 0.0, 0.0, 0.0, 0.0, 0.0, 0.0, 0.0, 0.0, 0.0, 0.0, 0.0, 0.0, 0.0, 0.0, 0.0, 0.0, 0.0, 0.0, 0.0, 0.0, 0.0, 0.0, 0.0, 0.0, 0.0, 0.0, 0.0, 0.0, 0.0, 0.0, 0.0, 0.0, 0.0, 0.0, 0.0, 0.0, 0.0, 0.0, 0.0, 0.0, 0.0, 0.0, 0.0, 0.0, 0.0, 0.0, 0.0, 0.0, 0.0, 0.0, 0.0, 0.0, 0.0, 0.0, 0.0, 0.0, 0.0, 0.0, 0.0, 0.0, 0.0, 0.0, 0.0, 0.0, 0.0, 0.0, 0.0, 0.0, 0.0, 0.0, 0.0, 0.0, 0.0, 0.0, 0.0, 0.0, 0.0, 0.0, 0.0, 0.0, 0.0, 0.0, 0.0, 0.0, 0.0, 0.0, 0.0, 0.0, 0.0, 0.0, 0.0, 0.0, 0.0, 0.0, 0.0, 0.0, 0.0, 0.0, 0.0, 0.0, 0.0, 0.0, 0.0, 0.0, 0.0, 0.0, 0.0, 0.0, 0.0, 0.0, 0.0, 0.0, 0.0, 0.0, 0.0, 0.0, 0.0, 0.0, 0.0, 0.0, 0.0, 0.0, 0.0, 0.0, 0.0, 0.0, 0.0, 0.0, 0.0, 0.0, 0.0, 0.0, 0.0, 0.0, 0.0, 0.0, 0.0, 0.0, 0.0, 0.0, 0.0, 0.0, 0.0, 0.0, 0.0, 0.0, 0.0, 0.0, 0.0, 0.0, 0.0, 0.0, 0.0, 0.0, 0.0, 0.0, 0.0, 0.0, 0.0, 0.0, 0.0, 0.0, 0.0, 0.0, 0.0, 0.0, 0.0, 0.0, 0.0, 0.0, 0.0, 0.0, 0.0, 0.0, 0.0, 0.0, 0.0, 0.0, 0.0, 0.0, 0.0, 0.0, 0.0, 0.0, 0.0, 0.0, 0.0, 0.0, 0.0, 0.0, 0.0, 0.0, 0.0, 0.0, 0.0, 0.0, 0.0, 0.0, 0.0, 0.0, 0.0, 0.0, 0.0, 0.0, 0.0, 0.0, 0.0, 0.0, 0.0, 0.0, 0.0, 0.0, 0.0, 0.0, 0.0, 0.0, 0.0, 0.0, 0.0, 0.0, 0.0, 0.0, 0.0, 0.0, 0.0, 0.0, 0.0, 0.0, 0.0, 0.0, 0.0, 0.0, 0.0, 0.0, 0.0, 0.0, 0.0, 0.0, 0.0, 0.0, 0.0, 0.0, 0.0, 0.0, 0.0, 0.0, 0.0, 0.0, 0.0, 0.0, 0.0, 0.0, 0.0, 0.0, 0.0, 0.0, 0.0, 0.0, 0.0, 0.0, 0.0, 0.0, 0.0, 0.0, 0.0, 0.0, 0.0, 0.0, 0.0, 0.0, 0.0, 0.0, 0.0, 0.0, 0.0, 0.0, 0.0, 1.0])\n",
            "(17563671, [0.0, 0.0, 0.0, 0.0, 0.0, 0.0, 0.0, 0.0, 0.0, 0.0, 0.0, 0.0, 0.0, 0.0, 0.0, 0.0, 0.0, 0.0, 0.0, 0.0, 0.0, 0.0, 0.0, 0.0, 0.0, 0.0, 0.0, 0.0, 0.0, 0.0, 0.0, 0.0, 0.0, 0.0, 0.0, 0.0, 0.0, 0.0, 0.0, 0.0, 0.0, 0.0, 0.0, 0.0, 0.0, 0.0, 0.0, 0.0, 0.0, 0.0, 0.0, 0.0, 0.0, 0.0, 0.0, 0.0, 0.0, 0.0, 0.0, 0.0, 0.0, 0.0, 0.0, 0.0, 0.0, 0.0, 0.0, 0.0, 0.0, 0.0, 0.0, 0.0, 0.0, 0.0, 0.0, 0.0, 0.0, 0.0, 0.0, 0.0, 0.0, 0.0, 0.0, 0.0, 0.0, 0.0, 0.0, 0.0, 0.0, 0.0, 0.0, 0.0, 0.0, 0.0, 0.0, 0.0, 0.0, 0.0, 0.0, 0.0, 0.0, 0.0, 0.0, 0.0, 0.0, 0.0, 0.0, 0.0, 0.0, 0.0, 0.0, 0.0, 0.0, 0.0, 0.0, 0.0, 0.0, 0.0, 0.0, 0.0, 0.0, 0.0, 0.0, 0.0, 0.0, 0.0, 0.0, 0.0, 0.0, 0.0, 0.0, 0.0, 0.0, 0.0, 0.0, 0.0, 0.0, 0.0, 0.0, 0.0, 0.0, 0.0, 0.0, 0.0, 0.0, 0.0, 0.0, 0.0, 0.0, 0.0, 0.0, 0.0, 0.0, 0.0, 0.0, 0.0, 0.0, 0.0, 0.0, 0.0, 0.0, 0.0, 0.0, 0.0, 0.0, 0.0, 0.0, 0.0, 0.0, 0.0, 0.0, 0.0, 0.0, 0.0, 0.0, 0.0, 0.0, 0.0, 0.0, 0.0, 0.0, 0.0, 0.0, 0.0, 0.0, 0.0, 0.0, 0.0, 0.0, 0.0, 0.0, 0.0, 0.0, 0.0, 0.0, 0.0, 0.0, 0.0, 0.0, 0.0, 0.0, 0.0, 0.0, 0.0, 0.0, 0.0, 0.0, 0.0, 0.0, 0.0, 0.0, 0.0, 0.0, 0.0, 0.0, 0.0, 0.0, 0.0, 0.0, 0.0, 0.0, 0.0, 0.0, 0.0, 0.0, 0.0, 0.0, 0.0, 0.0, 0.0, 0.0, 0.0, 0.0, 0.0, 0.0, 0.0, 0.0, 0.0, 0.0, 0.0, 0.0, 0.0, 0.0, 0.0, 0.0, 0.0, 0.0, 0.0, 0.0, 0.0, 0.0, 0.0, 0.0, 0.0, 0.0, 0.0, 0.0, 0.0, 0.0, 0.0, 0.0, 0.0, 0.0, 0.0, 0.0, 0.0, 0.0, 0.0, 0.0, 0.0, 0.0, 0.0, 0.0, 0.0, 0.0, 0.0, 0.0, 0.0, 0.0, 0.0, 0.0, 0.0, 0.0, 0.0, 0.0, 0.0, 0.0, 0.0, 0.0, 0.0, 0.0, 0.0, 0.0, 0.0, 0.0, 0.0, 0.0, 0.0, 0.0, 0.0, 0.0, 0.0, 0.0, 0.0, 0.0, 0.0, 0.0, 0.0, 0.0, 0.0, 0.0, 0.0, 0.0, 0.0, 0.0, 0.0, 0.0, 0.0, 0.0, 0.0, 0.0, 0.0, 0.0, 0.0, 0.0, 0.0, 0.0, 0.0, 0.0, 0.0, 0.0, 0.0, 0.0, 0.0, 0.0, 0.0, 0.0, 0.0, 0.0, 0.0, 0.0, 0.0, 0.0, 0.0, 0.0, 0.0, 0.0, 0.0, 0.0, 0.0, 0.0, 0.0, 0.0, 0.0, 0.0, 0.0, 0.0, 0.0, 0.0, 0.0, 0.0, 0.0, 0.0, 0.0, 0.0, 0.0, 0.0, 0.0, 0.0, 0.0, 0.0, 0.0, 0.0, 0.0, 0.0, 0.0, 0.0, 0.0, 0.0, 0.0, 0.0, 0.0, 0.0, 0.0, 0.0, 0.0, 0.0, 0.0, 0.0, 0.0, 0.0, 0.0, 0.0, 0.0, 0.0, 0.0, 0.0, 0.0, 0.0, 0.0, 0.0, 0.0, 0.0, 0.0, 0.0, 0.0, 0.0, 0.0, 0.0, 0.0, 0.0, 0.0, 0.0, 0.0, 0.0, 0.0, 0.0, 0.0, 0.0, 0.0, 0.0, 0.0, 0.0, 0.0, 0.0, 0.0, 0.0, 0.0, 0.0, 0.0, 0.0, 0.0, 0.0, 0.0, 0.0, 0.0, 0.0, 0.0, 0.0, 0.0, 0.0, 0.0, 0.0, 0.0, 0.0, 0.0, 0.0, 0.0, 0.0, 0.0, 0.0, 0.0, 0.0, 0.0, 0.0, 0.0, 0.0, 0.0, 0.0, 0.0, 0.0, 0.0, 0.0, 0.0, 0.0, 0.0, 0.0, 0.0, 0.0, 0.0, 0.0, 0.0, 0.0, 0.0, 0.0, 0.0, 0.0, 0.0, 0.0, 0.0, 0.0, 0.0, 0.0, 0.0, 0.0, 0.0, 0.0, 0.0, 0.0, 0.0, 0.0, 0.0, 0.0, 0.0, 0.0, 0.0, 0.0, 0.0, 0.0, 0.0, 0.0, 0.0, 0.0, 0.0, 0.0, 0.0, 0.0, 0.0, 0.0, 0.0, 0.0, 0.0, 0.0, 0.0, 0.0, 0.0, 0.0, 0.0, 0.0, 0.0, 0.0, 0.0, 0.0, 0.0, 0.0, 0.0, 0.0, 0.0, 0.0, 0.0, 0.0, 0.0, 0.0, 0.0, 0.0, 0.0, 0.0, 0.0, 0.0, 0.0, 0.0, 0.0, 0.0, 0.0, 0.0, 0.0, 0.0, 0.0, 0.0, 0.0, 0.0, 0.0, 0.0, 0.0, 0.0, 0.0, 0.0, 0.0, 0.0, 0.0, 0.0, 0.0, 0.0, 0.0, 0.0, 0.0, 0.0, 0.0, 0.0, 0.0, 0.0, 0.0, 0.0, 0.0, 0.0, 0.0, 0.0, 0.0, 0.0, 0.0, 0.0, 0.0, 0.0, 0.0, 0.0, 0.0, 0.0, 0.0, 0.0, 0.0, 0.0, 0.0, 0.0, 0.0, 0.0, 0.0, 0.0, 0.0, 0.0, 0.0, 0.0, 0.0, 0.0, 0.0, 0.0, 0.0, 0.0, 0.0, 0.0, 0.0, 0.0, 0.0, 0.0, 0.0, 0.0, 0.0, 0.0, 0.0, 0.0, 0.0, 0.0, 0.0, 0.0, 0.0, 0.0, 0.0, 0.0, 0.0, 0.0, 0.0, 0.0, 0.0, 0.0, 0.0, 0.0, 0.0, 0.0, 0.0, 0.0, 0.0, 0.0, 0.0, 0.0, 0.0, 0.0, 0.0, 0.0, 0.0, 0.0, 0.0, 0.0, 0.0, 0.0, 0.0, 0.0, 0.0, 0.0, 0.0, 0.0, 0.0, 0.0, 0.0, 0.0, 0.0, 0.0, 0.0, 0.0, 0.0, 0.0, 0.0, 0.0, 0.0, 0.0, 0.0, 0.0, 0.0, 0.0, 0.0, 0.0, 0.0, 0.0, 0.0, 0.0, 0.0, 0.0, 0.0, 0.0, 0.0, 0.0, 0.0, 0.0, 0.0, 0.0, 0.0, 0.0, 0.0, 0.0, 0.0, 0.0, 0.0, 0.0, 0.0, 0.0, 0.0, 0.0, 0.0, 0.0, 0.0, 0.0, 0.0, 0.0, 0.0, 0.0, 0.0, 0.0, 0.0, 0.0, 0.0, 0.0, 0.0, 0.0, 0.0, 0.0, 0.0, 0.0, 0.0, 0.0, 0.0, 0.0, 0.0, 0.0, 0.0, 0.0, 0.0, 0.0, 0.0, 0.0, 0.0, 0.0, 0.0, 0.0, 0.0, 0.0, 0.0, 0.0, 0.0, 0.0, 0.0, 0.0, 0.0, 0.0, 0.0, 0.0, 0.0, 0.0, 0.0, 0.0, 0.0, 0.0, 0.0, 0.0, 0.0, 0.0, 0.0, 0.0, 0.0, 0.0, 0.0, 0.0, 0.0, 0.0, 0.0, 0.0, 0.0, 0.0, 0.0, 0.0, 0.0, 0.0, 0.0, 0.0, 0.0, 0.0, 0.0, 0.0, 0.0, 0.0, 0.0, 0.0, 0.0, 0.0, 0.0, 0.0, 0.0, 0.0, 0.0, 0.0, 0.0, 0.0, 0.0, 0.0, 0.0, 0.0, 0.0, 0.0, 0.0, 0.0, 0.0, 0.0, 0.0, 0.0, 0.0, 0.0, 0.0, 0.0, 0.0, 0.0, 0.0, 0.0, 0.0, 0.0, 0.0, 0.0, 0.0, 0.0, 0.0, 0.0, 0.0, 0.0, 0.0, 0.0, 0.0, 0.0, 0.0, 0.0, 0.0, 0.0, 0.0, 0.0, 0.0, 0.0, 0.0, 0.0, 0.0, 0.0, 0.0, 0.0, 0.0, 0.0, 0.0, 0.0, 0.0, 0.0, 0.0, 0.0, 0.0, 0.0, 0.0, 0.0, 0.0, 0.0, 0.0, 0.0, 0.0, 0.0, 0.0, 0.0, 0.0, 0.0, 0.0, 0.0, 0.0, 0.0, 0.0, 0.0, 0.0, 0.0, 0.0, 0.0, 0.0, 0.0, 0.0, 0.0, 0.0, 0.0, 0.0, 0.0, 0.0, 0.0, 0.0, 0.0, 0.0, 0.0, 0.0, 0.0, 0.0, 0.0, 0.0, 0.0, 0.0, 0.0, 0.0, 0.0, 0.0, 0.0, 0.0, 0.0, 0.0, 0.0, 0.0, 0.0, 0.0, 0.0, 0.0, 0.0, 0.0, 0.0, 0.0, 0.0, 0.0, 0.0, 0.0, 0.0, 0.0, 0.0, 0.0, 0.0, 0.0, 0.0, 0.0, 0.0, 0.0, 0.0, 0.0, 0.0, 0.0, 0.0, 0.0, 0.0, 0.0, 0.0, 0.0, 0.0, 0.0, 0.0, 0.0, 0.0, 0.0, 0.0, 0.0, 0.0, 0.0, 0.0, 0.0, 0.0, 0.0, 0.0, 0.0, 0.0, 0.0, 0.0, 0.0, 0.0, 0.0, 0.0, 0.0, 0.0, 0.0, 0.0, 0.0, 0.0, 0.0, 0.0, 0.0, 0.0, 0.0, 0.0, 0.0, 0.0, 0.0, 0.0, 0.0, 0.0, 0.0, 0.0, 0.0, 0.0, 0.0, 0.0, 0.0, 0.0, 0.0, 0.0, 0.0, 0.0, 0.0, 0.0, 0.0, 0.0, 0.0, 1.0])\n"
          ]
        }
      ],
      "source": [
        "ct=0\n",
        "for m in valueZero:\n",
        "    print(m,valueZero[m])\n",
        "    if ct>5:\n",
        "        break\n",
        "    ct+=1"
      ]
    },
    {
      "cell_type": "code",
      "execution_count": null,
      "metadata": {
        "id": "1YVTvucbLbxH"
      },
      "outputs": [],
      "source": []
    },
    {
      "cell_type": "code",
      "execution_count": null,
      "metadata": {
        "id": "gjx5mc7VLbxH",
        "outputId": "3ce93c44-8e8e-4ca0-d977-06605e60103a"
      },
      "outputs": [
        {
          "data": {
            "text/plain": [
              "(125927, 125927)"
            ]
          },
          "execution_count": 108,
          "metadata": {},
          "output_type": "execute_result"
        }
      ],
      "source": [
        "len(list(valueZero.keys())),len(list(mtagsCommon.keys()))"
      ]
    },
    {
      "cell_type": "code",
      "execution_count": null,
      "metadata": {
        "id": "EWQrvS8iLbxH"
      },
      "outputs": [],
      "source": [
        "m"
      ]
    },
    {
      "cell_type": "code",
      "execution_count": null,
      "metadata": {
        "id": "KfCHY5boLbxI"
      },
      "outputs": [],
      "source": []
    },
    {
      "cell_type": "markdown",
      "metadata": {
        "id": "_8D1_YkKLbxI"
      },
      "source": [
        "## creating event duration vectors from common events"
      ]
    },
    {
      "cell_type": "code",
      "execution_count": null,
      "metadata": {
        "id": "gzvTJ5ykLbxI"
      },
      "outputs": [],
      "source": [
        "## Here I create a dict of common event and event place id\n",
        "common_eventDuration={}\n",
        "for i in common:\n",
        "    common_eventDuration[i]=e_duration[i]"
      ]
    },
    {
      "cell_type": "code",
      "execution_count": null,
      "metadata": {
        "id": "U0XdTWOyLbxI",
        "outputId": "cc456705-06e2-4845-d2ad-3669df7e975e"
      },
      "outputs": [
        {
          "data": {
            "text/plain": [
              "115571"
            ]
          },
          "execution_count": 48,
          "metadata": {},
          "output_type": "execute_result"
        }
      ],
      "source": [
        "len(common_eventDuration)"
      ]
    },
    {
      "cell_type": "code",
      "execution_count": null,
      "metadata": {
        "id": "6du02xbBLbxI",
        "outputId": "727b5ed7-5821-4ecb-ebf1-2303039986d3"
      },
      "outputs": [
        {
          "data": {
            "text/plain": [
              "115571"
            ]
          },
          "execution_count": 49,
          "metadata": {},
          "output_type": "execute_result"
        }
      ],
      "source": [
        "#making e_time of common events\n",
        "new_et={}\n",
        "for m in common:\n",
        "    new_et[m]=int(et[m])\n",
        "len(new_et)"
      ]
    },
    {
      "cell_type": "code",
      "execution_count": null,
      "metadata": {
        "id": "U4sIkxHWLbxJ"
      },
      "outputs": [],
      "source": [
        "import datetime\n",
        "for m in new_et:\n",
        "    s= (new_et[m]) / 1000.0\n",
        "    new_et[m]=(datetime.datetime.fromtimestamp(s).strftime('%Y-%m-%d %H:%M:%S.%f'))"
      ]
    },
    {
      "cell_type": "code",
      "execution_count": null,
      "metadata": {
        "id": "1k-gtRSjLbxJ",
        "outputId": "c8fb9f1b-b0bc-4f1b-b6a0-bc81c080fbfc"
      },
      "outputs": [
        {
          "name": "stdout",
          "output_type": "stream",
          "text": [
            "(u'qwbvpkysmbdc', '2014-09-23 05:00:00.000000')\n",
            "(u'225522343', '2015-09-27 05:30:00.000000')\n",
            "(u'170374282', '2014-06-21 21:30:00.000000')\n",
            "(u'dvcrlgyrnbqb', '2013-10-12 20:00:00.000000')\n",
            "(u'thqsclysqbvb', '2014-12-17 05:30:00.000000')\n",
            "(u'dwldlgysfbzb', '2014-03-20 05:00:00.000000')\n",
            "(u'dtlcxjytcbfb', '2015-01-04 00:30:00.000000')\n",
            "(u'qlbbhhysgbcb', '2014-04-02 05:30:00.000000')\n",
            "(u'192062632', '2014-07-28 00:30:00.000000')\n",
            "(u'qmpxfgysdbnb', '2014-02-11 06:30:00.000000')\n",
            "(u'dwldlgytjbnb', '2015-06-11 05:00:00.000000')\n",
            "(u'dlzvbfyrcbtb', '2013-01-15 23:30:00.000000')\n"
          ]
        }
      ],
      "source": [
        "ct=0\n",
        "for m in new_et:\n",
        "    print(m,new_et[m])\n",
        "    if ct>10:\n",
        "        break\n",
        "    ct+=1"
      ]
    },
    {
      "cell_type": "code",
      "execution_count": null,
      "metadata": {
        "id": "53oOjG13LbxJ"
      },
      "outputs": [],
      "source": [
        "from datetime import datetime\n",
        "\n",
        "# Convert each date in the data to a datetime object and sort based on the date\n",
        "sorted_data = sorted(new_et.items(), key=lambda x: datetime.strptime(x[1], '%Y-%m-%d %H:%M:%S.%f'))\n",
        "\n",
        "# Convert the sorted tuples back to a dictionary\n",
        "sorted_dict = dict(sorted_data)\n",
        "\n",
        "#print(sorted_dict)\n"
      ]
    },
    {
      "cell_type": "code",
      "execution_count": null,
      "metadata": {
        "id": "fvZMLN43LbxJ",
        "outputId": "c29e4e10-16e4-4d68-a0c1-4ca2345a5a13"
      },
      "outputs": [
        {
          "data": {
            "text/plain": [
              "list"
            ]
          },
          "execution_count": 56,
          "metadata": {},
          "output_type": "execute_result"
        }
      ],
      "source": [
        "type(sorted_data)"
      ]
    },
    {
      "cell_type": "code",
      "execution_count": null,
      "metadata": {
        "id": "CPAW44GCLbxK"
      },
      "outputs": [],
      "source": [
        "sorted_data=[sorted_data[i][0] for i in range(len(sorted_data))]"
      ]
    },
    {
      "cell_type": "code",
      "execution_count": null,
      "metadata": {
        "id": "BBYNM5sWLbxK",
        "outputId": "2d4131da-f600-4a52-919f-cda2f149b588"
      },
      "outputs": [
        {
          "name": "stdout",
          "output_type": "stream",
          "text": [
            "1\n"
          ]
        }
      ],
      "source": [
        "if sorted(sorted_data)==sorted(list(new_et.keys())):\n",
        "    print(1)"
      ]
    },
    {
      "cell_type": "code",
      "execution_count": null,
      "metadata": {
        "id": "6GBVU5aLLbxK",
        "outputId": "fe514da8-cf5f-4d9d-ae76-fe1acdc5ef08"
      },
      "outputs": [
        {
          "name": "stdout",
          "output_type": "stream",
          "text": [
            "61700742\n",
            "qcwdpcyqhbqb\n",
            "dmjgwcyqhbqb\n",
            "62051942\n",
            "60865242\n",
            "64377012\n",
            "63862642\n",
            "43257942\n",
            "64337002\n",
            "62475382\n",
            "64379022\n",
            "61196172\n"
          ]
        }
      ],
      "source": [
        "ct=0\n",
        "for m in sorted_data:\n",
        "    print(m)\n",
        "    if ct>10:\n",
        "        break\n",
        "    ct+=1"
      ]
    },
    {
      "cell_type": "code",
      "execution_count": null,
      "metadata": {
        "id": "R7-a_uG1LbxK"
      },
      "outputs": [],
      "source": [
        "##Here I save the list to json with maintaining the order\n",
        "import json\n",
        "from collections import OrderedDict\n",
        "\n",
        "# Sample list\n",
        "#my_list = ['apple', 'banana', 'orange', 'grape']\n",
        "\n",
        "# Convert list to an ordered dictionary to maintain order\n",
        "ordered_dict = OrderedDict((str(i), item) for i, item in enumerate(sorted_data))\n",
        "\n",
        "# Write the ordered dictionary to a JSON file while preserving order\n",
        "with open('ordered_events.json', 'w') as f:\n",
        "    json.dump(ordered_dict, f, indent=2)"
      ]
    },
    {
      "cell_type": "code",
      "execution_count": null,
      "metadata": {
        "id": "uJS8_lwCLbxK"
      },
      "outputs": [],
      "source": []
    },
    {
      "cell_type": "code",
      "execution_count": null,
      "metadata": {
        "id": "-CA-yMbcLbxK"
      },
      "outputs": [],
      "source": []
    },
    {
      "cell_type": "code",
      "execution_count": null,
      "metadata": {
        "id": "gi8gHhSwLbxK",
        "outputId": "0704d0b3-b024-44e0-ed90-9b709e8d6160"
      },
      "outputs": [
        {
          "name": "stdout",
          "output_type": "stream",
          "text": [
            "[(u'dvcrlgyrnbqb', '2013-10-12 20:00:00.000000'), (u'dwldlgysfbzb', '2014-03-20 05:00:00.000000'), (u'170374282', '2014-06-21 21:30:00.000000'), (u'qwbvpkysmbdc', '2014-09-23 05:00:00.000000'), (u'thqsclysqbvb', '2014-12-17 05:30:00.000000'), (u'dtlcxjytcbfb', '2015-01-04 00:30:00.000000'), (u'225522343', '2015-09-27 05:30:00.000000')]\n"
          ]
        }
      ],
      "source": [
        "from datetime import datetime\n",
        "\n",
        "data = {\n",
        "    (u'qwbvpkysmbdc', '2014-09-23 05:00:00.000000'),\n",
        "    (u'225522343', '2015-09-27 05:30:00.000000'),\n",
        "    (u'170374282', '2014-06-21 21:30:00.000000'),\n",
        "    (u'dvcrlgyrnbqb', '2013-10-12 20:00:00.000000'),\n",
        "    (u'thqsclysqbvb', '2014-12-17 05:30:00.000000'),\n",
        "    (u'dwldlgysfbzb', '2014-03-20 05:00:00.000000'),\n",
        "    (u'dtlcxjytcbfb', '2015-01-04 00:30:00.000000')\n",
        "}\n",
        "\n",
        "# Convert each date in the data to a datetime object and sort based on the date\n",
        "sorted_data = sorted(data, key=lambda x: datetime.strptime(x[1], '%Y-%m-%d %H:%M:%S.%f'))\n",
        "sorted_dict = {item[0]: item[1] for item in sorted_data}\n",
        "print(sorted_data)"
      ]
    },
    {
      "cell_type": "code",
      "execution_count": null,
      "metadata": {
        "id": "58cK5MCoLbxK",
        "outputId": "b11f78b9-d59f-4a0f-fa71-725a060373cb"
      },
      "outputs": [
        {
          "name": "stdout",
          "output_type": "stream",
          "text": [
            "(u'qwbvpkysmbdc', 1.0)\n",
            "(u'225522343', 6.0)\n",
            "(u'170374282', 6.0)\n",
            "(u'dvcrlgyrnbqb', 1.0)\n",
            "(u'thqsclysqbvb', 1.0)\n",
            "(u'dwldlgysfbzb', 2.0)\n",
            "(u'dtlcxjytcbfb', 6.0)\n"
          ]
        }
      ],
      "source": [
        "ct=0\n",
        "for m in common_eventDuration:\n",
        "    print(m,common_eventDuration[m])\n",
        "    if ct>5:\n",
        "        break\n",
        "    ct+=1"
      ]
    },
    {
      "cell_type": "code",
      "execution_count": null,
      "metadata": {
        "id": "3KOEldhPLbxL",
        "outputId": "dcb4542a-a0c1-4d20-8ed3-d1fd3449a056"
      },
      "outputs": [
        {
          "name": "stdout",
          "output_type": "stream",
          "text": [
            "1\n"
          ]
        }
      ],
      "source": [
        "if list(new_et.keys())==list(common_eventDuration.keys()):\n",
        "    print(1)"
      ]
    },
    {
      "cell_type": "code",
      "execution_count": null,
      "metadata": {
        "id": "urcnzk1tLbxL"
      },
      "outputs": [],
      "source": [
        "k={}\n",
        "for m in new_et:\n",
        "    k[m]=[0]*48"
      ]
    },
    {
      "cell_type": "code",
      "execution_count": null,
      "metadata": {
        "id": "0wUjPSm_LbxL"
      },
      "outputs": [],
      "source": [
        "from datetime import datetime\n",
        "for m in k:\n",
        "    date_string = new_et[m]\n",
        "    date_format = '%Y-%m-%d %H:%M:%S.%f'\n",
        "    datetime_obj = datetime.strptime(date_string, date_format)\n",
        "    weekday = datetime_obj.weekday()\n",
        "    hour = int(datetime_obj.strftime('%H'))\n",
        "\n",
        "    if weekday < 5:\n",
        "        if int(common_eventDuration[m])==0:\n",
        "            k[m][hour]=1\n",
        "        elif 24<int(common_eventDuration[m])<=120:\n",
        "            for i in range(24):\n",
        "                k[m][i]=1\n",
        "        elif int(common_eventDuration[m])>120:\n",
        "            for i in range(48):\n",
        "                k[m][i]=1\n",
        "\n",
        "        else:\n",
        "            for i in range(int(common_eventDuration[m])+1):\n",
        "                if hour<24:\n",
        "                    k[m][hour]=1\n",
        "                    hour+=1\n",
        "                else:\n",
        "                    #print(m)\n",
        "                    #print(hour-24)\n",
        "                    k[m][hour-24]=1\n",
        "                    hour+=1\n",
        "\n",
        "\n",
        "    else:  # 5 Sat, 6 Sun\n",
        "        if int(common_eventDuration[m])==0:\n",
        "            k[m][hour]=1\n",
        "        elif 24<int(common_eventDuration[m])<=48:\n",
        "            for i in range(24):\n",
        "                k[m][i]=1\n",
        "        elif int(common_eventDuration[m])>48:\n",
        "            for i in range(48):\n",
        "                k[m][i]=1\n",
        "        else:\n",
        "            for i in range(int(common_eventDuration[m])+1):\n",
        "                if hour<24:\n",
        "                    k[m][hour+24]=1\n",
        "                    hour+=1\n",
        "                else:\n",
        "                    k[m][48-hour]=1\n",
        "                    hour+=1"
      ]
    },
    {
      "cell_type": "code",
      "execution_count": null,
      "metadata": {
        "id": "cLYTNKiELbxL",
        "outputId": "dc61e6b6-e22d-4250-89b8-fdca9b82ec48"
      },
      "outputs": [
        {
          "name": "stdout",
          "output_type": "stream",
          "text": [
            "220669348\n",
            "qwbvpkysmbdc\n"
          ]
        }
      ],
      "source": [
        "ct=0\n",
        "for m in common_eventDuration:\n",
        "    #print(m,new_e_duration[m])\n",
        "    if common_eventDuration[m]>120:\n",
        "        print(m)\n",
        "        break\n",
        "for m in common_eventDuration:\n",
        "    #print(m,new_e_duration[m])\n",
        "    if common_eventDuration[m]<24:\n",
        "        print(m)\n",
        "        break"
      ]
    },
    {
      "cell_type": "code",
      "execution_count": null,
      "metadata": {
        "id": "0DHL6bWQLbxL",
        "outputId": "01b31111-a025-495f-9823-72752b047fb4"
      },
      "outputs": [
        {
          "name": "stdout",
          "output_type": "stream",
          "text": [
            "('the time is', '2014-09-23 05:00:00.000000')\n",
            "('duration is', 1.0)\n",
            "[0, 0, 0, 0, 0, 1, 1, 0, 0, 0, 0, 0, 0, 0, 0, 0, 0, 0, 0, 0, 0, 0, 0, 0, 0, 0, 0, 0, 0, 0, 0, 0, 0, 0, 0, 0, 0, 0, 0, 0, 0, 0, 0, 0, 0, 0, 0, 0]\n",
            "('day of the week', 1)\n"
          ]
        }
      ],
      "source": [
        "print(\"the time is\",new_et[u'qwbvpkysmbdc'])\n",
        "print(\"duration is\", common_eventDuration[u'qwbvpkysmbdc'])\n",
        "\n",
        "print(k[u'qwbvpkysmbdc'])\n",
        "date_string = new_et[u'qwbvpkysmbdc']\n",
        "date_format = '%Y-%m-%d %H:%M:%S.%f'\n",
        "datetime_obj = datetime.strptime(date_string, date_format)\n",
        "weekday = datetime_obj.weekday()\n",
        "print(\"day of the week\",weekday)"
      ]
    },
    {
      "cell_type": "markdown",
      "metadata": {
        "id": "d0Q09UyyLbxL"
      },
      "source": [
        "## Here we get time vectors"
      ]
    },
    {
      "cell_type": "code",
      "execution_count": null,
      "metadata": {
        "id": "ewldlCr_LbxL",
        "outputId": "957472db-4cda-4594-f68e-26a92b9dc7fb"
      },
      "outputs": [
        {
          "name": "stdout",
          "output_type": "stream",
          "text": [
            "(u'225522343', [0, 0, 0, 0, 0, 0, 0, 0, 0, 0, 0, 0, 0, 0, 0, 0, 0, 0, 0, 0, 0, 0, 0, 0, 0, 0, 0, 0, 0, 1, 1, 1, 1, 1, 1, 1, 0, 0, 0, 0, 0, 0, 0, 0, 0, 0, 0, 0])\n",
            "(u'170374282', [0, 0, 0, 0, 0, 0, 0, 0, 0, 0, 0, 0, 0, 0, 0, 0, 0, 0, 0, 0, 0, 1, 1, 1, 1, 0, 0, 0, 0, 0, 0, 0, 0, 0, 0, 0, 0, 0, 0, 0, 0, 0, 0, 0, 0, 1, 1, 1])\n",
            "(u'dvcrlgyrnbqb', [0, 0, 0, 0, 0, 0, 0, 0, 0, 0, 0, 0, 0, 0, 0, 0, 0, 0, 0, 0, 0, 0, 0, 0, 0, 0, 0, 0, 0, 0, 0, 0, 0, 0, 0, 0, 0, 0, 0, 0, 0, 0, 0, 0, 1, 1, 0, 0])\n",
            "(u'thqsclysqbvb', [0, 0, 0, 0, 0, 1, 1, 0, 0, 0, 0, 0, 0, 0, 0, 0, 0, 0, 0, 0, 0, 0, 0, 0, 0, 0, 0, 0, 0, 0, 0, 0, 0, 0, 0, 0, 0, 0, 0, 0, 0, 0, 0, 0, 0, 0, 0, 0])\n",
            "(u'dwldlgysfbzb', [0, 0, 0, 0, 0, 1, 1, 1, 0, 0, 0, 0, 0, 0, 0, 0, 0, 0, 0, 0, 0, 0, 0, 0, 0, 0, 0, 0, 0, 0, 0, 0, 0, 0, 0, 0, 0, 0, 0, 0, 0, 0, 0, 0, 0, 0, 0, 0])\n",
            "(u'dtlcxjytcbfb', [0, 0, 0, 0, 0, 0, 0, 0, 0, 0, 0, 0, 0, 0, 0, 0, 0, 0, 0, 0, 0, 0, 0, 0, 1, 1, 1, 1, 1, 1, 1, 0, 0, 0, 0, 0, 0, 0, 0, 0, 0, 0, 0, 0, 0, 0, 0, 0])\n",
            "(u'qlbbhhysgbcb', [0, 0, 0, 0, 0, 1, 1, 1, 0, 0, 0, 0, 0, 0, 0, 0, 0, 0, 0, 0, 0, 0, 0, 0, 0, 0, 0, 0, 0, 0, 0, 0, 0, 0, 0, 0, 0, 0, 0, 0, 0, 0, 0, 0, 0, 0, 0, 0])\n"
          ]
        }
      ],
      "source": [
        "ct=0\n",
        "for m in k:\n",
        "    print(m,k[m])\n",
        "    if ct>5:\n",
        "        break\n",
        "    ct+=1"
      ]
    },
    {
      "cell_type": "code",
      "execution_count": null,
      "metadata": {
        "id": "lXbl1lQELbxM",
        "outputId": "f1798dca-438d-44e9-94e3-83c879c7c88e"
      },
      "outputs": [
        {
          "data": {
            "text/plain": [
              "115571"
            ]
          },
          "execution_count": 187,
          "metadata": {},
          "output_type": "execute_result"
        }
      ],
      "source": [
        "len(k)"
      ]
    },
    {
      "cell_type": "markdown",
      "metadata": {
        "id": "I7Jt_wmmLbxM"
      },
      "source": [
        "## Now we will find the event tags vector"
      ]
    },
    {
      "cell_type": "code",
      "execution_count": null,
      "metadata": {
        "id": "L8phqXOVLbxM",
        "outputId": "99ffd0a3-abba-4687-eed9-b2c3ad25fc7d"
      },
      "outputs": [
        {
          "data": {
            "text/plain": [
              "115571"
            ]
          },
          "execution_count": 164,
          "metadata": {},
          "output_type": "execute_result"
        }
      ],
      "source": [
        "event_tags={}\n",
        "#ename_CH=pickle.load(open('ename_bhnoda_155_CH','r'))\n",
        "#print(len(ename_CH))\n",
        "for i in range(len(sorted_data)):\n",
        "#for m in sorted_data:\n",
        "    event_tags[sorted_data[i]]=ename_CH[sorted_data[i]]\n",
        "\n",
        "len(event_tags)"
      ]
    },
    {
      "cell_type": "code",
      "execution_count": null,
      "metadata": {
        "id": "MCPpOoryLbxM"
      },
      "outputs": [],
      "source": [
        "#my_dict = {(element):ename_CH[element]  for element in (sorted_data)}"
      ]
    },
    {
      "cell_type": "code",
      "execution_count": null,
      "metadata": {
        "id": "kFI2qex7LbxM",
        "outputId": "950c6dcb-b05a-463f-a183-b435cf98c462"
      },
      "outputs": [
        {
          "data": {
            "text/plain": [
              "[u'pgtkhlytmbfc',\n",
              " u'qztqdhysjbwb',\n",
              " u'dvcrlgyrnbqb',\n",
              " u'thqsclysqbvb',\n",
              " u'dwldlgysfbzb']"
            ]
          },
          "execution_count": 166,
          "metadata": {},
          "output_type": "execute_result"
        }
      ],
      "source": [
        "ename_CH[u'61700742']\n",
        "list(event_tags.keys())[:5]"
      ]
    },
    {
      "cell_type": "code",
      "execution_count": null,
      "metadata": {
        "id": "MGDSncUuLbxM",
        "outputId": "3c7312fd-b067-484d-a861-a5dae03dd0a9"
      },
      "outputs": [
        {
          "name": "stdout",
          "output_type": "stream",
          "text": [
            "[u'61700742', u'qcwdpcyqhbqb', u'dmjgwcyqhbqb', u'62051942', u'60865242']\n",
            "(u'pgtkhlytmbfc', u\"Let's meet and get our groove on,  maybe sweat a little as we go....\")\n",
            "(u'qztqdhysjbwb', u'Pathfinder Adventure Path at The Gaming Goat: Skull Shackles')\n",
            "(u'dvcrlgyrnbqb', u\"Beginner's Meditation Program\")\n",
            "(u'thqsclysqbvb', u'Walk & Talk! (INDOORS).  NEW MEMBER INVITATION NIGHT!')\n"
          ]
        }
      ],
      "source": [
        "ct=0\n",
        "print(sorted_data[:5])\n",
        "for m in event_tags:\n",
        "    print(m,event_tags[m])\n",
        "    if ct>2:\n",
        "        break\n",
        "    ct+=1"
      ]
    },
    {
      "cell_type": "code",
      "execution_count": null,
      "metadata": {
        "id": "XCdXtlhILbxM",
        "outputId": "1e1fe7f0-b4f0-4baa-9e00-f6bb9db3cfaa"
      },
      "outputs": [
        {
          "name": "stderr",
          "output_type": "stream",
          "text": [
            "C:\\Users\\hp\\anaconda3\\envs\\py27\\lib\\site-packages\\bs4\\builder\\_htmlparser.py:78: UserWarning: EOF in middle of entity or char ref\n",
            "  warnings.warn(msg)\n",
            "C:\\Users\\hp\\anaconda3\\envs\\py27\\lib\\site-packages\\bs4\\__init__.py:294: UserWarning: \".\" looks like a filename, not markup. You should probably open this file and pass the filehandle into Beautiful Soup.\n",
            "  ' Beautiful Soup.' % markup)\n"
          ]
        }
      ],
      "source": [
        "from bs4 import BeautifulSoup\n",
        "import re\n",
        "from rake_nltk import Rake\n",
        "r = Rake()\n",
        "ll=[]\n",
        "\n",
        "def remove_links(html):\n",
        "    soup = BeautifulSoup(html, 'html.parser')\n",
        "    # Remove anchor tags\n",
        "    for a in soup.find_all('a'):\n",
        "        a.extract()\n",
        "    # Remove any remaining link-like text\n",
        "    clean_text = re.sub(r'\\b\\w+://\\S+~', '', soup.get_text())\n",
        "    return clean_text\n",
        "def remove_pattern(text, pattern):\n",
        "    cleaned_text = text.replace(pattern, '.')\n",
        "    return cleaned_text\n",
        "def remove_lines_with_pattern(text):\n",
        "    text=re.sub('https?://\\S+|www\\.\\S+','',text)\n",
        "    #text=re.sub('[%s]'%re.escape(string.punctuation),'',text)\n",
        "#     text=[word for word in text.split(' ') if word not in stopword]\n",
        "#     text=\" \".join(text)\n",
        "    return text\n",
        "for m in event_tags:\n",
        "    html_paragraph = event_tags[m]\n",
        "    #pattern = r'Purchase Class: <a href=\".+?\">'\n",
        "    clean_paragraph_0 = remove_links(html_paragraph)\n",
        "    cleaned_paragraph_1 = remove_pattern(clean_paragraph_0, '~~~')\n",
        "    cleaned_paragraph = remove_lines_with_pattern(cleaned_paragraph_1)\n",
        "    text =cleaned_paragraph\n",
        "    r.extract_keywords_from_text(text)\n",
        "    ranked_phrases = r.get_ranked_phrases()[:2]\n",
        "    event_tags[m]=ranked_phrases\n",
        "    #print(ranked_phrases)\n",
        "    #break\n",
        "    for phrase in ranked_phrases:\n",
        "        ll.append(phrase)\n",
        "\n",
        "\n",
        "#print(cleaned_paragraph)\n",
        "#print(cleaned_paragraph_1)"
      ]
    },
    {
      "cell_type": "code",
      "execution_count": null,
      "metadata": {
        "id": "iVunqw9SLbxM",
        "outputId": "d4d6fa77-3ed8-4e49-c58d-9478ea3dff3f"
      },
      "outputs": [
        {
          "data": {
            "text/plain": [
              "201120"
            ]
          },
          "execution_count": 134,
          "metadata": {},
          "output_type": "execute_result"
        }
      ],
      "source": [
        "len(ll)"
      ]
    },
    {
      "cell_type": "code",
      "execution_count": null,
      "metadata": {
        "id": "9pYlcsqeLbxM"
      },
      "outputs": [],
      "source": [
        "from collections import Counter\n",
        "hset=Counter(ll);\n",
        "ll=hset.most_common(500)"
      ]
    },
    {
      "cell_type": "code",
      "execution_count": null,
      "metadata": {
        "id": "8lszPJ_zLbxM",
        "outputId": "bdce5620-867a-407c-eb68-c601fa91b6bb"
      },
      "outputs": [
        {
          "data": {
            "text/plain": [
              "[(u'smart recovery meeting', 1044),\n",
              " (u'chicago', 941),\n",
              " (u'yoga', 887),\n",
              " (u'introduction', 815),\n",
              " (u'speed dating', 654),\n",
              " (u'single professionals', 647),\n",
              " (u'meditation', 630),\n",
              " (u'tai chi', 539),\n",
              " (u'let', 532),\n",
              " (u'energy healing martial arts', 507),\n",
              " (u'lincoln park', 506),\n",
              " (u'evanston', 472),\n",
              " (u'beginners', 461),\n",
              " (u'meet', 452),\n",
              " (u'bowing meditation', 452),\n",
              " (u'karate', 429),\n",
              " (u'morning', 425),\n",
              " (u'salsa class', 402),\n",
              " (u'singles w', 391),\n",
              " (u'jka karate', 388),\n",
              " (u'aikido introduction', 382),\n",
              " (u'community acupuncture', 362),\n",
              " (u'weight loss', 360),\n",
              " (u'meditate', 360),\n",
              " (u'wicker park', 343)]"
            ]
          },
          "execution_count": 136,
          "metadata": {},
          "output_type": "execute_result"
        }
      ],
      "source": [
        "(ll[:25])"
      ]
    },
    {
      "cell_type": "code",
      "execution_count": null,
      "metadata": {
        "id": "vuF-EEPYLbxM"
      },
      "outputs": [],
      "source": [
        "##Here I creating the list of 500 event tags\n",
        "listOfTags=[]\n",
        "for i in range(len(ll)):\n",
        "    listOfTags.append(ll[i][0])"
      ]
    },
    {
      "cell_type": "code",
      "execution_count": null,
      "metadata": {
        "id": "7PWGpeh4LbxM",
        "outputId": "5b1f5a0c-1ba0-43b9-f316-074618af03b4"
      },
      "outputs": [
        {
          "data": {
            "text/plain": [
              "[u'smart recovery meeting',\n",
              " u'chicago',\n",
              " u'yoga',\n",
              " u'introduction',\n",
              " u'speed dating',\n",
              " u'single professionals',\n",
              " u'meditation',\n",
              " u'tai chi',\n",
              " u'let',\n",
              " u'energy healing martial arts',\n",
              " u'lincoln park',\n",
              " u'evanston',\n",
              " u'beginners',\n",
              " u'meet',\n",
              " u'bowing meditation',\n",
              " u'karate',\n",
              " u'morning',\n",
              " u'salsa class',\n",
              " u'singles w',\n",
              " u'jka karate',\n",
              " u'aikido introduction',\n",
              " u'community acupuncture',\n",
              " u'weight loss',\n",
              " u'meditate',\n",
              " u'wicker park',\n",
              " u'singing bowl meditation',\n",
              " u'women',\n",
              " u'pick',\n",
              " u'join us',\n",
              " u'fusion yoga',\n",
              " u'svetlana raoufi',\n",
              " u'oak park',\n",
              " u'word',\n",
              " u'lakeview',\n",
              " u'kundalini yoga',\n",
              " u'study god',\n",
              " u'meetup',\n",
              " u'real estate investors meeting',\n",
              " u'healing clinic',\n",
              " u'open gaming',\n",
              " u'open class',\n",
              " u'beginner',\n",
              " u'play',\n",
              " u'stop chasing customers',\n",
              " u'mantra meditation',\n",
              " u'open gym',\n",
              " u'networking',\n",
              " u'schaumburg',\n",
              " u'welcome',\n",
              " u'free meditation',\n",
              " u'network',\n",
              " u'4 week series',\n",
              " u'indoor target archery',\n",
              " u'oneness blessing',\n",
              " u'workshop',\n",
              " u'work',\n",
              " u'r',\n",
              " u'free class',\n",
              " u'wicker park drop',\n",
              " u'board game night',\n",
              " u'yoga basics',\n",
              " u'wear comfortable clothing',\n",
              " u'willing heart',\n",
              " u'yoga within reach',\n",
              " u'n',\n",
              " u'weekly rehearsal',\n",
              " u'dragon ops',\n",
              " u'joe',\n",
              " u'muscle toning',\n",
              " u'urban warrior fit boot camp',\n",
              " u'introductory meditation',\n",
              " u'cup',\n",
              " u'advanced degrees',\n",
              " u'redeeming grace church food pantry',\n",
              " u'kendo',\n",
              " u'emporium logan square',\n",
              " u'learn',\n",
              " u'salsabor tuesdays',\n",
              " u'class',\n",
              " u'chicago eft tapping circle',\n",
              " u'talk',\n",
              " u'fun',\n",
              " u'crossfit arlington heights',\n",
              " u'guided meditation',\n",
              " u'regular sunday wrestling practice',\n",
              " u'saturdays',\n",
              " u'shorinji kempo',\n",
              " u'course',\n",
              " u'coffee',\n",
              " u'dupage referral network',\n",
              " u'tai chi class',\n",
              " u'durty nellie',\n",
              " u'soccer',\n",
              " u'wooden pillow workshop',\n",
              " u'essential oils',\n",
              " u'game night',\n",
              " u'intro',\n",
              " u'oak park drop',\n",
              " u'core strength vinyasa class',\n",
              " u'yin yoga',\n",
              " u'limits fitness',\n",
              " u'friday night magic',\n",
              " u'furry friends',\n",
              " u'naperville',\n",
              " u'thursday pm',\n",
              " u'life',\n",
              " u'long ballroom',\n",
              " u'present moment meditation group',\n",
              " u'tuesday morning coworking',\n",
              " u'tg',\n",
              " u'social media event',\n",
              " u'mid',\n",
              " u'wi',\n",
              " u'please rsvp',\n",
              " u'latin dance classes',\n",
              " u'source \\u2122',\n",
              " u'free',\n",
              " u'bachata',\n",
              " u'star wars',\n",
              " u'mastermind group',\n",
              " u'walk',\n",
              " u'saturday',\n",
              " u'meditation program',\n",
              " u'morning meditation',\n",
              " u'downers grove',\n",
              " u'playgroup',\n",
              " u'trivia',\n",
              " u'casual board gamers meetup',\n",
              " u'loop',\n",
              " u'meeting',\n",
              " u'meet new people',\n",
              " u'uwh practice',\n",
              " u'serve lunch',\n",
              " u'carol stream',\n",
              " u'miracles study group',\n",
              " u'tula yoga studio',\n",
              " u'smart meeting',\n",
              " u'gay men',\n",
              " u'weekly guided meditation',\n",
              " u'trivia tuesdays',\n",
              " u'sunday night meditation group',\n",
              " u'closed meeting',\n",
              " u'smart recovery',\n",
              " u'friends meeting',\n",
              " u'northwest indiana boardgamers association',\n",
              " u'free talk',\n",
              " u'support group',\n",
              " u'thursdays',\n",
              " u'lunch',\n",
              " u'argo tea',\n",
              " u'north center',\n",
              " u'self',\n",
              " u'quest gathering',\n",
              " u'money networking monday',\n",
              " u'chicago go club',\n",
              " u'wcf',\n",
              " u'adult fitness hip hop',\n",
              " u'beginning swing dance',\n",
              " u'games plus',\n",
              " u'orland park',\n",
              " u'gong meditation',\n",
              " u'transcendental meditation',\n",
              " u'00pm open gaming',\n",
              " u'huntley',\n",
              " u'prayer yoga',\n",
              " u'speaking english',\n",
              " u'greyhawk campaign',\n",
              " u'monthly meeting',\n",
              " u'help sort donated food',\n",
              " u'food pantry',\n",
              " u'park',\n",
              " u'jesse brown va medical center',\n",
              " u'dinner',\n",
              " u'want',\n",
              " u'indoor volleyball',\n",
              " u'improve listening',\n",
              " u'tantric practice',\n",
              " u'yin yoga class',\n",
              " u'seniors',\n",
              " u'meditation session',\n",
              " u'ddp yoga',\n",
              " u'encounters',\n",
              " u'wednesday workout',\n",
              " u'sunday',\n",
              " u'b line dance class',\n",
              " u'gathering light',\n",
              " u'blind bet comedy show',\n",
              " u'chicago hope academy',\n",
              " u'office hours',\n",
              " u'streeterville',\n",
              " u'restorative yoga',\n",
              " u'network marketers',\n",
              " u'maybe sweat',\n",
              " u'go ....',\n",
              " u'panera',\n",
              " u'tuesday volleyball',\n",
              " u'master',\n",
              " u'palatine tabletop tuesday',\n",
              " u'night',\n",
              " u'trivia night',\n",
              " u'conversation',\n",
              " u'salsalicious saturdays',\n",
              " u'come',\n",
              " u'mindful restorative',\n",
              " u'snuggery',\n",
              " u'entrepreneur evolution',\n",
              " u'sort donated food',\n",
              " u'michael diversey',\n",
              " u'security',\n",
              " u'new year',\n",
              " u'nice girls finish last',\n",
              " u'tuesday night chess',\n",
              " u'sundays',\n",
              " u'coffee social time',\n",
              " u'midweek mingle',\n",
              " u'entre',\n",
              " u'pure soccer',\n",
              " u'coppin food pantry',\n",
              " u'leadership skills',\n",
              " u'tuesday evening video',\n",
              " u'greet',\n",
              " u'visit adidam center',\n",
              " u'help distribute food',\n",
              " u'chicago slackliners association',\n",
              " u'lincoln square',\n",
              " u'volunteer',\n",
              " u'happy hour',\n",
              " u'open house',\n",
              " u'ganesha',\n",
              " u'breathe',\n",
              " u'st',\n",
              " u'cenacle retreat center',\n",
              " u'spy bar',\n",
              " u'friends !!',\n",
              " u'share',\n",
              " u'toastmasters',\n",
              " u'schaumburg hoffman weekly bni meeting',\n",
              " u'peace',\n",
              " u'board games',\n",
              " u'schaumburg chapter meeting',\n",
              " u'tabletop tuesday',\n",
              " u'arlington heights chapter weekly meetup',\n",
              " u'indoor soccer pickup',\n",
              " u'neiu',\n",
              " u'meridian touch japanese qigong',\n",
              " u'chios school level three class',\n",
              " u'portage park',\n",
              " u'saturday euro games',\n",
              " u'air hockey tournament',\n",
              " u'love',\n",
              " u'weekend futsal pick',\n",
              " u'pete ellman big band',\n",
              " u'rooftop',\n",
              " u'latin en fuego',\n",
              " u'required',\n",
              " u'warmachine',\n",
              " u'yoga shop',\n",
              " u'tea',\n",
              " u'adult ju jitsu',\n",
              " u'christian singles',\n",
              " u'pmp study group',\n",
              " u'small group personal training',\n",
              " u'attend',\n",
              " u'sahaja yoga meditation',\n",
              " u'basics',\n",
              " u'blackout diaries',\n",
              " u'rise',\n",
              " u'volleyball',\n",
              " u'jazz consortium big band',\n",
              " u'wed',\n",
              " u'dungeons',\n",
              " u'wine',\n",
              " u'hordes open battle play',\n",
              " u'virtualization',\n",
              " u'yankee woods',\n",
              " u'stepping lessons',\n",
              " u'study group',\n",
              " u'5',\n",
              " u'maximum distractions',\n",
              " u'oak park gaming',\n",
              " u'python office hours',\n",
              " u'olympic weightlifting class',\n",
              " u'joel',\n",
              " u'goldsmith book discussion group',\n",
              " u'peaceful presence ...',\n",
              " u'thursday',\n",
              " u'rise fitness boot camp',\n",
              " u'blind bet show',\n",
              " u'shimmy fit --- weekly friday morning fitness class',\n",
              " u'weekly beyond support meeting',\n",
              " u'take',\n",
              " u'live music',\n",
              " u'arlington heights',\n",
              " u'deep eddy vodka',\n",
              " u'meet us',\n",
              " u'free evening english classes',\n",
              " u'organ cleansing qi',\n",
              " u'crafter',\n",
              " u'mitsuwa market area japanese language',\n",
              " u'culture meetup',\n",
              " u'please register',\n",
              " u'zhang fu gong',\n",
              " u'bni referral exchange meeting',\n",
              " u'willis tower',\n",
              " u'speaking',\n",
              " u'bi discussion group',\n",
              " u'17',\n",
              " u'happiness ...',\n",
              " u'starving children',\n",
              " u'tuesday night open gaming',\n",
              " u'chios level one beginners class',\n",
              " u'futsal',\n",
              " u'6v6 indoor soccer tournament',\n",
              " u'wednesdays',\n",
              " u'thurs',\n",
              " u'stand',\n",
              " u'tennis',\n",
              " u'networking event',\n",
              " u'go',\n",
              " u'mix',\n",
              " u'kids coed hip hop ages 10',\n",
              " u'vertigo sky lounge',\n",
              " u'mystic celt',\n",
              " u'ravenswood',\n",
              " u'relax sipping wine',\n",
              " u'00pm',\n",
              " u'next masterpiece',\n",
              " u'general meeting',\n",
              " u'slow flow yoga',\n",
              " u'reiki share',\n",
              " u'get',\n",
              " u'taste',\n",
              " u'mindful living',\n",
              " u'candlelight',\n",
              " u'friday night indoor tennis',\n",
              " u'social',\n",
              " u'group acupuncture protocol',\n",
              " u'karate tots class',\n",
              " u'chicago latvian community center',\n",
              " u'salsalicious thursdays',\n",
              " u'nra pistol marksmanship simulator training',\n",
              " u'time',\n",
              " u'monthly meetup',\n",
              " u'valko bjj',\n",
              " u'outdoor session',\n",
              " u'pop',\n",
              " u'music',\n",
              " u'men',\n",
              " u'soul',\n",
              " u'indoor game',\n",
              " u'west loop',\n",
              " u'new perspectives',\n",
              " u'drum circle',\n",
              " u'lockport',\n",
              " u'multiples support group',\n",
              " u'new parent support group',\n",
              " u'victories open circle',\n",
              " u'free afternoon english classes',\n",
              " u'tinley park',\n",
              " u'30s',\n",
              " u'geek bar beta',\n",
              " u'meditation w',\n",
              " u'creative expression',\n",
              " u'slade',\n",
              " u'healing',\n",
              " u'inscripciones desde ya curso de sushi rolls .!!',\n",
              " u'world',\n",
              " u'thursday pm small group strength training',\n",
              " u'thursday workout',\n",
              " u'monday indoor session ii',\n",
              " u'2',\n",
              " u'awakening kundalini energy',\n",
              " u'kidz kabaret',\n",
              " u'networking mixer',\n",
              " u'get together',\n",
              " u'northwest suburbs',\n",
              " u'wheaton',\n",
              " u'akashic records book club',\n",
              " u'intuitive angel',\n",
              " u'transform',\n",
              " u'free yoga',\n",
              " u'windy city fieldhouse',\n",
              " u'corner bakery',\n",
              " u'2e ad',\n",
              " u'b soul line dance class',\n",
              " u'sound bar',\n",
              " u'hike',\n",
              " u'wine tasting',\n",
              " u'wonderful meditation',\n",
              " u'nada',\n",
              " u'vibration',\n",
              " u'recruit 61 people',\n",
              " u'thursday indoor volleyball tournament',\n",
              " u'tue open gym',\n",
              " u'tula yoga',\n",
              " u'mindful meditation',\n",
              " u'level chainmaille sessions',\n",
              " u'sunday foosball tournament',\n",
              " u'guided learning',\n",
              " u'kids soccer session',\n",
              " u'mixed level salsa',\n",
              " u'planning',\n",
              " u'us',\n",
              " u'monday night walk',\n",
              " u'slackline',\n",
              " u'monday evening walk',\n",
              " u'ganesha yoga',\n",
              " u'introductory meeting',\n",
              " u'communication skills',\n",
              " u'ride',\n",
              " u'free drinks',\n",
              " u'tuesday',\n",
              " u'valentine',\n",
              " u'jim bosco',\n",
              " u'old town',\n",
              " u'salsa',\n",
              " u'bloomingdale',\n",
              " u'futsal pick',\n",
              " u'sex appeal',\n",
              " u'logan square',\n",
              " u'free stress relieve acupuncture session',\n",
              " u'long pose nude figure drawing',\n",
              " u'cornerstone homeless shelter',\n",
              " u'mullen',\n",
              " u'discussion',\n",
              " u'pathfinder',\n",
              " u'worship ...',\n",
              " u'open mat',\n",
              " u'addison chapter meeting',\n",
              " u'excuse mom',\n",
              " u'pumping station',\n",
              " u'relax',\n",
              " u'toastmasters door 51',\n",
              " u'hyde park thursday night sitting group',\n",
              " u'inner balance',\n",
              " u'feldenkrais',\n",
              " u'30 pm',\n",
              " u'games',\n",
              " u'board games food',\n",
              " u'team dream coached swim sessions',\n",
              " u'andrea klunder',\n",
              " u'weekday training session',\n",
              " u'toastmasters meeting',\n",
              " u'lets meetup',\n",
              " u'mediumship awareness group',\n",
              " u'make',\n",
              " u'gripfit bootcamp fitness class meet',\n",
              " u'oneness blessing meditation',\n",
              " u'13th age',\n",
              " u'chicago state university',\n",
              " u'oak brook',\n",
              " u'party',\n",
              " u'brooklyn boulders',\n",
              " u'riverport',\n",
              " u'hybrid',\n",
              " u'cappella women',\n",
              " u'younger women',\n",
              " u'60 days without stalking',\n",
              " u'chat',\n",
              " u'practice group',\n",
              " u'saturday night outdoor 6v6 soccer tournament',\n",
              " u'repeat ...',\n",
              " u'every friday',\n",
              " u'practical self defense class',\n",
              " u'monday nights',\n",
              " u'science',\n",
              " u'workout karaoke every wed',\n",
              " u'tuesday pm',\n",
              " u'grandball room',\n",
              " u'drinks',\n",
              " u'wednesday indoor volleyball',\n",
              " u'lombard',\n",
              " u'grow',\n",
              " u'marius',\n",
              " u'tuesday beach volleyball 4',\n",
              " u'successful men',\n",
              " u'kai chi',\n",
              " u'stars',\n",
              " u'mixed level cumbia',\n",
              " u'hhs toastmasters meeting',\n",
              " u'labs',\n",
              " u'nonviolence discussion',\n",
              " u'stress',\n",
              " u'public speaking',\n",
              " u'hula hoop class w',\n",
              " u'csu',\n",
              " u'tap',\n",
              " u'canlan sportsplex',\n",
              " u'enhance',\n",
              " u'bring',\n",
              " u'monday night meditation',\n",
              " u'singles party',\n",
              " u'support meeting',\n",
              " u'kensington roof garden',\n",
              " u'sing',\n",
              " u'ground floor inventor',\n",
              " u'table discussion',\n",
              " u'credit education',\n",
              " u'play cards',\n",
              " u'put']"
            ]
          },
          "execution_count": 138,
          "metadata": {},
          "output_type": "execute_result"
        }
      ],
      "source": [
        "import copy\n",
        "#new_list = copy.copy(old_list)\n",
        "l3=copy.copy(listOfTags)\n",
        "l3"
      ]
    },
    {
      "cell_type": "code",
      "execution_count": null,
      "metadata": {
        "id": "aYtZ6zlwLbxN",
        "outputId": "85f1a64d-a7a8-4b4e-912d-367419db0d85"
      },
      "outputs": [
        {
          "data": {
            "text/plain": [
              "500"
            ]
          },
          "execution_count": 139,
          "metadata": {},
          "output_type": "execute_result"
        }
      ],
      "source": [
        "len(l3)"
      ]
    },
    {
      "cell_type": "code",
      "execution_count": null,
      "metadata": {
        "id": "5UlIheHoLbxN",
        "outputId": "f86a70e2-c66c-4c8a-dcf1-62fc0097cf79"
      },
      "outputs": [
        {
          "name": "stdout",
          "output_type": "stream",
          "text": [
            "(u'pgtkhlytmbfc', u\"Let's meet and get our groove on,  maybe sweat a little as we go....\")\n",
            "(u'qztqdhysjbwb', u'Pathfinder Adventure Path at The Gaming Goat: Skull Shackles')\n",
            "(u'dvcrlgyrnbqb', u\"Beginner's Meditation Program\")\n",
            "(u'thqsclysqbvb', u'Walk & Talk! (INDOORS).  NEW MEMBER INVITATION NIGHT!')\n",
            "(u'dwldlgysfbzb', u'Invite in Peace and Happiness...')\n",
            "(u'dtlcxjytcbfb', u'Saturday Open Table Top Gaming')\n",
            "(u'qlbbhhysgbcb', u'Kundalini Yoga & Meditation')\n",
            "(u'192062632', u'Manga Jam #9: Sexy Voice and Robo')\n",
            "(u'qmpxfgysdbnb', u'Shorinji Kempo: Introduction')\n"
          ]
        }
      ],
      "source": [
        "ct=0\n",
        "for m in event_tags:\n",
        "    print(m,event_tags[m])\n",
        "    if ct>7:\n",
        "        break\n",
        "    ct+=1"
      ]
    },
    {
      "cell_type": "code",
      "execution_count": null,
      "metadata": {
        "id": "DE7NtYdTLbxN",
        "outputId": "dca6da65-46a4-46b7-fae5-009cdd64a0f8"
      },
      "outputs": [
        {
          "data": {
            "text/plain": [
              "[u'61700742', u'qcwdpcyqhbqb', u'dmjgwcyqhbqb', u'62051942', u'60865242']"
            ]
          },
          "execution_count": 169,
          "metadata": {},
          "output_type": "execute_result"
        }
      ],
      "source": [
        "sorted_data[:5]"
      ]
    },
    {
      "cell_type": "code",
      "execution_count": null,
      "metadata": {
        "id": "E6yta7qHLbxN"
      },
      "outputs": [],
      "source": [
        "import copy\n",
        "ct=0\n",
        "event_tagsFinal={}\n",
        "for m in event_tags:\n",
        "    l3=copy.copy(listOfTags)\n",
        "    for i in range(len(listOfTags)):\n",
        "        if l3[i] in event_tags[m]:\n",
        "            l3[i]=1\n",
        "        else:\n",
        "            l3[i]=0\n",
        "\n",
        "    event_tagsFinal[m]=l3\n",
        "#     ct+=1\n",
        "#     if ct>5:\n",
        "#         break"
      ]
    },
    {
      "cell_type": "markdown",
      "metadata": {
        "id": "K6LYKIoTLbxN"
      },
      "source": [
        "## Here we get event tags arrays"
      ]
    },
    {
      "cell_type": "code",
      "execution_count": null,
      "metadata": {
        "scrolled": true,
        "id": "limnP8nJLbxN",
        "outputId": "8fe8ed01-0b73-4990-b448-a43a51882a70"
      },
      "outputs": [
        {
          "name": "stdout",
          "output_type": "stream",
          "text": [
            "(u'pgtkhlytmbfc', [0, 0, 0, 0, 0, 0, 0, 0, 0, 0, 0, 0, 0, 1, 0, 0, 0, 0, 0, 0, 0, 0, 0, 0, 0, 0, 0, 0, 0, 0, 0, 0, 0, 0, 0, 0, 0, 0, 0, 0, 0, 0, 0, 0, 0, 0, 0, 0, 0, 0, 0, 0, 0, 0, 0, 0, 1, 0, 0, 0, 0, 0, 0, 0, 1, 0, 0, 0, 0, 0, 0, 0, 0, 0, 0, 0, 0, 0, 0, 0, 0, 0, 0, 0, 0, 0, 0, 0, 0, 0, 0, 0, 0, 0, 0, 0, 0, 0, 0, 0, 0, 0, 0, 0, 0, 0, 0, 0, 0, 0, 0, 0, 0, 0, 0, 0, 0, 0, 0, 0, 0, 0, 0, 0, 0, 0, 0, 0, 0, 0, 0, 0, 0, 0, 0, 0, 0, 0, 0, 0, 0, 0, 0, 0, 0, 0, 0, 0, 0, 0, 0, 0, 0, 0, 0, 0, 0, 0, 0, 0, 0, 0, 0, 0, 0, 0, 0, 0, 0, 0, 0, 0, 0, 0, 0, 0, 0, 0, 0, 0, 0, 0, 0, 0, 0, 0, 0, 0, 0, 0, 0, 0, 1, 0, 0, 0, 0, 0, 0, 0, 0, 0, 0, 0, 0, 0, 0, 0, 0, 0, 0, 0, 0, 0, 0, 0, 0, 0, 0, 0, 0, 0, 0, 0, 0, 0, 0, 0, 0, 0, 0, 0, 0, 0, 0, 0, 0, 0, 0, 0, 0, 0, 0, 0, 0, 0, 0, 0, 0, 0, 0, 0, 0, 0, 0, 0, 0, 0, 0, 0, 0, 0, 0, 0, 0, 0, 0, 0, 0, 0, 0, 0, 0, 0, 0, 0, 0, 0, 0, 0, 0, 0, 0, 0, 0, 0, 0, 0, 0, 0, 0, 0, 0, 0, 0, 0, 0, 0, 0, 0, 0, 0, 0, 0, 0, 0, 0, 0, 0, 0, 0, 0, 0, 0, 0, 0, 0, 0, 1, 0, 0, 0, 0, 0, 0, 0, 0, 0, 0, 0, 1, 0, 0, 0, 0, 0, 0, 0, 0, 0, 0, 0, 0, 0, 0, 0, 0, 0, 0, 0, 0, 0, 0, 0, 0, 0, 0, 0, 0, 0, 0, 0, 0, 0, 0, 0, 0, 0, 0, 0, 0, 0, 0, 0, 0, 0, 0, 0, 0, 0, 0, 0, 0, 0, 0, 0, 0, 0, 0, 0, 0, 0, 0, 0, 0, 0, 0, 0, 0, 0, 0, 0, 0, 0, 0, 0, 0, 0, 0, 0, 0, 0, 0, 0, 0, 0, 0, 0, 0, 0, 0, 0, 0, 0, 0, 0, 0, 0, 0, 0, 0, 0, 0, 0, 0, 0, 0, 0, 0, 0, 0, 0, 0, 0, 0, 0, 0, 0, 0, 0, 0, 0, 0, 0, 0, 0, 0, 0, 0, 0, 0, 0, 0, 0, 0, 0, 0, 0, 0, 0, 0, 0, 0, 0, 0, 0, 0, 0, 0, 0, 0, 0, 0, 0, 0, 0, 0, 0, 0, 0, 0, 0, 0, 0, 0, 0, 0, 0, 0, 0])\n",
            "(u'qztqdhysjbwb', [0, 0, 0, 0, 0, 0, 0, 0, 0, 0, 0, 0, 0, 0, 0, 0, 0, 0, 0, 0, 0, 0, 0, 0, 0, 0, 0, 0, 0, 0, 0, 0, 0, 0, 0, 0, 0, 0, 0, 0, 0, 0, 0, 0, 0, 0, 0, 0, 0, 0, 0, 0, 0, 0, 0, 0, 1, 0, 0, 0, 0, 0, 0, 0, 1, 0, 0, 0, 0, 0, 0, 0, 0, 0, 0, 0, 0, 0, 0, 0, 0, 0, 0, 0, 0, 0, 0, 0, 0, 0, 0, 0, 0, 0, 0, 0, 0, 0, 0, 0, 0, 0, 0, 0, 0, 0, 0, 0, 0, 0, 0, 0, 0, 0, 0, 0, 0, 0, 0, 0, 0, 0, 0, 0, 0, 0, 0, 0, 0, 0, 0, 0, 0, 0, 0, 0, 0, 0, 0, 0, 0, 0, 0, 0, 0, 0, 0, 0, 0, 0, 0, 0, 0, 0, 0, 0, 0, 0, 0, 0, 0, 0, 0, 0, 0, 0, 0, 0, 0, 0, 0, 0, 0, 0, 0, 0, 0, 0, 0, 0, 0, 0, 0, 0, 0, 0, 0, 0, 0, 0, 0, 0, 0, 0, 0, 0, 0, 0, 0, 0, 0, 0, 0, 0, 0, 0, 0, 0, 0, 0, 0, 0, 0, 0, 0, 0, 0, 0, 0, 0, 0, 0, 0, 0, 0, 0, 0, 0, 0, 0, 0, 0, 0, 0, 0, 0, 0, 0, 0, 0, 0, 0, 0, 0, 0, 0, 0, 0, 0, 0, 0, 0, 0, 0, 0, 0, 0, 0, 0, 0, 0, 0, 0, 0, 0, 0, 0, 0, 0, 0, 0, 0, 0, 0, 0, 0, 0, 0, 0, 0, 0, 0, 0, 0, 0, 0, 0, 0, 0, 0, 0, 0, 0, 0, 0, 0, 0, 0, 0, 0, 0, 0, 0, 0, 0, 0, 0, 0, 0, 0, 0, 0, 0, 0, 0, 0, 0, 0, 0, 0, 0, 0, 0, 0, 0, 0, 0, 0, 0, 0, 0, 0, 0, 0, 0, 0, 0, 0, 0, 0, 0, 0, 0, 0, 0, 0, 0, 0, 0, 0, 0, 0, 0, 0, 0, 0, 0, 0, 0, 0, 0, 0, 0, 0, 0, 0, 0, 0, 0, 0, 0, 0, 0, 0, 0, 0, 0, 0, 0, 0, 0, 0, 0, 0, 0, 0, 0, 0, 0, 0, 0, 0, 0, 0, 0, 0, 0, 0, 0, 0, 0, 0, 0, 0, 0, 0, 0, 0, 0, 0, 0, 0, 0, 0, 0, 0, 0, 0, 0, 0, 0, 0, 0, 0, 0, 0, 0, 0, 0, 0, 0, 0, 0, 0, 0, 0, 0, 0, 0, 0, 0, 0, 0, 0, 0, 0, 0, 0, 0, 0, 0, 0, 0, 0, 0, 0, 0, 0, 0, 0, 0, 0, 0, 0, 0, 0, 0, 0, 0, 0, 0, 0, 0, 0, 0, 0, 0, 0, 0, 0, 0, 0, 0, 0, 0, 0, 0, 0, 0, 0, 0, 0, 0, 0, 0, 0, 0, 0, 0, 0])\n",
            "(u'dvcrlgyrnbqb', [0, 0, 0, 0, 0, 0, 0, 0, 0, 0, 0, 0, 0, 0, 0, 0, 0, 0, 0, 0, 0, 0, 0, 0, 0, 0, 0, 0, 0, 0, 0, 0, 0, 0, 0, 0, 0, 0, 0, 0, 0, 0, 0, 0, 0, 0, 0, 0, 0, 0, 0, 0, 0, 0, 0, 0, 1, 0, 0, 0, 0, 0, 0, 0, 1, 0, 0, 0, 0, 0, 0, 0, 0, 0, 0, 0, 0, 0, 0, 0, 0, 0, 0, 0, 0, 0, 0, 0, 0, 0, 0, 0, 0, 0, 0, 0, 0, 0, 0, 0, 0, 0, 0, 0, 0, 0, 0, 0, 0, 0, 0, 0, 0, 0, 0, 0, 0, 0, 0, 0, 0, 0, 0, 0, 0, 0, 0, 0, 0, 0, 0, 0, 0, 0, 0, 0, 0, 0, 0, 0, 0, 0, 0, 0, 0, 0, 0, 0, 0, 0, 0, 0, 0, 0, 0, 0, 0, 0, 0, 0, 0, 0, 0, 0, 0, 0, 0, 0, 0, 0, 0, 0, 0, 0, 0, 0, 0, 0, 0, 0, 0, 0, 0, 0, 0, 0, 0, 0, 0, 0, 0, 0, 0, 0, 0, 0, 0, 0, 0, 0, 0, 0, 0, 0, 0, 0, 0, 0, 0, 0, 0, 0, 0, 0, 0, 0, 0, 0, 0, 0, 0, 0, 0, 0, 0, 0, 0, 0, 0, 0, 0, 0, 0, 0, 0, 0, 0, 0, 0, 0, 0, 0, 0, 0, 0, 0, 0, 0, 0, 0, 0, 0, 0, 0, 0, 0, 0, 0, 0, 0, 0, 0, 0, 0, 0, 0, 0, 0, 0, 0, 0, 0, 0, 0, 0, 0, 0, 0, 0, 0, 0, 0, 0, 0, 0, 0, 0, 0, 0, 0, 0, 0, 0, 0, 0, 0, 0, 0, 0, 0, 0, 0, 0, 0, 0, 0, 0, 0, 0, 0, 0, 0, 0, 0, 0, 0, 0, 0, 0, 0, 0, 0, 0, 0, 0, 0, 0, 0, 0, 0, 0, 0, 0, 0, 0, 0, 0, 0, 0, 0, 0, 0, 0, 0, 0, 0, 0, 0, 0, 0, 0, 0, 0, 0, 0, 0, 0, 0, 0, 0, 0, 0, 0, 0, 0, 0, 0, 0, 0, 0, 0, 0, 0, 0, 0, 0, 0, 0, 0, 0, 0, 0, 0, 0, 0, 0, 0, 0, 0, 0, 0, 0, 0, 0, 0, 0, 0, 0, 0, 0, 0, 0, 0, 0, 0, 0, 0, 0, 0, 0, 0, 0, 0, 0, 0, 0, 0, 0, 0, 0, 0, 0, 0, 0, 0, 0, 0, 0, 0, 0, 0, 0, 0, 0, 0, 0, 0, 0, 0, 0, 0, 0, 0, 0, 0, 0, 0, 0, 0, 0, 0, 0, 0, 0, 0, 0, 0, 0, 0, 0, 0, 0, 0, 0, 0, 0, 0, 0, 0, 0, 0, 0, 0, 0, 0, 0, 0, 0, 0, 0, 0, 0, 0, 0, 0, 0, 0, 0, 0, 0, 0, 0, 0, 0, 0, 0, 0, 0, 0, 0])\n",
            "(u'thqsclysqbvb', [0, 0, 0, 0, 0, 0, 0, 0, 0, 0, 0, 0, 0, 0, 0, 0, 0, 0, 0, 0, 0, 0, 0, 0, 0, 0, 0, 0, 0, 0, 0, 0, 0, 0, 0, 0, 0, 0, 0, 0, 0, 0, 0, 0, 0, 0, 0, 0, 0, 0, 0, 0, 0, 0, 0, 0, 0, 0, 0, 0, 0, 0, 0, 0, 0, 0, 0, 0, 0, 0, 0, 0, 0, 0, 0, 0, 0, 0, 0, 0, 0, 0, 0, 0, 0, 0, 0, 0, 0, 0, 0, 0, 0, 0, 0, 0, 0, 0, 0, 0, 0, 0, 0, 0, 0, 0, 0, 0, 0, 0, 0, 0, 0, 0, 0, 0, 0, 0, 0, 0, 0, 0, 0, 0, 0, 0, 0, 0, 0, 0, 0, 0, 0, 0, 0, 0, 0, 0, 0, 0, 0, 0, 0, 0, 0, 0, 0, 0, 0, 0, 0, 0, 0, 0, 0, 0, 0, 0, 0, 0, 0, 0, 0, 0, 0, 0, 0, 0, 0, 0, 0, 0, 0, 0, 0, 0, 0, 0, 0, 0, 0, 0, 0, 0, 0, 0, 0, 0, 0, 0, 0, 0, 0, 0, 0, 0, 0, 0, 0, 0, 0, 0, 0, 0, 0, 0, 0, 0, 0, 0, 0, 0, 0, 0, 0, 0, 0, 0, 0, 0, 0, 0, 0, 0, 0, 0, 0, 0, 0, 0, 0, 0, 0, 0, 0, 0, 0, 0, 0, 0, 0, 0, 0, 0, 0, 0, 0, 0, 0, 0, 0, 0, 0, 0, 0, 0, 0, 0, 0, 0, 0, 0, 0, 0, 0, 0, 0, 0, 0, 0, 0, 0, 0, 0, 0, 0, 0, 0, 0, 0, 0, 0, 0, 0, 0, 0, 0, 0, 0, 0, 0, 0, 0, 0, 0, 0, 0, 0, 0, 0, 0, 0, 0, 0, 0, 0, 0, 0, 0, 0, 0, 0, 0, 0, 0, 0, 0, 0, 0, 0, 0, 0, 0, 0, 0, 0, 0, 0, 0, 0, 0, 0, 0, 0, 0, 0, 0, 0, 0, 0, 0, 0, 0, 0, 0, 0, 0, 0, 0, 0, 0, 0, 0, 0, 0, 0, 0, 0, 0, 0, 0, 0, 0, 0, 0, 0, 0, 0, 0, 0, 0, 0, 0, 0, 0, 0, 0, 0, 0, 0, 0, 0, 0, 0, 0, 0, 0, 0, 0, 0, 0, 0, 0, 0, 0, 0, 0, 0, 0, 0, 0, 0, 0, 0, 0, 0, 0, 0, 0, 0, 0, 0, 0, 0, 0, 0, 0, 0, 0, 0, 0, 0, 0, 0, 0, 0, 0, 0, 0, 0, 0, 0, 0, 0, 0, 0, 0, 0, 0, 0, 0, 0, 0, 0, 0, 0, 0, 0, 0, 0, 0, 0, 0, 0, 0, 0, 0, 0, 0, 0, 0, 0, 0, 0, 0, 0, 0, 0, 0, 0, 0, 0, 0, 0, 0, 0, 0, 0, 0, 0, 0, 0, 0, 0, 0, 0, 0, 0, 0, 0, 0, 0, 0, 0, 0, 0, 0, 0, 0, 0])\n",
            "(u'dwldlgysfbzb', [0, 0, 0, 0, 0, 0, 0, 0, 0, 0, 0, 0, 0, 0, 0, 0, 0, 0, 0, 0, 0, 0, 0, 0, 0, 0, 0, 0, 0, 0, 0, 0, 0, 0, 0, 0, 0, 0, 0, 0, 0, 0, 0, 0, 0, 0, 0, 0, 0, 0, 0, 0, 0, 0, 0, 0, 0, 0, 0, 0, 0, 0, 0, 0, 1, 0, 0, 0, 0, 0, 0, 0, 0, 0, 0, 0, 0, 0, 0, 0, 0, 0, 0, 0, 0, 0, 0, 0, 0, 0, 0, 0, 0, 0, 0, 0, 0, 0, 0, 0, 0, 0, 0, 0, 0, 0, 0, 0, 0, 0, 0, 0, 0, 0, 0, 0, 0, 0, 0, 0, 0, 0, 0, 0, 0, 0, 0, 0, 0, 0, 0, 0, 0, 0, 0, 0, 0, 0, 0, 0, 0, 0, 0, 0, 0, 0, 0, 0, 0, 0, 0, 0, 0, 0, 0, 0, 0, 0, 0, 0, 0, 0, 0, 0, 0, 0, 0, 0, 0, 0, 0, 0, 0, 0, 0, 0, 0, 0, 0, 0, 0, 0, 0, 0, 0, 0, 0, 0, 0, 0, 0, 0, 0, 0, 0, 0, 0, 0, 0, 0, 0, 0, 0, 0, 0, 0, 0, 0, 0, 0, 0, 0, 0, 0, 0, 0, 0, 0, 0, 0, 0, 0, 0, 0, 0, 0, 0, 0, 0, 0, 0, 0, 0, 0, 0, 0, 0, 0, 0, 0, 0, 0, 0, 0, 0, 0, 0, 0, 0, 0, 0, 0, 0, 0, 0, 0, 0, 0, 0, 0, 0, 0, 0, 0, 0, 0, 0, 0, 0, 0, 0, 0, 0, 0, 0, 0, 0, 0, 0, 0, 0, 0, 0, 0, 0, 0, 0, 0, 0, 0, 0, 0, 0, 0, 0, 0, 0, 0, 0, 0, 0, 0, 0, 0, 0, 0, 0, 0, 0, 0, 0, 0, 0, 0, 0, 0, 0, 0, 0, 0, 0, 0, 0, 0, 0, 0, 0, 0, 0, 0, 0, 0, 0, 0, 0, 0, 0, 0, 0, 0, 0, 0, 0, 0, 0, 0, 0, 0, 0, 0, 0, 0, 0, 0, 0, 0, 0, 0, 0, 0, 0, 0, 0, 0, 0, 0, 0, 0, 0, 0, 0, 0, 0, 0, 0, 0, 0, 0, 0, 0, 0, 0, 0, 0, 0, 0, 0, 0, 0, 0, 0, 0, 0, 0, 0, 0, 0, 0, 0, 0, 0, 0, 0, 0, 0, 0, 0, 0, 0, 0, 0, 0, 0, 0, 0, 0, 0, 0, 0, 0, 0, 0, 0, 0, 0, 0, 0, 0, 0, 0, 0, 0, 0, 0, 0, 0, 0, 0, 0, 0, 0, 0, 0, 0, 0, 0, 0, 0, 0, 0, 0, 0, 0, 0, 0, 0, 0, 0, 0, 0, 0, 0, 0, 0, 0, 0, 0, 0, 0, 0, 0, 0, 0, 0, 0, 0, 0, 0, 0, 0, 0, 0, 0, 0, 0, 0, 0, 0, 0, 0, 0, 0, 0, 0, 0, 0, 0, 0, 0, 0])\n",
            "(u'dtlcxjytcbfb', [0, 0, 0, 0, 0, 0, 0, 0, 0, 0, 0, 0, 0, 0, 0, 0, 0, 0, 0, 0, 0, 0, 0, 0, 0, 0, 0, 0, 0, 0, 0, 0, 0, 0, 0, 0, 0, 0, 0, 0, 0, 0, 0, 0, 0, 0, 0, 0, 0, 0, 0, 0, 0, 0, 0, 0, 1, 0, 0, 0, 0, 0, 0, 0, 1, 0, 0, 0, 0, 0, 0, 0, 0, 0, 0, 0, 0, 0, 0, 0, 0, 0, 0, 0, 0, 0, 0, 0, 0, 0, 0, 0, 0, 0, 0, 0, 0, 0, 0, 0, 0, 0, 0, 0, 0, 0, 0, 0, 0, 0, 0, 0, 0, 0, 0, 0, 0, 0, 0, 0, 0, 0, 0, 0, 0, 0, 0, 0, 0, 0, 0, 0, 0, 0, 0, 0, 0, 0, 0, 0, 0, 0, 0, 0, 0, 0, 0, 0, 0, 0, 0, 0, 0, 0, 0, 0, 0, 0, 0, 0, 0, 0, 0, 0, 0, 0, 0, 0, 0, 0, 0, 0, 0, 0, 0, 0, 0, 0, 0, 0, 0, 0, 0, 0, 0, 0, 0, 0, 0, 0, 0, 0, 0, 0, 0, 0, 0, 0, 0, 0, 0, 0, 0, 0, 0, 0, 0, 0, 0, 0, 0, 0, 0, 0, 0, 0, 0, 0, 0, 0, 0, 0, 0, 0, 0, 0, 0, 0, 0, 0, 0, 0, 0, 0, 0, 0, 0, 0, 0, 0, 0, 0, 0, 0, 0, 0, 0, 0, 0, 0, 0, 0, 0, 0, 0, 0, 0, 0, 0, 0, 0, 0, 0, 0, 0, 0, 0, 0, 0, 0, 0, 0, 0, 0, 0, 0, 0, 0, 0, 0, 0, 0, 0, 0, 0, 0, 0, 0, 0, 0, 0, 0, 0, 0, 0, 0, 0, 0, 0, 0, 0, 0, 0, 0, 0, 0, 0, 0, 0, 0, 0, 0, 0, 0, 0, 0, 0, 0, 0, 0, 0, 0, 0, 0, 0, 0, 0, 0, 0, 0, 0, 0, 0, 0, 0, 0, 0, 0, 0, 0, 0, 0, 0, 0, 0, 0, 0, 0, 0, 0, 0, 0, 0, 0, 0, 0, 0, 0, 0, 0, 0, 0, 0, 0, 0, 0, 0, 0, 0, 0, 0, 0, 0, 0, 0, 0, 0, 0, 0, 0, 0, 0, 0, 0, 0, 0, 0, 0, 0, 0, 0, 0, 0, 0, 0, 0, 0, 0, 0, 0, 0, 0, 0, 0, 0, 0, 0, 0, 0, 0, 0, 0, 0, 0, 0, 0, 0, 0, 0, 0, 0, 0, 0, 0, 0, 0, 0, 0, 0, 0, 0, 0, 0, 0, 0, 0, 0, 0, 0, 0, 0, 0, 0, 0, 0, 0, 0, 0, 0, 0, 0, 0, 0, 0, 0, 0, 0, 0, 0, 0, 0, 0, 0, 0, 0, 0, 0, 0, 0, 0, 0, 0, 0, 0, 0, 0, 0, 0, 0, 0, 0, 0, 0, 0, 0, 0, 0, 0, 0, 0, 0, 0, 0, 0, 0, 0, 0, 0, 0, 0])\n",
            "(u'qlbbhhysgbcb', [0, 0, 0, 0, 0, 0, 0, 0, 0, 0, 0, 0, 0, 0, 0, 0, 0, 0, 0, 0, 0, 0, 0, 0, 0, 0, 0, 0, 0, 0, 0, 0, 0, 0, 0, 0, 0, 0, 0, 0, 0, 0, 0, 0, 0, 0, 0, 0, 0, 0, 0, 0, 0, 0, 0, 0, 0, 0, 0, 0, 0, 0, 0, 0, 1, 0, 0, 0, 0, 0, 0, 0, 0, 0, 0, 0, 0, 0, 0, 0, 0, 0, 0, 0, 0, 0, 0, 0, 0, 0, 0, 0, 0, 0, 0, 0, 0, 0, 0, 0, 0, 0, 0, 0, 0, 0, 0, 0, 0, 0, 0, 0, 0, 0, 0, 0, 0, 0, 0, 0, 0, 0, 0, 0, 0, 0, 0, 0, 0, 0, 0, 0, 0, 0, 0, 0, 0, 0, 0, 0, 0, 0, 0, 0, 0, 0, 0, 0, 0, 0, 0, 0, 0, 0, 0, 0, 0, 0, 0, 0, 0, 0, 0, 0, 0, 0, 0, 0, 0, 0, 0, 0, 0, 0, 0, 0, 0, 0, 0, 0, 0, 0, 0, 0, 0, 0, 0, 0, 0, 0, 0, 0, 0, 0, 0, 0, 0, 0, 0, 0, 0, 0, 0, 0, 0, 0, 0, 0, 0, 0, 0, 0, 0, 0, 0, 0, 0, 0, 0, 0, 0, 0, 0, 0, 0, 0, 0, 0, 0, 0, 0, 0, 0, 0, 0, 0, 0, 0, 0, 0, 0, 0, 0, 0, 0, 0, 0, 0, 0, 0, 0, 0, 0, 0, 0, 0, 0, 0, 0, 0, 0, 0, 0, 0, 0, 0, 0, 0, 0, 0, 0, 0, 0, 0, 0, 0, 0, 0, 0, 0, 0, 0, 0, 0, 0, 0, 0, 0, 0, 0, 0, 0, 0, 0, 0, 0, 0, 0, 0, 0, 0, 0, 0, 0, 0, 0, 0, 0, 0, 0, 0, 0, 0, 0, 0, 0, 0, 0, 0, 0, 0, 0, 0, 0, 0, 0, 0, 0, 0, 0, 0, 0, 0, 0, 0, 0, 0, 0, 0, 0, 0, 0, 0, 0, 0, 0, 0, 0, 0, 0, 0, 0, 0, 0, 0, 0, 0, 0, 0, 0, 0, 0, 0, 0, 0, 0, 0, 0, 0, 0, 0, 0, 0, 0, 0, 0, 0, 0, 0, 0, 0, 0, 0, 0, 0, 0, 0, 0, 0, 0, 0, 0, 0, 0, 0, 0, 0, 0, 0, 0, 0, 0, 0, 0, 0, 0, 0, 0, 0, 0, 0, 0, 0, 0, 0, 0, 0, 0, 0, 0, 0, 0, 0, 0, 0, 0, 0, 0, 0, 0, 0, 0, 0, 0, 0, 0, 0, 0, 0, 0, 0, 0, 0, 0, 0, 0, 0, 0, 0, 0, 0, 0, 0, 0, 0, 0, 0, 0, 0, 0, 0, 0, 0, 0, 0, 0, 0, 0, 0, 0, 0, 0, 0, 0, 0, 0, 0, 0, 0, 0, 0, 0, 0, 0, 0, 0, 0, 0, 0, 0, 0, 0, 0, 0, 0, 0, 0, 0, 0, 0])\n",
            "(u'192062632', [0, 0, 0, 0, 0, 0, 0, 0, 0, 0, 0, 0, 0, 0, 0, 0, 0, 0, 0, 0, 0, 0, 0, 0, 0, 0, 0, 0, 0, 0, 0, 0, 0, 0, 0, 0, 0, 0, 0, 0, 0, 0, 0, 0, 0, 0, 0, 0, 0, 0, 0, 0, 0, 0, 0, 0, 0, 0, 0, 0, 0, 0, 0, 0, 1, 0, 0, 0, 0, 0, 0, 0, 0, 0, 0, 0, 0, 0, 0, 0, 0, 0, 0, 0, 0, 0, 0, 0, 0, 0, 0, 0, 0, 0, 0, 0, 0, 0, 0, 0, 0, 0, 0, 0, 0, 0, 0, 0, 0, 0, 0, 0, 0, 0, 0, 0, 0, 0, 0, 0, 0, 0, 0, 0, 0, 0, 0, 0, 0, 0, 0, 0, 0, 0, 0, 0, 0, 0, 0, 0, 0, 0, 0, 0, 0, 0, 0, 0, 0, 0, 0, 0, 0, 0, 0, 0, 0, 0, 0, 0, 0, 0, 0, 0, 0, 0, 0, 0, 0, 0, 0, 0, 0, 0, 0, 0, 0, 0, 0, 0, 0, 0, 0, 0, 0, 0, 0, 0, 0, 0, 0, 0, 0, 0, 0, 0, 0, 0, 0, 0, 0, 0, 0, 0, 0, 0, 0, 0, 0, 0, 0, 0, 0, 0, 0, 0, 0, 0, 0, 0, 0, 0, 0, 0, 0, 0, 0, 0, 0, 0, 0, 0, 0, 0, 0, 0, 0, 0, 0, 0, 0, 0, 0, 0, 0, 0, 0, 0, 0, 0, 0, 0, 0, 0, 0, 0, 0, 0, 0, 0, 0, 0, 0, 0, 0, 0, 0, 0, 0, 0, 0, 0, 0, 0, 0, 0, 0, 0, 0, 0, 0, 0, 0, 0, 0, 0, 0, 0, 0, 0, 0, 0, 0, 0, 0, 0, 0, 0, 0, 0, 0, 0, 0, 0, 0, 0, 0, 0, 0, 0, 0, 0, 0, 0, 0, 0, 0, 0, 0, 0, 0, 0, 0, 0, 0, 0, 0, 0, 0, 0, 0, 0, 0, 0, 0, 0, 0, 0, 0, 0, 0, 0, 0, 0, 0, 0, 0, 0, 0, 0, 0, 0, 0, 0, 0, 0, 0, 0, 0, 0, 0, 0, 0, 0, 0, 0, 0, 0, 0, 0, 0, 0, 0, 0, 0, 0, 0, 0, 0, 0, 0, 0, 0, 0, 0, 0, 0, 0, 0, 0, 0, 0, 0, 0, 0, 0, 0, 0, 0, 0, 0, 0, 0, 0, 0, 0, 0, 0, 0, 0, 0, 0, 0, 0, 0, 0, 0, 0, 0, 0, 0, 0, 0, 0, 0, 0, 0, 0, 0, 0, 0, 0, 0, 0, 0, 0, 0, 0, 0, 0, 0, 0, 0, 0, 0, 0, 0, 0, 0, 0, 0, 0, 0, 0, 0, 0, 0, 0, 0, 0, 0, 0, 0, 0, 0, 0, 0, 0, 0, 0, 0, 0, 0, 0, 0, 0, 0, 0, 0, 0, 0, 0, 0, 0, 0, 0, 0, 0, 0, 0, 0, 0, 0, 0, 0, 0, 0, 0, 0, 0])\n",
            "(u'qmpxfgysdbnb', [0, 0, 0, 0, 0, 0, 0, 0, 0, 0, 0, 0, 0, 0, 0, 0, 0, 0, 0, 0, 0, 0, 0, 0, 0, 0, 0, 0, 0, 0, 0, 0, 0, 0, 0, 0, 0, 0, 0, 0, 0, 0, 0, 0, 0, 0, 0, 0, 0, 0, 0, 0, 0, 0, 0, 0, 1, 0, 0, 0, 0, 0, 0, 0, 1, 0, 0, 0, 0, 0, 0, 0, 0, 0, 0, 0, 0, 0, 0, 0, 0, 0, 0, 0, 0, 0, 0, 0, 0, 0, 0, 0, 0, 0, 0, 0, 0, 0, 0, 0, 0, 0, 0, 0, 0, 0, 0, 0, 0, 0, 0, 0, 0, 0, 0, 0, 0, 0, 0, 0, 0, 0, 0, 0, 0, 0, 0, 0, 0, 0, 0, 0, 0, 0, 0, 0, 0, 0, 0, 0, 0, 0, 0, 0, 0, 0, 0, 0, 0, 0, 0, 0, 0, 0, 0, 0, 0, 0, 0, 0, 0, 0, 0, 0, 0, 0, 0, 0, 0, 0, 0, 0, 0, 0, 0, 0, 0, 0, 0, 0, 0, 0, 0, 0, 0, 0, 0, 0, 0, 0, 0, 0, 0, 0, 0, 0, 0, 0, 0, 0, 0, 0, 0, 0, 0, 0, 0, 0, 0, 0, 0, 0, 0, 0, 0, 0, 0, 0, 0, 0, 0, 0, 0, 0, 0, 0, 0, 0, 0, 0, 0, 0, 0, 0, 0, 0, 0, 0, 0, 0, 0, 0, 0, 0, 0, 0, 0, 0, 0, 0, 0, 0, 0, 0, 0, 0, 0, 0, 0, 0, 0, 0, 0, 0, 0, 0, 0, 0, 0, 0, 0, 0, 0, 0, 0, 0, 0, 0, 0, 0, 0, 0, 0, 0, 0, 0, 0, 0, 0, 0, 0, 0, 0, 0, 0, 0, 0, 0, 0, 0, 0, 0, 0, 0, 0, 0, 0, 0, 0, 0, 0, 0, 0, 0, 0, 0, 0, 0, 0, 0, 0, 0, 0, 0, 0, 0, 0, 0, 0, 0, 0, 0, 0, 0, 0, 0, 0, 0, 0, 0, 0, 0, 0, 0, 0, 0, 0, 0, 0, 0, 0, 0, 0, 0, 0, 0, 0, 0, 0, 0, 0, 0, 0, 0, 0, 0, 0, 0, 0, 0, 0, 0, 0, 0, 0, 0, 0, 0, 0, 0, 0, 0, 0, 0, 0, 0, 0, 0, 0, 0, 0, 0, 0, 0, 0, 0, 0, 0, 0, 0, 0, 0, 0, 0, 0, 0, 0, 0, 0, 0, 0, 0, 0, 0, 0, 0, 0, 0, 0, 0, 0, 0, 0, 0, 0, 0, 0, 0, 0, 0, 0, 0, 0, 0, 0, 0, 0, 0, 0, 0, 0, 0, 0, 0, 0, 0, 0, 0, 0, 0, 0, 0, 0, 0, 0, 0, 0, 0, 0, 0, 0, 0, 0, 0, 0, 0, 0, 0, 0, 0, 0, 0, 0, 0, 0, 0, 0, 0, 0, 0, 0, 0, 0, 0, 0, 0, 0, 0, 0, 0, 0, 0, 0, 0, 0, 0, 0, 0, 0, 0])\n"
          ]
        }
      ],
      "source": [
        "ct=0\n",
        "for m in event_tags:\n",
        "    print(m,event_tagsFinal[m])\n",
        "    if ct>7:\n",
        "        break\n",
        "    ct+=1"
      ]
    },
    {
      "cell_type": "code",
      "execution_count": null,
      "metadata": {
        "id": "BBNHMY0ZLbxN",
        "outputId": "8a84a003-aa5a-417e-d997-ae8cb97911b5"
      },
      "outputs": [
        {
          "name": "stdout",
          "output_type": "stream",
          "text": [
            "pgtkhlytmbfc\n"
          ]
        }
      ],
      "source": [
        "for i in event_tags:\n",
        "    if event_tags[i][0] or event_tags[i][1] in ll:\n",
        "        print(i)\n",
        "        break\n"
      ]
    },
    {
      "cell_type": "code",
      "execution_count": null,
      "metadata": {
        "id": "NVd2TJsvLbxN",
        "outputId": "40cf3fff-d670-4766-d12b-6bc705cf3cdb"
      },
      "outputs": [
        {
          "name": "stdout",
          "output_type": "stream",
          "text": [
            "Let's meet and get our groove on,  maybe sweat a little as we go....\n"
          ]
        }
      ],
      "source": [
        "print(event_tags[u'pgtkhlytmbfc'])"
      ]
    },
    {
      "cell_type": "code",
      "execution_count": null,
      "metadata": {
        "id": "zrwFt8GhLbxN",
        "outputId": "a4a48240-1d6e-434c-b630-f95986350459"
      },
      "outputs": [
        {
          "name": "stdout",
          "output_type": "stream",
          "text": [
            "1\n"
          ]
        }
      ],
      "source": [
        "if 1 in event_tagsFinal[u'pgtkhlytmbfc']:\n",
        "    print(\"1\")\n",
        "else:\n",
        "    print(\"0\")"
      ]
    },
    {
      "cell_type": "code",
      "execution_count": null,
      "metadata": {
        "id": "iE0kuU9yLbxN",
        "outputId": "61862665-fbc3-4670-d37f-4f4399b554c2"
      },
      "outputs": [
        {
          "data": {
            "text/plain": [
              "115571"
            ]
          },
          "execution_count": 179,
          "metadata": {},
          "output_type": "execute_result"
        }
      ],
      "source": [
        "len(event_tagsFinal)"
      ]
    },
    {
      "cell_type": "markdown",
      "metadata": {
        "id": "u8K7ciDOLbxN"
      },
      "source": [
        "## start the event vector final dictionary"
      ]
    },
    {
      "cell_type": "code",
      "execution_count": null,
      "metadata": {
        "id": "e8FqHovwLbxN"
      },
      "outputs": [],
      "source": [
        "marged_dic={}\n",
        "for i in event_tags:\n",
        "    marged_dic[i]=event_tagsFinal[i]+k[i]+common1_event[i]"
      ]
    },
    {
      "cell_type": "code",
      "execution_count": null,
      "metadata": {
        "id": "5AkCtpziLbxN",
        "outputId": "2f41b108-ef29-426d-a1dd-4cc36b9b2873"
      },
      "outputs": [
        {
          "data": {
            "text/plain": [
              "1548"
            ]
          },
          "execution_count": 189,
          "metadata": {},
          "output_type": "execute_result"
        }
      ],
      "source": [
        "len(marged_dic[u'170374282'])"
      ]
    },
    {
      "cell_type": "code",
      "execution_count": null,
      "metadata": {
        "id": "CWdihLD2LbxN"
      },
      "outputs": [],
      "source": [
        "from collections import OrderedDict\n",
        "ordered_dict = OrderedDict((key, marged_dic[key]) for key in sorted_data if key in marged_dic)"
      ]
    },
    {
      "cell_type": "code",
      "execution_count": null,
      "metadata": {
        "scrolled": true,
        "id": "QUmUZdPVLbxN",
        "outputId": "c25876f7-1093-4b24-a5a7-e9e0e28ca960"
      },
      "outputs": [
        {
          "name": "stdout",
          "output_type": "stream",
          "text": [
            "(u'61700742', [0, 0, 0, 0, 0, 0, 0, 0, 0, 0, 0, 0, 0, 0, 0, 0, 0, 0, 0, 0, 0, 0, 0, 0, 0, 0, 0, 0, 0, 0, 0, 0, 0, 0, 0, 0, 0, 0, 0, 0, 0, 0, 0, 0, 0, 0, 0, 0, 0, 0, 0, 0, 0, 0, 0, 0, 1, 0, 0, 0, 0, 0, 0, 0, 1, 0, 0, 0, 0, 0, 0, 0, 0, 0, 0, 0, 0, 0, 0, 0, 0, 0, 0, 0, 0, 0, 0, 0, 0, 0, 0, 0, 0, 0, 0, 0, 0, 0, 0, 0, 0, 0, 0, 0, 0, 0, 0, 0, 0, 0, 0, 0, 0, 0, 0, 0, 0, 0, 0, 0, 0, 0, 0, 0, 0, 0, 0, 0, 0, 0, 0, 0, 0, 0, 0, 0, 0, 0, 0, 0, 0, 0, 0, 0, 0, 0, 0, 0, 0, 0, 0, 0, 0, 0, 0, 0, 0, 0, 0, 0, 0, 0, 0, 0, 0, 0, 0, 0, 0, 0, 0, 0, 0, 0, 0, 0, 0, 0, 0, 0, 0, 0, 0, 0, 0, 0, 0, 0, 0, 0, 0, 0, 0, 0, 0, 0, 0, 0, 0, 0, 0, 0, 0, 0, 0, 0, 0, 0, 0, 0, 0, 0, 0, 0, 0, 0, 0, 0, 0, 0, 0, 0, 0, 0, 0, 0, 0, 0, 0, 0, 0, 0, 0, 0, 0, 0, 0, 0, 0, 0, 0, 0, 0, 0, 0, 0, 0, 0, 0, 0, 0, 0, 0, 0, 0, 0, 0, 0, 0, 0, 0, 0, 0, 0, 0, 0, 0, 0, 0, 0, 0, 0, 0, 0, 0, 0, 0, 0, 0, 0, 0, 0, 0, 0, 0, 0, 0, 0, 0, 0, 0, 0, 0, 0, 0, 0, 0, 0, 0, 0, 0, 0, 0, 0, 0, 0, 0, 0, 0, 0, 0, 0, 0, 0, 0, 0, 0, 0, 0, 0, 0, 0, 0, 0, 0, 0, 0, 0, 0, 0, 0, 0, 0, 0, 0, 0, 0, 0, 0, 0, 0, 0, 0, 0, 0, 0, 0, 0, 0, 0, 0, 0, 0, 0, 0, 0, 0, 0, 0, 0, 0, 0, 0, 0, 0, 0, 0, 0, 0, 0, 0, 0, 0, 0, 0, 0, 0, 0, 0, 0, 0, 0, 0, 0, 0, 0, 0, 0, 0, 0, 0, 0, 0, 0, 0, 0, 0, 0, 0, 0, 0, 0, 0, 0, 0, 0, 0, 0, 0, 0, 0, 0, 0, 0, 0, 0, 0, 0, 0, 0, 0, 0, 0, 0, 0, 0, 0, 0, 0, 0, 0, 0, 0, 0, 0, 0, 0, 0, 0, 0, 0, 0, 0, 0, 0, 0, 0, 0, 0, 0, 0, 0, 0, 0, 0, 0, 0, 0, 0, 0, 0, 0, 0, 0, 0, 0, 0, 0, 0, 0, 0, 0, 0, 0, 0, 0, 0, 0, 0, 0, 0, 0, 0, 0, 0, 0, 0, 0, 0, 0, 0, 0, 0, 0, 0, 0, 0, 0, 0, 0, 0, 0, 0, 0, 0, 0, 0, 0, 0, 0, 0, 0, 0, 0, 0, 0, 0, 0, 0, 0, 0, 0, 0, 0, 0, 0, 0, 0, 0, 0, 1, 1, 1, 0, 0, 0, 0, 0, 0, 0, 0, 0, 0, 0, 0, 0, 0, 0, 0, 0, 0, 0, 0, 0, 0, 0, 0, 0, 0, 0, 0, 0, 0, 0, 0, 0, 0, 0, 0, 0, 0, 0, 0, 0, 0, 0, 0, 0, 0, 0, 0, 0, 0, 0, 0, 0, 0, 0, 0, 0, 0, 0, 0, 0, 0, 0, 0, 0, 0, 0, 0, 0, 0, 0, 0, 0, 0, 0, 0, 0, 0, 0, 0, 0, 0, 0, 0, 0, 0, 0, 0, 0, 0, 0, 0, 0, 0, 0, 0, 0, 0, 0, 0, 0, 0, 0, 0, 0, 0, 0, 0, 0, 0, 0, 0, 0, 0, 0, 0, 0, 0, 0, 0, 0, 0, 0, 0, 0, 0, 0, 0, 0, 0, 0, 0, 0, 0, 0, 0, 0, 0, 0, 0, 0, 0, 0, 0, 0, 0, 0, 0, 0, 0, 0, 0, 0, 0, 0, 0, 0, 0, 0, 0, 0, 0, 0, 0, 0, 0, 0, 0, 0, 0, 0, 0, 0, 0, 0, 0, 0, 0, 0, 0, 0, 0, 0, 0, 0, 0, 0, 0, 0, 0, 0, 0, 0, 0, 0, 0, 0, 0, 0, 0, 0, 0, 0, 0, 0, 0, 0, 0, 0, 0, 0, 0, 0, 0, 0, 0, 0, 0, 0, 0, 0, 0, 0, 0, 0, 0, 0, 0, 0, 0, 0, 0, 0, 0, 0, 0, 0, 0, 0, 0, 0, 0, 0, 0, 0, 0, 0, 0, 0, 0, 0, 0, 0, 0, 0, 0, 0, 0, 0, 0, 0, 0, 0, 0, 0, 0, 0, 0, 0, 0, 0, 0, 0, 0, 0, 0, 0, 0, 0, 0, 0, 0, 0, 0, 0, 0, 0, 0, 0, 0, 0, 0, 0, 0, 0, 0, 0, 0, 0, 0, 0, 0, 0, 0, 0, 0, 0, 0, 0, 0, 0, 0, 0, 0, 0, 0, 0, 0, 0, 0, 0, 0, 0, 0, 0, 0, 0, 0, 0, 0, 0, 0, 0, 0, 0, 0, 0, 0, 0, 0, 0, 0, 0, 0, 0, 0, 0, 0, 0, 0, 0, 0, 0, 0, 0, 0, 0, 0, 0, 0, 0, 0, 0, 0, 0, 0, 0, 0, 0, 0, 0, 0, 0, 0, 0, 0, 0, 0, 0, 0, 0, 0, 0, 0, 0, 0, 0, 0, 0, 0, 0, 0, 0, 0, 0, 0, 0, 0, 0, 0, 0, 0, 0, 0, 0, 0, 0, 0, 0, 0, 0, 0, 0, 0, 0, 0, 0, 0, 0, 0, 0, 0, 0, 0, 0, 0, 0, 0, 0, 0, 0, 0, 0, 0, 0, 0, 0, 0, 0, 0, 0, 0, 0, 0, 0, 0, 0, 0, 0, 0, 0, 0, 0, 0, 0, 0, 0, 0, 0, 0, 0, 0, 0, 0, 0, 0, 0, 0, 0, 0, 0, 0, 0, 0, 0, 0, 0, 0, 0, 0, 0, 0, 0, 0, 0, 0, 0, 0, 0, 0, 0, 0, 0, 0, 0, 0, 0, 0, 0, 0, 0, 0, 0, 0, 0, 0, 0, 0, 0, 0, 0, 0, 0, 0, 0, 0, 0, 0, 0, 0, 0, 0, 0, 0, 0, 0, 0, 0, 0, 0, 0, 0, 0, 0, 0, 0, 0, 0, 0, 0, 0, 0, 0, 0, 0, 0, 0, 0, 0, 0, 0, 0, 0, 0, 0, 0, 0, 0, 0, 0, 0, 0, 0, 0, 0, 0, 0, 0, 0, 0, 0, 0, 0, 0, 0, 0, 0, 0, 0, 0, 0, 0, 0, 0, 0, 0, 0, 0, 0, 0, 0, 0, 0, 0, 0, 0, 0, 0, 0, 0, 0, 0, 0, 0, 0, 0, 0, 0, 0, 0, 0, 0, 0, 0, 0, 0, 0, 0, 0, 0, 0, 0, 0, 0, 0, 0, 0, 0, 0, 0, 0, 0, 0, 0, 0, 0, 0, 0, 0, 0, 0, 0, 0, 0, 0, 0, 0, 0, 0, 0, 0, 0, 0, 0, 0, 0, 0, 0, 0, 0, 0, 0, 0, 0, 0, 0, 0, 0, 0, 0, 0, 0, 0, 0, 0, 0, 0, 0, 0, 0, 0, 0, 0, 0, 0, 0, 0, 0, 0, 0, 0, 0, 0, 0, 0, 0, 0, 0, 0, 0, 0, 0, 0, 0, 0, 0, 0, 0, 0, 0, 0, 0, 0, 0, 0, 0, 0, 0, 0, 0, 0, 0, 0, 0, 0, 0, 0, 0, 0, 0, 0, 0, 0, 0, 0, 0, 0, 0, 0, 0, 0, 0, 0, 0, 0, 0, 0, 0, 0, 0, 0, 0, 0, 0, 0, 0, 0, 0, 0, 0, 0, 0, 0, 0, 0, 0, 0, 0, 0, 0, 0, 0, 0, 0, 0, 0, 0, 0, 0, 0, 0, 0, 0, 0, 0, 0, 0, 0, 0, 0, 0, 0, 0, 0, 0, 0, 0, 0, 0, 0, 0, 0, 0, 0, 0, 0, 0, 0, 0, 0, 0, 0, 0, 0, 0, 0, 0, 0, 0, 0, 0, 0, 0, 0, 0, 0, 0, 0, 0, 0, 0, 0, 0, 0, 0, 0, 0, 0, 0, 0, 0, 0, 0, 0, 0, 0, 0, 0, 0, 0, 0, 0, 0, 0, 0, 0, 0, 0, 0, 0, 0, 0, 0, 0, 0, 0, 0, 0, 0, 0, 0, 0, 0, 0, 0, 0, 0, 0, 0, 0, 0, 0, 0, 0, 0, 0, 0, 0, 0, 0, 0, 0, 0, 0, 0, 0, 0, 0, 0, 0, 0, 0, 0, 0, 0, 0, 0, 0, 0, 0, 0, 0, 0, 0, 0, 0, 0, 0, 0, 0, 0, 0, 0, 0, 0, 0, 0, 0, 0, 0, 0, 0, 0, 0, 0, 0, 0, 0, 0, 0, 0, 0, 0, 0, 0, 0, 0, 0, 0, 0, 0, 0, 0, 0, 0, 0, 0, 0, 0, 0, 0, 0, 0, 0, 0, 0, 0, 0, 0, 0, 0, 0, 0, 0, 0, 0, 0, 0, 0, 0, 0, 0, 0, 0, 0, 0, 0, 0, 0, 0, 0, 0, 0, 0, 0, 0, 0, 0, 0, 0, 0, 0, 0, 0, 0, 0, 0, 0, 0, 0, 0, 0, 0, 0, 0])\n"
          ]
        }
      ],
      "source": [
        "ct=0\n",
        "for m in ordered_dict:\n",
        "    print(m,ordered_dict[m])\n",
        "    break\n",
        "    if ct>2:\n",
        "        break\n",
        "    ct+=1"
      ]
    },
    {
      "cell_type": "code",
      "execution_count": null,
      "metadata": {
        "id": "7eHgn2CTLbxN",
        "outputId": "fb99645e-c83d-41c4-d9ba-e8810283f5f7"
      },
      "outputs": [
        {
          "data": {
            "text/plain": [
              "collections.OrderedDict"
            ]
          },
          "execution_count": 193,
          "metadata": {},
          "output_type": "execute_result"
        }
      ],
      "source": [
        "type(ordered_dict)"
      ]
    },
    {
      "cell_type": "code",
      "execution_count": null,
      "metadata": {
        "id": "Nkt8ZgGhLbxO"
      },
      "outputs": [],
      "source": []
    },
    {
      "cell_type": "code",
      "execution_count": null,
      "metadata": {
        "id": "rplMGxp5LbxO"
      },
      "outputs": [],
      "source": []
    },
    {
      "cell_type": "code",
      "execution_count": null,
      "metadata": {
        "id": "RI_PylWNLbxO"
      },
      "outputs": [],
      "source": [
        "import json"
      ]
    },
    {
      "cell_type": "code",
      "execution_count": null,
      "metadata": {
        "id": "-84PtPm_LbxO"
      },
      "outputs": [],
      "source": [
        "# Specify the file path where you want to save the JSON data\n",
        "file_path = 'merged_data.json'"
      ]
    },
    {
      "cell_type": "code",
      "execution_count": null,
      "metadata": {
        "id": "n0MQ5HYkLbxO",
        "outputId": "6659b0e7-08dc-400c-b019-1550d9bd3d86"
      },
      "outputs": [
        {
          "name": "stdout",
          "output_type": "stream",
          "text": [
            "('Data saved to JSON file:', 'merged_data.json')\n"
          ]
        }
      ],
      "source": [
        "##create json file for event\n",
        "with open(file_path, 'w') as json_file:\n",
        "    json.dump(ordered_dict, json_file)\n",
        "\n",
        "print(\"Data saved to JSON file:\", file_path)"
      ]
    },
    {
      "cell_type": "markdown",
      "metadata": {
        "id": "FdZDntryLbxO"
      },
      "source": [
        "## create json file for members"
      ]
    },
    {
      "cell_type": "code",
      "execution_count": null,
      "metadata": {
        "id": "5Bg8ejPkLbxO",
        "outputId": "4b218c66-6580-49ad-80d4-5a19a1ffd085"
      },
      "outputs": [
        {
          "name": "stdout",
          "output_type": "stream",
          "text": [
            "('Data saved to JSON file:', 'mem_merged_data.json')\n"
          ]
        }
      ],
      "source": [
        "# Specify the file path where you want to save the JSON data\n",
        "file_path = 'mem_merged_data.json'##create json file for event\n",
        "with open(file_path, 'w') as json_file:\n",
        "    json.dump(valueZero, json_file)\n",
        "\n",
        "print(\"Data saved to JSON file:\", file_path)"
      ]
    },
    {
      "cell_type": "code",
      "execution_count": null,
      "metadata": {
        "id": "aiMxkqGMLbxO",
        "outputId": "416d1702-7a60-4873-82d7-4c7906e0d15f"
      },
      "outputs": [
        {
          "name": "stdout",
          "output_type": "stream",
          "text": [
            "('Data saved to JSON file:', 'mem_event_data.json')\n"
          ]
        }
      ],
      "source": [
        "\n",
        "# Specify the file path where you want to save the JSON data\n",
        "file_path = 'mem_event_data.json'##create json file for event\n",
        "with open(file_path, 'w') as json_file:\n",
        "    json.dump(mem_event_final, json_file)\n",
        "\n",
        "print(\"Data saved to JSON file:\", file_path)"
      ]
    },
    {
      "cell_type": "code",
      "execution_count": null,
      "metadata": {
        "id": "t70XnrZOLbxO"
      },
      "outputs": [],
      "source": []
    }
  ],
  "metadata": {
    "kernelspec": {
      "display_name": "Python 2",
      "language": "python",
      "name": "python2"
    },
    "language_info": {
      "codemirror_mode": {
        "name": "ipython",
        "version": 2
      },
      "file_extension": ".py",
      "mimetype": "text/x-python",
      "name": "python",
      "nbconvert_exporter": "python",
      "pygments_lexer": "ipython2",
      "version": "2.7.16"
    },
    "colab": {
      "provenance": []
    }
  },
  "nbformat": 4,
  "nbformat_minor": 0
}